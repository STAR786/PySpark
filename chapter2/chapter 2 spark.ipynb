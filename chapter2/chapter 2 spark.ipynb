{
 "cells": [
  {
   "cell_type": "code",
   "execution_count": 1,
   "id": "58211742",
   "metadata": {},
   "outputs": [
    {
     "data": {
      "text/plain": [
       "'C:\\\\Users\\\\syed3\\\\Downloads\\\\LearningSparkV2-master\\\\LearningSparkV2-master\\\\chapter3'"
      ]
     },
     "execution_count": 1,
     "metadata": {},
     "output_type": "execute_result"
    }
   ],
   "source": [
    "pwd"
   ]
  },
  {
   "cell_type": "code",
   "execution_count": 4,
   "id": "8c11259c",
   "metadata": {},
   "outputs": [],
   "source": [
    "import findspark\n",
    "findspark.init()\n",
    "from pyspark.sql import SparkSession\n",
    "from pyspark.sql.types import *\n",
    "# Programmatic way to define a schema\n",
    "spark = (SparkSession\n",
    "    .builder\n",
    "    .appName(\"schema\")\n",
    "    .getOrCreate())\n",
    "fire_schema = StructType([StructField('CallNumber', IntegerType(), True),\n",
    "    StructField('UnitID', StringType(), True),\n",
    "    StructField('IncidentNumber', IntegerType(), True),\n",
    "    StructField('CallType', StringType(), True),\n",
    "    StructField('CallDate', StringType(), True),\n",
    "    StructField('WatchDate', StringType(), True),\n",
    "    StructField('CallFinalDisposition', StringType(), True),\n",
    "    StructField('AvailableDtTm', StringType(), True),\n",
    "    StructField('Address', StringType(), True),\n",
    "    StructField('City', StringType(), True),\n",
    "    StructField('Zipcode', IntegerType(), True),\n",
    "    StructField('Battalion', StringType(), True),\n",
    "    StructField('StationArea', StringType(), True),\n",
    "    StructField('Box', StringType(), True),\n",
    "    StructField('OriginalPriority', StringType(), True),\n",
    "    StructField('Priority', StringType(), True),\n",
    "    StructField('FinalPriority', IntegerType(), True),\n",
    "    StructField('ALSUnit', BooleanType(), True),\n",
    "    StructField('CallTypeGroup', StringType(), True),\n",
    "    StructField('NumAlarms', IntegerType(), True),\n",
    "    StructField('UnitType', StringType(), True),\n",
    "    StructField('UnitSequenceInCallDispatch', IntegerType(), True),\n",
    "    StructField('FirePreventionDistrict', StringType(), True),\n",
    "    StructField('SupervisorDistrict', StringType(), True),\n",
    "    StructField('Neighborhood', StringType(), True),\n",
    "    StructField('Location', StringType(), True),\n",
    "    StructField('RowID', StringType(), True),\n",
    "    StructField('Delay', FloatType(), True)])\n",
    "# Use the DataFrameReader interface to read a CSV file\n",
    "sf_fire_file = \"data/sf-fire-calls.csv\"\n",
    "fire_df = spark.read.csv(sf_fire_file, header=True, schema=fire_schema)"
   ]
  },
  {
   "cell_type": "code",
   "execution_count": 6,
   "id": "941c47ed",
   "metadata": {},
   "outputs": [
    {
     "data": {
      "text/plain": [
       "StructType(List(StructField(CallNumber,IntegerType,true),StructField(UnitID,StringType,true),StructField(IncidentNumber,IntegerType,true),StructField(CallType,StringType,true),StructField(CallDate,StringType,true),StructField(WatchDate,StringType,true),StructField(CallFinalDisposition,StringType,true),StructField(AvailableDtTm,StringType,true),StructField(Address,StringType,true),StructField(City,StringType,true),StructField(Zipcode,IntegerType,true),StructField(Battalion,StringType,true),StructField(StationArea,StringType,true),StructField(Box,StringType,true),StructField(OriginalPriority,StringType,true),StructField(Priority,StringType,true),StructField(FinalPriority,IntegerType,true),StructField(ALSUnit,BooleanType,true),StructField(CallTypeGroup,StringType,true),StructField(NumAlarms,IntegerType,true),StructField(UnitType,StringType,true),StructField(UnitSequenceInCallDispatch,IntegerType,true),StructField(FirePreventionDistrict,StringType,true),StructField(SupervisorDistrict,StringType,true),StructField(Neighborhood,StringType,true),StructField(Location,StringType,true),StructField(RowID,StringType,true),StructField(Delay,FloatType,true)))"
      ]
     },
     "execution_count": 6,
     "metadata": {},
     "output_type": "execute_result"
    }
   ],
   "source": [
    "fire_df.schema"
   ]
  },
  {
   "cell_type": "code",
   "execution_count": 9,
   "id": "c0c0ec61",
   "metadata": {},
   "outputs": [
    {
     "name": "stdout",
     "output_type": "stream",
     "text": [
      "+--------------+----------------------+--------------+\n",
      "|IncidentNumber|AvailableDtTm         |CallType      |\n",
      "+--------------+----------------------+--------------+\n",
      "|2003235       |01/11/2002 01:51:44 AM|Structure Fire|\n",
      "|2003250       |01/11/2002 04:16:46 AM|Vehicle Fire  |\n",
      "|2003259       |01/11/2002 06:01:58 AM|Alarms        |\n",
      "|2003279       |01/11/2002 08:03:26 AM|Structure Fire|\n",
      "|2003301       |01/11/2002 09:46:44 AM|Alarms        |\n",
      "+--------------+----------------------+--------------+\n",
      "only showing top 5 rows\n",
      "\n"
     ]
    }
   ],
   "source": [
    "# projection and filters\n",
    "from pyspark.sql.functions import *\n",
    "few_fire_df = (fire_df\n",
    " .select(\"IncidentNumber\", \"AvailableDtTm\", \"CallType\")\n",
    " .where(col(\"CallType\") != \"Medical Incident\"))\n",
    "few_fire_df.show(5, truncate=False)"
   ]
  },
  {
   "cell_type": "code",
   "execution_count": 16,
   "id": "65949712",
   "metadata": {},
   "outputs": [
    {
     "name": "stdout",
     "output_type": "stream",
     "text": [
      "+-----------------+\n",
      "|DistinctCallTypes|\n",
      "+-----------------+\n",
      "|               30|\n",
      "+-----------------+\n",
      "\n"
     ]
    }
   ],
   "source": [
    "#if we want to know how many distinct CallTypes were recorded as the causes of the fire calls\n",
    "# In Python, return number of distinct types of calls using countDistinct()\n",
    "from pyspark.sql.functions import *\n",
    "(fire_df\n",
    " .select(\"CallType\")\n",
    " .where(col(\"CallType\").isNotNull())\n",
    " .agg(countDistinct(\"CallType\").alias(\"DistinctCallTypes\"))\n",
    " .show())\n",
    "#fire_df.printSchema()"
   ]
  },
  {
   "cell_type": "code",
   "execution_count": 17,
   "id": "62e976ff",
   "metadata": {
    "scrolled": true
   },
   "outputs": [
    {
     "name": "stdout",
     "output_type": "stream",
     "text": [
      "+-----------------------------+\n",
      "|CallType                     |\n",
      "+-----------------------------+\n",
      "|Elevator / Escalator Rescue  |\n",
      "|Marine Fire                  |\n",
      "|Aircraft Emergency           |\n",
      "|Administrative               |\n",
      "|Alarms                       |\n",
      "|Odor (Strange / Unknown)     |\n",
      "|Citizen Assist / Service Call|\n",
      "|HazMat                       |\n",
      "|Watercraft in Distress       |\n",
      "|Explosion                    |\n",
      "+-----------------------------+\n",
      "only showing top 10 rows\n",
      "\n"
     ]
    }
   ],
   "source": [
    "(fire_df\n",
    " .select(\"CallType\")\n",
    " .where(col(\"CallType\").isNotNull())\n",
    " .distinct()\n",
    " .show(10, False))"
   ]
  },
  {
   "cell_type": "markdown",
   "id": "fd1a92ab",
   "metadata": {},
   "source": [
    "## Because DataFrame transformations are immutable, when werename a column using withColumnRenamed() we get a new Data‐Frame while retaining the original with the old column name"
   ]
  },
  {
   "cell_type": "markdown",
   "id": "1ff76304",
   "metadata": {},
   "source": [
    "## Q-3) Find out all response or delayed times greater than 5 mins?\n",
    "\n",
    "Rename the column Delay - > ReponseDelayedinMins\n",
    "\n",
    "Returns a new DataFrame \n",
    "\n",
    "Find out all calls where the response time to the fire site was delayed for more than 5 mins"
   ]
  },
  {
   "cell_type": "code",
   "execution_count": 18,
   "id": "1df50b57",
   "metadata": {},
   "outputs": [
    {
     "name": "stdout",
     "output_type": "stream",
     "text": [
      "+---------------------+\n",
      "|ResponseDelayedinMins|\n",
      "+---------------------+\n",
      "|5.35                 |\n",
      "|6.25                 |\n",
      "|5.2                  |\n",
      "|5.6                  |\n",
      "|7.25                 |\n",
      "+---------------------+\n",
      "only showing top 5 rows\n",
      "\n"
     ]
    }
   ],
   "source": [
    "#renaming\n",
    "new_fire_df = fire_df.withColumnRenamed(\"Delay\", \"ResponseDelayedinMins\")\n",
    "(new_fire_df\n",
    " .select(\"ResponseDelayedinMins\")\n",
    " .where(col(\"ResponseDelayedinMins\") > 5)\n",
    " .show(5, False))"
   ]
  },
  {
   "cell_type": "code",
   "execution_count": 19,
   "id": "333d3229",
   "metadata": {
    "collapsed": true
   },
   "outputs": [
    {
     "name": "stdout",
     "output_type": "stream",
     "text": [
      "root\n",
      " |-- CallNumber: integer (nullable = true)\n",
      " |-- UnitID: string (nullable = true)\n",
      " |-- IncidentNumber: integer (nullable = true)\n",
      " |-- CallType: string (nullable = true)\n",
      " |-- CallDate: string (nullable = true)\n",
      " |-- WatchDate: string (nullable = true)\n",
      " |-- CallFinalDisposition: string (nullable = true)\n",
      " |-- AvailableDtTm: string (nullable = true)\n",
      " |-- Address: string (nullable = true)\n",
      " |-- City: string (nullable = true)\n",
      " |-- Zipcode: integer (nullable = true)\n",
      " |-- Battalion: string (nullable = true)\n",
      " |-- StationArea: string (nullable = true)\n",
      " |-- Box: string (nullable = true)\n",
      " |-- OriginalPriority: string (nullable = true)\n",
      " |-- Priority: string (nullable = true)\n",
      " |-- FinalPriority: integer (nullable = true)\n",
      " |-- ALSUnit: boolean (nullable = true)\n",
      " |-- CallTypeGroup: string (nullable = true)\n",
      " |-- NumAlarms: integer (nullable = true)\n",
      " |-- UnitType: string (nullable = true)\n",
      " |-- UnitSequenceInCallDispatch: integer (nullable = true)\n",
      " |-- FirePreventionDistrict: string (nullable = true)\n",
      " |-- SupervisorDistrict: string (nullable = true)\n",
      " |-- Neighborhood: string (nullable = true)\n",
      " |-- Location: string (nullable = true)\n",
      " |-- RowID: string (nullable = true)\n",
      " |-- ResponseDelayedinMins: float (nullable = true)\n",
      "\n"
     ]
    }
   ],
   "source": [
    "new_fire_df.printSchema()"
   ]
  },
  {
   "cell_type": "markdown",
   "id": "fb0e76fb",
   "metadata": {},
   "source": [
    "##Let's do some ETL:\n",
    "\n",
    "Transform the string dates to Spark Timestamp data type so we can make some time-based queries later <br>\n",
    "Returns a transformed query<br>\n",
    "Cache the new DataFram"
   ]
  },
  {
   "cell_type": "code",
   "execution_count": 25,
   "id": "f6f44239",
   "metadata": {},
   "outputs": [
    {
     "name": "stdout",
     "output_type": "stream",
     "text": [
      "+-------------------+-------------------+-------------------+\n",
      "|IncidentDate       |OnWatchDate        |AvailableDtTS      |\n",
      "+-------------------+-------------------+-------------------+\n",
      "|2002-01-11 00:00:00|2002-01-10 00:00:00|2002-01-11 01:51:44|\n",
      "|2002-01-11 00:00:00|2002-01-10 00:00:00|2002-01-11 03:01:18|\n",
      "|2002-01-11 00:00:00|2002-01-10 00:00:00|2002-01-11 02:39:50|\n",
      "|2002-01-11 00:00:00|2002-01-10 00:00:00|2002-01-11 04:16:46|\n",
      "|2002-01-11 00:00:00|2002-01-10 00:00:00|2002-01-11 06:01:58|\n",
      "+-------------------+-------------------+-------------------+\n",
      "only showing top 5 rows\n",
      "\n"
     ]
    }
   ],
   "source": [
    "# drop and renaming column\n",
    "fire_ts_df = (new_fire_df\n",
    " .withColumn(\"IncidentDate\", to_timestamp(col(\"CallDate\"), \"MM/dd/yyyy\"))\n",
    " .drop(\"CallDate\")\n",
    " .withColumn(\"OnWatchDate\", to_timestamp(col(\"WatchDate\"), \"MM/dd/yyyy\"))\n",
    " .drop(\"WatchDate\")\n",
    " .withColumn(\"AvailableDtTS\", to_timestamp(col(\"AvailableDtTm\"),\n",
    " \"MM/dd/yyyy hh:mm:ss a\"))\n",
    " .drop(\"AvailableDtTm\"))\n",
    "\n",
    "fire_ts_df.cache()\n",
    "fire_ts_df.columns\n",
    "\n",
    "(fire_ts_df\n",
    " .select(\"IncidentDate\", \"OnWatchDate\", \"AvailableDtTS\")\n",
    " .show(5, False))"
   ]
  },
  {
   "cell_type": "code",
   "execution_count": 22,
   "id": "ca4a56e8",
   "metadata": {
    "collapsed": true
   },
   "outputs": [
    {
     "name": "stdout",
     "output_type": "stream",
     "text": [
      "root\n",
      " |-- CallNumber: integer (nullable = true)\n",
      " |-- UnitID: string (nullable = true)\n",
      " |-- IncidentNumber: integer (nullable = true)\n",
      " |-- CallType: string (nullable = true)\n",
      " |-- CallFinalDisposition: string (nullable = true)\n",
      " |-- Address: string (nullable = true)\n",
      " |-- City: string (nullable = true)\n",
      " |-- Zipcode: integer (nullable = true)\n",
      " |-- Battalion: string (nullable = true)\n",
      " |-- StationArea: string (nullable = true)\n",
      " |-- Box: string (nullable = true)\n",
      " |-- OriginalPriority: string (nullable = true)\n",
      " |-- Priority: string (nullable = true)\n",
      " |-- FinalPriority: integer (nullable = true)\n",
      " |-- ALSUnit: boolean (nullable = true)\n",
      " |-- CallTypeGroup: string (nullable = true)\n",
      " |-- NumAlarms: integer (nullable = true)\n",
      " |-- UnitType: string (nullable = true)\n",
      " |-- UnitSequenceInCallDispatch: integer (nullable = true)\n",
      " |-- FirePreventionDistrict: string (nullable = true)\n",
      " |-- SupervisorDistrict: string (nullable = true)\n",
      " |-- Neighborhood: string (nullable = true)\n",
      " |-- Location: string (nullable = true)\n",
      " |-- RowID: string (nullable = true)\n",
      " |-- ResponseDelayedinMins: float (nullable = true)\n",
      " |-- IncidentDate: timestamp (nullable = true)\n",
      " |-- OnWatchDate: timestamp (nullable = true)\n",
      " |-- AvailableDtTS: timestamp (nullable = true)\n",
      "\n"
     ]
    }
   ],
   "source": [
    "fire_ts_df.printSchema()"
   ]
  },
  {
   "cell_type": "code",
   "execution_count": 23,
   "id": "013420d5",
   "metadata": {},
   "outputs": [
    {
     "name": "stdout",
     "output_type": "stream",
     "text": [
      "+-------------------------------+------+\n",
      "|CallType                       |count |\n",
      "+-------------------------------+------+\n",
      "|Medical Incident               |113794|\n",
      "|Structure Fire                 |23319 |\n",
      "|Alarms                         |19406 |\n",
      "|Traffic Collision              |7013  |\n",
      "|Citizen Assist / Service Call  |2524  |\n",
      "|Other                          |2166  |\n",
      "|Outside Fire                   |2094  |\n",
      "|Vehicle Fire                   |854   |\n",
      "|Gas Leak (Natural and LP Gases)|764   |\n",
      "|Water Rescue                   |755   |\n",
      "+-------------------------------+------+\n",
      "only showing top 10 rows\n",
      "\n"
     ]
    }
   ],
   "source": [
    "# aggregate (groupBy(),count())\n",
    "#what were the most common types of fire calls?\n",
    "(fire_ts_df\n",
    " .select(\"CallType\")\n",
    " .where(col(\"CallType\").isNotNull())\n",
    " .groupBy(\"CallType\")\n",
    " .count()\n",
    " .orderBy(\"count\", ascending=False)\n",
    " .show(n=10, truncate=False))"
   ]
  },
  {
   "cell_type": "code",
   "execution_count": 24,
   "id": "ee466fa4",
   "metadata": {},
   "outputs": [
    {
     "name": "stdout",
     "output_type": "stream",
     "text": [
      "+--------------+--------------------------+--------------------------+--------------------------+\n",
      "|sum(NumAlarms)|avg(ResponseDelayedinMins)|min(ResponseDelayedinMins)|max(ResponseDelayedinMins)|\n",
      "+--------------+--------------------------+--------------------------+--------------------------+\n",
      "|        176170|         3.892364154521585|               0.016666668|                   1844.55|\n",
      "+--------------+--------------------------+--------------------------+--------------------------+\n",
      "\n"
     ]
    }
   ],
   "source": [
    "#Here we compute the sum of alarms, the average response time, and the minimum\n",
    "#and maximum response times to all fire calls \n",
    "# In Python\n",
    "import pyspark.sql.functions as F\n",
    "(fire_ts_df\n",
    " .select(F.sum(\"NumAlarms\"), F.avg(\"ResponseDelayedinMins\"),\n",
    " F.min(\"ResponseDelayedinMins\"), F.max(\"ResponseDelayedinMins\"))\n",
    " .show())"
   ]
  },
  {
   "cell_type": "markdown",
   "id": "c47af1f1",
   "metadata": {},
   "source": [
    "## Q-4a) What zip codes accounted for most common calls?\n",
    "\n",
    "Let's investigate what zip codes in San Francisco accounted for most fire calls and what type where they.<br>\n",
    "\n",
    "Filter out by CallType<br>\n",
    "Group them by CallType and Zip code <br>\n",
    "Count them and display them in descending order<br>\n",
    "It seems like the most common calls were all related to Medical Incident, and<br>the two zip codes are 94102 and 94103."
   ]
  },
  {
   "cell_type": "code",
   "execution_count": 28,
   "id": "0143f931",
   "metadata": {},
   "outputs": [
    {
     "name": "stdout",
     "output_type": "stream",
     "text": [
      "+----------------+-------+-----+\n",
      "|CallType        |Zipcode|count|\n",
      "+----------------+-------+-----+\n",
      "|Medical Incident|94102  |16130|\n",
      "|Medical Incident|94103  |14775|\n",
      "|Medical Incident|94110  |9995 |\n",
      "|Medical Incident|94109  |9479 |\n",
      "|Medical Incident|94124  |5885 |\n",
      "|Medical Incident|94112  |5630 |\n",
      "|Medical Incident|94115  |4785 |\n",
      "|Medical Incident|94122  |4323 |\n",
      "|Medical Incident|94107  |4284 |\n",
      "|Medical Incident|94133  |3977 |\n",
      "+----------------+-------+-----+\n",
      "only showing top 10 rows\n",
      "\n"
     ]
    }
   ],
   "source": [
    "(fire_ts_df\n",
    " .select(\"CallType\", \"ZipCode\")\n",
    " .where(col(\"CallType\").isNotNull())\n",
    " .groupBy(\"CallType\", \"Zipcode\")\n",
    " .count()\n",
    " .orderBy(\"count\", ascending=False)\n",
    " .show(10, truncate=False))"
   ]
  },
  {
   "cell_type": "markdown",
   "id": "0216af88",
   "metadata": {},
   "source": [
    "## Q-4b) What San Francisco neighborhoods are in the zip codes 94102 and 94103\n",
    "<br>\n",
    "Let's find out the neighborhoods associated with these two zip codes. In all<br> likelihood, these are some of the contested neighborhood with high reported crimes."
   ]
  },
  {
   "cell_type": "code",
   "execution_count": 29,
   "id": "2ed455ea",
   "metadata": {},
   "outputs": [
    {
     "name": "stdout",
     "output_type": "stream",
     "text": [
      "+------------------------------+-------+\n",
      "|Neighborhood                  |Zipcode|\n",
      "+------------------------------+-------+\n",
      "|Potrero Hill                  |94103  |\n",
      "|Western Addition              |94102  |\n",
      "|Tenderloin                    |94102  |\n",
      "|Nob Hill                      |94102  |\n",
      "|Castro/Upper Market           |94103  |\n",
      "|South of Market               |94102  |\n",
      "|South of Market               |94103  |\n",
      "|Hayes Valley                  |94103  |\n",
      "|Financial District/South Beach|94102  |\n",
      "|Mission Bay                   |94103  |\n",
      "+------------------------------+-------+\n",
      "only showing top 10 rows\n",
      "\n"
     ]
    }
   ],
   "source": [
    "fire_ts_df.select(\"Neighborhood\", \"Zipcode\").where((col(\"Zipcode\") == 94102) |\n",
    "                                                   (col(\"Zipcode\") == 94103)).distinct().show(10, truncate=False)"
   ]
  },
  {
   "cell_type": "markdown",
   "id": "9a0b800d",
   "metadata": {},
   "source": [
    "## Q-5) What was the sum of all calls, average, min and max of the response times for calls?\n",
    "\n",
    "Let's use the built-in Spark SQL functions to compute the sum, avg, min, and max of few columns:<br>\n",
    "\n",
    "Number of Total Alarms<br>\n",
    "What were the min and max the delay in response time before the Fire Dept<br>\n",
    "arrived at the scene of the call"
   ]
  },
  {
   "cell_type": "code",
   "execution_count": 30,
   "id": "c4deed07",
   "metadata": {},
   "outputs": [
    {
     "name": "stdout",
     "output_type": "stream",
     "text": [
      "+--------------+--------------------------+--------------------------+--------------------------+\n",
      "|sum(NumAlarms)|avg(ResponseDelayedinMins)|min(ResponseDelayedinMins)|max(ResponseDelayedinMins)|\n",
      "+--------------+--------------------------+--------------------------+--------------------------+\n",
      "|        176170|         3.892364154521585|               0.016666668|                   1844.55|\n",
      "+--------------+--------------------------+--------------------------+--------------------------+\n",
      "\n"
     ]
    }
   ],
   "source": [
    "fire_ts_df.select(sum(\"NumAlarms\"), avg(\"ResponseDelayedinMins\"), \n",
    "    min(\"ResponseDelayedinMins\"), max(\"ResponseDelayedinMins\")).show()"
   ]
  },
  {
   "cell_type": "markdown",
   "id": "9971bffc",
   "metadata": {},
   "source": [
    "##  Q-6a) How many distinct years of data is in the CSV file?<br>\n",
    "We can use the year() SQL Spark function off the Timestamp column data type IncidentDate.<br>\n",
    "\n",
    "In all, we have fire calls from years 2000-2018 "
   ]
  },
  {
   "cell_type": "code",
   "execution_count": 35,
   "id": "694a5d82",
   "metadata": {},
   "outputs": [
    {
     "name": "stdout",
     "output_type": "stream",
     "text": [
      "+------------------+\n",
      "|year(IncidentDate)|\n",
      "+------------------+\n",
      "|              2000|\n",
      "|              2001|\n",
      "|              2002|\n",
      "|              2003|\n",
      "|              2004|\n",
      "|              2005|\n",
      "|              2006|\n",
      "|              2007|\n",
      "|              2008|\n",
      "|              2009|\n",
      "|              2010|\n",
      "|              2011|\n",
      "|              2012|\n",
      "|              2013|\n",
      "|              2014|\n",
      "|              2015|\n",
      "|              2016|\n",
      "|              2017|\n",
      "|              2018|\n",
      "+------------------+\n",
      "\n"
     ]
    }
   ],
   "source": [
    "fire_ts_df.select(year(\"IncidentDate\")).distinct().orderBy(year(\"IncidentDate\")).show()"
   ]
  },
  {
   "cell_type": "markdown",
   "id": "e7b96f29",
   "metadata": {},
   "source": [
    "## Q-6b) What week of the year in 2018 had the most fire calls?**<br>\n",
    "Note: Week 1 is the New Years' week and week 25 is the July 4 the week. Loads of fireworks, so it makes sense the higher number of calls."
   ]
  },
  {
   "cell_type": "code",
   "execution_count": 43,
   "id": "6892c798",
   "metadata": {
    "collapsed": true
   },
   "outputs": [
    {
     "name": "stdout",
     "output_type": "stream",
     "text": [
      "+------------------------+-----+\n",
      "|weekofyear(IncidentDate)|count|\n",
      "+------------------------+-----+\n",
      "|                      22|  259|\n",
      "|                      40|  255|\n",
      "|                      43|  250|\n",
      "|                      25|  249|\n",
      "|                       1|  246|\n",
      "|                      44|  244|\n",
      "|                      13|  243|\n",
      "|                      32|  243|\n",
      "|                      11|  240|\n",
      "|                       5|  236|\n",
      "|                      18|  236|\n",
      "|                      23|  235|\n",
      "|                      31|  234|\n",
      "|                       2|  234|\n",
      "|                      42|  234|\n",
      "|                      19|  233|\n",
      "|                      34|  232|\n",
      "|                       8|  232|\n",
      "|                      10|  232|\n",
      "|                      21|  231|\n",
      "+------------------------+-----+\n",
      "only showing top 20 rows\n",
      "\n"
     ]
    }
   ],
   "source": [
    "fire_ts_df.filter(\n",
    "year(\"IncidentDate\") ==2018).groupBy(weekofyear(\"IncidentDate\")).count().orderBy(\n",
    "\"count\",ascending=False).show()"
   ]
  },
  {
   "cell_type": "markdown",
   "id": "16486dc4",
   "metadata": {},
   "source": [
    "## ** Q-7) What neighborhoods in San Francisco had the worst response time in 2018?**<BR>\n",
    "\n",
    "It appears that if you living in Presidio Heights, the Fire Dept arrived in less than 3 mins, while Mission Bay took more than 6 mins."
   ]
  },
  {
   "cell_type": "code",
   "execution_count": 50,
   "id": "4d368470",
   "metadata": {},
   "outputs": [
    {
     "name": "stdout",
     "output_type": "stream",
     "text": [
      "+------------------------------+---------------------+\n",
      "|Neighborhood                  |ResponseDelayedinMins|\n",
      "+------------------------------+---------------------+\n",
      "|Chinatown                     |491.26666            |\n",
      "|Financial District/South Beach|406.63333            |\n",
      "|Tenderloin                    |340.48334            |\n",
      "|Haight Ashbury                |175.86667            |\n",
      "|Bayview Hunters Point         |155.8                |\n",
      "|Financial District/South Beach|135.51666            |\n",
      "|Pacific Heights               |129.01666            |\n",
      "|Potrero Hill                  |109.8                |\n",
      "|Inner Sunset                  |106.13333            |\n",
      "|South of Market               |94.71667             |\n",
      "+------------------------------+---------------------+\n",
      "only showing top 10 rows\n",
      "\n"
     ]
    }
   ],
   "source": [
    "fire_ts_df.select(\"Neighborhood\", \"ResponseDelayedinMins\").filter(\n",
    "year(\"IncidentDate\")== 2018).where(col(\"ResponseDelayedinMins\") > 5).orderBy('ResponseDelayedinMins',ascending=False).show(10, False)"
   ]
  },
  {
   "cell_type": "code",
   "execution_count": 53,
   "id": "e8811527",
   "metadata": {
    "collapsed": true
   },
   "outputs": [
    {
     "ename": "SyntaxError",
     "evalue": "invalid syntax (Temp/ipykernel_6296/2191993274.py, line 1)",
     "output_type": "error",
     "traceback": [
      "\u001b[1;36m  File \u001b[1;32m\"C:\\Users\\syed3\\AppData\\Local\\Temp/ipykernel_6296/2191993274.py\"\u001b[1;36m, line \u001b[1;32m1\u001b[0m\n\u001b[1;33m    fire_df.explain().\u001b[0m\n\u001b[1;37m                      ^\u001b[0m\n\u001b[1;31mSyntaxError\u001b[0m\u001b[1;31m:\u001b[0m invalid syntax\n"
     ]
    }
   ],
   "source": [
    "fire_df.explain()"
   ]
  }
 ],
 "metadata": {
  "kernelspec": {
   "display_name": "Python 3 (ipykernel)",
   "language": "python",
   "name": "python3"
  },
  "language_info": {
   "codemirror_mode": {
    "name": "ipython",
    "version": 3
   },
   "file_extension": ".py",
   "mimetype": "text/x-python",
   "name": "python",
   "nbconvert_exporter": "python",
   "pygments_lexer": "ipython3",
   "version": "3.9.7"
  }
 },
 "nbformat": 4,
 "nbformat_minor": 5
}
