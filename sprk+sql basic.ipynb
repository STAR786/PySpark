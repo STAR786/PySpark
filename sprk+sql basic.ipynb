{
 "cells": [
  {
   "cell_type": "markdown",
   "id": "3eb182d0",
   "metadata": {},
   "source": [
    "# RDD"
   ]
  },
  {
   "cell_type": "code",
   "execution_count": 4,
   "id": "fad4fc96",
   "metadata": {},
   "outputs": [],
   "source": [
    "bc = range(1000)"
   ]
  },
  {
   "cell_type": "code",
   "execution_count": 5,
   "id": "17c15d9e",
   "metadata": {},
   "outputs": [],
   "source": [
    "rdd =sc.parallelize(bc,2)"
   ]
  },
  {
   "cell_type": "code",
   "execution_count": 6,
   "id": "a03c1d67",
   "metadata": {},
   "outputs": [],
   "source": [
    "odds = rdd.filter(lambda x:x%2 !=0)"
   ]
  },
  {
   "cell_type": "code",
   "execution_count": 7,
   "id": "aa4aa582",
   "metadata": {},
   "outputs": [
    {
     "data": {
      "text/plain": [
       "[1, 3, 5, 7, 9]"
      ]
     },
     "execution_count": 7,
     "metadata": {},
     "output_type": "execute_result"
    }
   ],
   "source": [
    "odds.take(5)"
   ]
  },
  {
   "cell_type": "code",
   "execution_count": 1,
   "id": "ff8f1edb",
   "metadata": {},
   "outputs": [
    {
     "name": "stdout",
     "output_type": "stream",
     "text": [
      "Collecting findspark\n",
      "  Downloading findspark-2.0.1-py2.py3-none-any.whl (4.4 kB)\n",
      "Installing collected packages: findspark\n",
      "Successfully installed findspark-2.0.1\n",
      "Note: you may need to restart the kernel to use updated packages.\n"
     ]
    }
   ],
   "source": [
    "# this is to find the spark application in notebook \n",
    "pip install findspark"
   ]
  },
  {
   "cell_type": "code",
   "execution_count": 1,
   "id": "a75ddf6e",
   "metadata": {},
   "outputs": [],
   "source": [
    "# IMPORT FIND_SPARK before starting spark session in *(JUPYTER_NOTEBOOK)\n",
    ">>> import findspark\n",
    ">>> findspark.init()\n",
    ">>> import pyspark\n",
    ">>> from pyspark import SparkContext, SparkConf\n",
    ">>> conf = SparkConf().setMaster(\"local[*]\")\n",
    ">>> sc = SparkContext(conf=conf)"
   ]
  },
  {
   "cell_type": "code",
   "execution_count": 2,
   "id": "490f6e6f",
   "metadata": {},
   "outputs": [
    {
     "data": {
      "text/plain": [
       "385"
      ]
     },
     "execution_count": 2,
     "metadata": {},
     "output_type": "execute_result"
    }
   ],
   "source": [
    "sc.parallelize([1, 2, 3, 4, 5, 6, 7, 8, 9, 10],4).map(lambda x: x**2).sum()"
   ]
  },
  {
   "cell_type": "code",
   "execution_count": 6,
   "id": "3addc452",
   "metadata": {},
   "outputs": [],
   "source": [
    "sc.stop()"
   ]
  },
  {
   "cell_type": "code",
   "execution_count": 3,
   "id": "3380499a",
   "metadata": {},
   "outputs": [],
   "source": [
    "dc = range(1000)"
   ]
  },
  {
   "cell_type": "code",
   "execution_count": 4,
   "id": "bf283c2f",
   "metadata": {},
   "outputs": [],
   "source": [
    "c =sc.parallelize(dc,2)"
   ]
  },
  {
   "cell_type": "code",
   "execution_count": 3,
   "id": "308f5105",
   "metadata": {},
   "outputs": [],
   "source": [
    "#pyspark.SparkContext('local[*]')"
   ]
  },
  {
   "cell_type": "code",
   "execution_count": 5,
   "id": "15de2112",
   "metadata": {},
   "outputs": [],
   "source": [
    "nums =[1,2,3,4]\n",
    "rdd = sc.parallelize(nums)\n",
    "sq = rdd.map(lambda x:x*x).collect()"
   ]
  },
  {
   "cell_type": "code",
   "execution_count": 9,
   "id": "a6075e8a",
   "metadata": {},
   "outputs": [
    {
     "name": "stdout",
     "output_type": "stream",
     "text": [
      "1\n",
      "4\n",
      "9\n",
      "16\n"
     ]
    }
   ],
   "source": [
    "for num in sq:\n",
    "    print(num)"
   ]
  },
  {
   "cell_type": "code",
   "execution_count": 10,
   "id": "91663118",
   "metadata": {},
   "outputs": [
    {
     "data": {
      "text/plain": [
       "pyspark.rdd.RDD"
      ]
     },
     "execution_count": 10,
     "metadata": {},
     "output_type": "execute_result"
    }
   ],
   "source": [
    "type(rdd)"
   ]
  },
  {
   "cell_type": "code",
   "execution_count": 2,
   "id": "5e53c50f",
   "metadata": {},
   "outputs": [],
   "source": [
    "import findspark\n",
    "findspark.init()\n",
    "from pyspark.sql import SparkSession\n",
    "from pyspark import SparkContext\n",
    "from pyspark.sql.functions import count"
   ]
  },
  {
   "cell_type": "code",
   "execution_count": 3,
   "id": "f5cff468",
   "metadata": {},
   "outputs": [],
   "source": [
    "spark = (SparkSession.builder.appName('Totalorder').getOrCreate())"
   ]
  },
  {
   "cell_type": "code",
   "execution_count": 4,
   "id": "3824e511",
   "metadata": {},
   "outputs": [
    {
     "data": {
      "text/plain": [
       "pyspark.sql.session.SparkSession"
      ]
     },
     "execution_count": 4,
     "metadata": {},
     "output_type": "execute_result"
    }
   ],
   "source": [
    "type(spark)"
   ]
  },
  {
   "cell_type": "code",
   "execution_count": 11,
   "id": "f6f8f046",
   "metadata": {},
   "outputs": [],
   "source": [
    "sales ='csv spark\\sales_records.csv'\n",
    "\n",
    "sales_df = (spark.read.format('csv').option('header','true').option(\"inferSchema\",\"true\").load(sales))"
   ]
  },
  {
   "cell_type": "code",
   "execution_count": 12,
   "id": "2a9939b4",
   "metadata": {
    "collapsed": true
   },
   "outputs": [
    {
     "name": "stdout",
     "output_type": "stream",
     "text": [
      "+---------------------------------+---------------------+---------+\n",
      "|Region                           |Country              |Order ID |\n",
      "+---------------------------------+---------------------+---------+\n",
      "|Middle East and North Africa     |Azerbaijan           |535113847|\n",
      "|Central America and the Caribbean|Panama               |874708545|\n",
      "|Sub-Saharan Africa               |Sao Tome and Principe|854349935|\n",
      "|Sub-Saharan Africa               |Sao Tome and Principe|892836844|\n",
      "|Central America and the Caribbean|Belize               |129280602|\n",
      "|Europe                           |Denmark              |473105037|\n",
      "|Europe                           |Germany              |754046475|\n",
      "|Middle East and North Africa     |Turkey               |772153747|\n",
      "|Europe                           |United Kingdom       |847788178|\n",
      "|Asia                             |Kazakhstan           |471623599|\n",
      "+---------------------------------+---------------------+---------+\n",
      "only showing top 10 rows\n",
      "\n"
     ]
    }
   ],
   "source": [
    "sales_df.select('Region','Country','Order ID').show(n=10,truncate = False)"
   ]
  },
  {
   "cell_type": "code",
   "execution_count": 14,
   "id": "0d091d4d",
   "metadata": {},
   "outputs": [
    {
     "data": {
      "text/plain": [
       "pyspark.sql.dataframe.DataFrame"
      ]
     },
     "execution_count": 14,
     "metadata": {},
     "output_type": "execute_result"
    }
   ],
   "source": [
    "type(sales_df)"
   ]
  },
  {
   "cell_type": "code",
   "execution_count": 50,
   "id": "ecece5fb",
   "metadata": {},
   "outputs": [],
   "source": [
    "count_sales = (sales_df.select('Region','Country','Order ID')\n",
    "               .groupBy('Region','Country')\n",
    "               .agg(count('Order ID')\n",
    "               .alias('Total Orders'))# see these double parenthesis thts what u were doing wrong stupid\n",
    "               .orderBy('Total Orders',ascending =False))"
   ]
  },
  {
   "cell_type": "code",
   "execution_count": 51,
   "id": "ae391cc6",
   "metadata": {
    "collapsed": true
   },
   "outputs": [
    {
     "name": "stdout",
     "output_type": "stream",
     "text": [
      "+---------------------------------+-------------+------------+\n",
      "|Region                           |Country      |Total Orders|\n",
      "+---------------------------------+-------------+------------+\n",
      "|Sub-Saharan Africa               |Sudan        |623         |\n",
      "|Australia and Oceania            |New Zealand  |593         |\n",
      "|Europe                           |Vatican City |590         |\n",
      "|Europe                           |Malta        |589         |\n",
      "|Sub-Saharan Africa               |Mozambique   |589         |\n",
      "|Middle East and North Africa     |Tunisia      |584         |\n",
      "|Asia                             |Cambodia     |584         |\n",
      "|Central America and the Caribbean|Panama       |578         |\n",
      "|Sub-Saharan Africa               |Rwanda       |576         |\n",
      "|Sub-Saharan Africa               |Cote d'Ivoire|575         |\n",
      "+---------------------------------+-------------+------------+\n",
      "only showing top 10 rows\n",
      "\n",
      "Total rows =  185\n"
     ]
    }
   ],
   "source": [
    "count_sales.show(n=10,truncate = False)\n",
    "print('Total rows = ',count_sales.count())"
   ]
  },
  {
   "cell_type": "code",
   "execution_count": 1,
   "id": "69425c1c",
   "metadata": {},
   "outputs": [],
   "source": [
    "import findspark\n",
    "findspark.init()\n",
    "from pyspark import SparkContext\n",
    "from pyspark.sql import SparkSession\n",
    "#SparkContext.setSystemProperty('spark.executor.memory', '2g')\n",
    "spark = (SparkSession.builder.appName('TestingRDDs').getOrCreate())"
   ]
  },
  {
   "cell_type": "code",
   "execution_count": 7,
   "id": "2ccef491",
   "metadata": {},
   "outputs": [],
   "source": [
    "words_list ='sparks is heavy hard is complex'.split(' ')"
   ]
  },
  {
   "cell_type": "code",
   "execution_count": 8,
   "id": "a4c9c13a",
   "metadata": {},
   "outputs": [],
   "source": [
    "wrd_rdd = spark.sparkContext.parallelize(words_list)"
   ]
  },
  {
   "cell_type": "code",
   "execution_count": 5,
   "id": "09970a3e",
   "metadata": {},
   "outputs": [],
   "source": [
    "words_data = wrd_rdd.collect()"
   ]
  },
  {
   "cell_type": "code",
   "execution_count": 6,
   "id": "b6d09632",
   "metadata": {
    "collapsed": true
   },
   "outputs": [
    {
     "name": "stdout",
     "output_type": "stream",
     "text": [
      "sparks\n",
      "is\n",
      "heavy\n",
      "hard\n",
      "is\n",
      "complex\n"
     ]
    }
   ],
   "source": [
    "for words in words_data:\n",
    "    print(words)"
   ]
  },
  {
   "cell_type": "code",
   "execution_count": 7,
   "id": "8a6c5eab",
   "metadata": {},
   "outputs": [
    {
     "data": {
      "text/plain": [
       "6"
      ]
     },
     "execution_count": 7,
     "metadata": {},
     "output_type": "execute_result"
    }
   ],
   "source": [
    "wrd_rdd.count()"
   ]
  },
  {
   "cell_type": "code",
   "execution_count": 21,
   "id": "bee1111a",
   "metadata": {
    "collapsed": true
   },
   "outputs": [
    {
     "ename": "AttributeError",
     "evalue": "'RDD' object has no attribute 'pop'",
     "output_type": "error",
     "traceback": [
      "\u001b[1;31m---------------------------------------------------------------------------\u001b[0m",
      "\u001b[1;31mAttributeError\u001b[0m                            Traceback (most recent call last)",
      "\u001b[1;32m~\\AppData\\Local\\Temp/ipykernel_10104/1185083591.py\u001b[0m in \u001b[0;36m<module>\u001b[1;34m\u001b[0m\n\u001b[1;32m----> 1\u001b[1;33m \u001b[0mwrd_rdd\u001b[0m\u001b[1;33m.\u001b[0m\u001b[0mpop\u001b[0m\u001b[1;33m(\u001b[0m\u001b[1;33m)\u001b[0m\u001b[1;33m\u001b[0m\u001b[1;33m\u001b[0m\u001b[0m\n\u001b[0m",
      "\u001b[1;31mAttributeError\u001b[0m: 'RDD' object has no attribute 'pop'"
     ]
    }
   ],
   "source": [
    "wrd_rdd.pop()# immutable rdds"
   ]
  },
  {
   "cell_type": "code",
   "execution_count": 20,
   "id": "3543d9dd",
   "metadata": {
    "scrolled": true
   },
   "outputs": [
    {
     "data": {
      "text/plain": [
       "5"
      ]
     },
     "execution_count": 20,
     "metadata": {},
     "output_type": "execute_result"
    }
   ],
   "source": [
    "wrd_rdd.distinct().count()"
   ]
  },
  {
   "cell_type": "code",
   "execution_count": 14,
   "id": "268d1907",
   "metadata": {
    "scrolled": true
   },
   "outputs": [
    {
     "name": "stdout",
     "output_type": "stream",
     "text": [
      "sparks\n",
      "is\n",
      "heavy\n",
      "hard\n",
      "is\n",
      "complex\n"
     ]
    }
   ],
   "source": [
    "wrds_data = wrd_rdd.collect()\n",
    "for i in wrds_data:\n",
    "    print(i)"
   ]
  },
  {
   "cell_type": "code",
   "execution_count": 8,
   "id": "e6b51c3e",
   "metadata": {},
   "outputs": [],
   "source": [
    "def strtwith(word,letter):\n",
    "    return word.startswith(letter)"
   ]
  },
  {
   "cell_type": "code",
   "execution_count": 9,
   "id": "4e2b65ec",
   "metadata": {},
   "outputs": [
    {
     "data": {
      "text/plain": [
       "True"
      ]
     },
     "execution_count": 9,
     "metadata": {},
     "output_type": "execute_result"
    }
   ],
   "source": [
    "strtwith('stt','s')"
   ]
  },
  {
   "cell_type": "code",
   "execution_count": 14,
   "id": "eb56a292",
   "metadata": {
    "scrolled": true
   },
   "outputs": [],
   "source": [
    "c=wrd_rdd.filter(lambda word: strtwith(word,'s'))"
   ]
  },
  {
   "cell_type": "code",
   "execution_count": 15,
   "id": "e0f3dd01",
   "metadata": {},
   "outputs": [
    {
     "data": {
      "text/plain": [
       "['sparks']"
      ]
     },
     "execution_count": 15,
     "metadata": {},
     "output_type": "execute_result"
    }
   ],
   "source": [
    "c.collect()"
   ]
  },
  {
   "cell_type": "code",
   "execution_count": 17,
   "id": "475d4e46",
   "metadata": {},
   "outputs": [
    {
     "name": "stdout",
     "output_type": "stream",
     "text": [
      "[1, 2, 3, 4, 5, 6, 7, 8, 9, 10, 11, 12, 13, 14, 15, 16, 17, 18, 19, 20]\n"
     ]
    }
   ],
   "source": [
    "num=[*range(1,21)]\n",
    "print(num)"
   ]
  },
  {
   "cell_type": "code",
   "execution_count": 18,
   "id": "487a2a25",
   "metadata": {},
   "outputs": [],
   "source": [
    "nums_rdd = spark.sparkContext.parallelize(num)\n",
    "num_squared_rdd = nums_rdd.map(lambda n: (n,n*n))"
   ]
  },
  {
   "cell_type": "markdown",
   "id": "77be228c",
   "metadata": {},
   "source": [
    "for i in num_squared_rdd.collect():\n",
    "    print(i)"
   ]
  },
  {
   "cell_type": "code",
   "execution_count": 21,
   "id": "4493920c",
   "metadata": {
    "collapsed": true
   },
   "outputs": [
    {
     "data": {
      "text/plain": [
       "[(1, 1),\n",
       " (2, 4),\n",
       " (3, 9),\n",
       " (4, 16),\n",
       " (5, 25),\n",
       " (6, 36),\n",
       " (7, 49),\n",
       " (8, 64),\n",
       " (9, 81),\n",
       " (10, 100),\n",
       " (11, 121),\n",
       " (12, 144),\n",
       " (13, 169),\n",
       " (14, 196),\n",
       " (15, 225),\n",
       " (16, 256),\n",
       " (17, 289),\n",
       " (18, 324),\n",
       " (19, 361),\n",
       " (20, 400)]"
      ]
     },
     "execution_count": 21,
     "metadata": {},
     "output_type": "execute_result"
    }
   ],
   "source": [
    "num_squared_rdd.collect()"
   ]
  },
  {
   "cell_type": "code",
   "execution_count": 24,
   "id": "9fe669a9",
   "metadata": {},
   "outputs": [],
   "source": [
    "word_trd_rdd =wrd_rdd.map(lambda word: (word,word[0],strtwith(word,'s')))"
   ]
  },
  {
   "cell_type": "code",
   "execution_count": 26,
   "id": "77fe4819",
   "metadata": {},
   "outputs": [
    {
     "data": {
      "text/plain": [
       "[('sparks', 's', True),\n",
       " ('is', 'i', False),\n",
       " ('heavy', 'h', False),\n",
       " ('hard', 'h', False),\n",
       " ('is', 'i', False),\n",
       " ('complex', 'c', False)]"
      ]
     },
     "execution_count": 26,
     "metadata": {},
     "output_type": "execute_result"
    }
   ],
   "source": [
    "word_trd_rdd.collect()"
   ]
  },
  {
   "cell_type": "code",
   "execution_count": 34,
   "id": "595da608",
   "metadata": {},
   "outputs": [
    {
     "data": {
      "text/plain": [
       "['s', 'p', 'a', 'r', 'k', 's', 'i', 's', 'h', 'e']"
      ]
     },
     "execution_count": 34,
     "metadata": {},
     "output_type": "execute_result"
    }
   ],
   "source": [
    "wrd_rdd.flatMap(lambda x: list(x)).take(10)"
   ]
  },
  {
   "cell_type": "code",
   "execution_count": 37,
   "id": "abf3dc93",
   "metadata": {},
   "outputs": [],
   "source": [
    "country_list = [('india',91),('usa',4),('greece',13)]\n",
    "country_rdd = spark.sparkContext.parallelize(country_list)"
   ]
  },
  {
   "cell_type": "code",
   "execution_count": 38,
   "id": "931bc0c9",
   "metadata": {},
   "outputs": [],
   "source": [
    "sortt = country_rdd.sortByKey().collect()"
   ]
  },
  {
   "cell_type": "code",
   "execution_count": 39,
   "id": "9a49236f",
   "metadata": {},
   "outputs": [
    {
     "name": "stdout",
     "output_type": "stream",
     "text": [
      "('greece', 13)\n",
      "('india', 91)\n",
      "('usa', 4)\n"
     ]
    }
   ],
   "source": [
    "for i in sortt:\n",
    "    print(i)"
   ]
  },
  {
   "cell_type": "code",
   "execution_count": 41,
   "id": "7c1c4973",
   "metadata": {},
   "outputs": [],
   "source": [
    "sortt =country_rdd.map(lambda c: (c[1],c[0])).sortByKey(False).collect()# printed value in descending order by providing Fasle"
   ]
  },
  {
   "cell_type": "code",
   "execution_count": 43,
   "id": "2cd8d5e7",
   "metadata": {},
   "outputs": [
    {
     "data": {
      "text/plain": [
       "[(91, 'india'), (4, 'usa'), (13, 'greece')]"
      ]
     },
     "execution_count": 43,
     "metadata": {},
     "output_type": "execute_result"
    }
   ],
   "source": [
    "country_rdd.map(lambda c: (c[1],c[0])).collect()"
   ]
  },
  {
   "cell_type": "code",
   "execution_count": 4,
   "id": "330c4e02",
   "metadata": {},
   "outputs": [
    {
     "name": "stdout",
     "output_type": "stream",
     "text": [
      "15\n"
     ]
    }
   ],
   "source": [
    "num=[1,5,2,3,4]\n",
    "result = spark.sparkContext.parallelize(num).reduce(lambda x ,y:x+y)\n",
    "print(result)"
   ]
  },
  {
   "cell_type": "code",
   "execution_count": null,
   "id": "fa836e4c",
   "metadata": {},
   "outputs": [],
   "source": []
  },
  {
   "cell_type": "code",
   "execution_count": 33,
   "id": "e9eb9407",
   "metadata": {},
   "outputs": [
    {
     "name": "stdout",
     "output_type": "stream",
     "text": [
      "1 5\n",
      "6 2\n",
      "8 3\n",
      "11 4\n",
      "15\n"
     ]
    }
   ],
   "source": [
    "# by reduce we mean to aggregate value into one value result\n",
    "def sum(x,y):\n",
    "    print(x,y)\n",
    "    return x+y\n",
    "result = spark.sparkContext.parallelize(num).reduce(lambda x,y : sum(x,y))# x  will store the accumulation of both nd y will have new value assigned\n",
    "print(result)"
   ]
  },
  {
   "cell_type": "code",
   "execution_count": 34,
   "id": "d7fdf49f",
   "metadata": {},
   "outputs": [],
   "source": [
    "def wrdlngthreducer(leftword,rightword):\n",
    "    print('d',leftword,rightword)\n",
    "    if len(leftword) > len(rightword):\n",
    "        print(leftword,rightword)\n",
    "        return leftword\n",
    "    else:\n",
    "        print('2',leftword,rightword)\n",
    "        return rightword"
   ]
  },
  {
   "cell_type": "code",
   "execution_count": 16,
   "id": "0bc7022a",
   "metadata": {},
   "outputs": [
    {
     "name": "stdout",
     "output_type": "stream",
     "text": [
      "d sparks is\n",
      "sparks is\n",
      "d sparks heavy\n",
      "sparks heavy\n",
      "d sparks hard\n",
      "sparks hard\n",
      "d sparks is\n",
      "sparks is\n",
      "d sparks complex\n",
      "2 sparks complex\n"
     ]
    }
   ],
   "source": [
    "r=wrd_rdd.reduce(wrdlngthreducer)"
   ]
  },
  {
   "cell_type": "code",
   "execution_count": 14,
   "id": "c43bcc37",
   "metadata": {},
   "outputs": [
    {
     "name": "stdout",
     "output_type": "stream",
     "text": [
      "complex\n"
     ]
    }
   ],
   "source": [
    "print(r)"
   ]
  },
  {
   "cell_type": "code",
   "execution_count": 39,
   "id": "70bc5d54",
   "metadata": {},
   "outputs": [
    {
     "data": {
      "text/plain": [
       "[59, 57.2, 53.6, 55.4, 53.8, 53.6, 55.4]"
      ]
     },
     "execution_count": 39,
     "metadata": {},
     "output_type": "execute_result"
    }
   ],
   "source": [
    "tmplist =[59,57.2,53.6,55.4,53.8,53.6,55.4]\n",
    "temprdd=spark.sparkContext.parallelize(tmplist)\n",
    "temprdd.collect()"
   ]
  },
  {
   "cell_type": "code",
   "execution_count": 40,
   "id": "e0071fac",
   "metadata": {},
   "outputs": [],
   "source": [
    "def farenheit(temp):\n",
    "    celsius =(temp-32)*5/9\n",
    "    return celsius"
   ]
  },
  {
   "cell_type": "code",
   "execution_count": 41,
   "id": "b0b41f4b",
   "metadata": {},
   "outputs": [
    {
     "data": {
      "text/plain": [
       "15.0"
      ]
     },
     "execution_count": 41,
     "metadata": {},
     "output_type": "execute_result"
    }
   ],
   "source": [
    "farenheit(59)"
   ]
  },
  {
   "cell_type": "code",
   "execution_count": 43,
   "id": "571bb58a",
   "metadata": {},
   "outputs": [
    {
     "data": {
      "text/plain": [
       "[15.0, 14.000000000000002, 12.0, 13.0, 12.111111111111109, 12.0, 13.0]"
      ]
     },
     "execution_count": 43,
     "metadata": {},
     "output_type": "execute_result"
    }
   ],
   "source": [
    "tempfrdd = temprdd.map(farenheit)\n",
    "tempfrdd.collect()"
   ]
  },
  {
   "cell_type": "code",
   "execution_count": 46,
   "id": "13273315",
   "metadata": {},
   "outputs": [
    {
     "data": {
      "text/plain": [
       "[15.0, 14.000000000000002, 13.0, 13.0]"
      ]
     },
     "execution_count": 46,
     "metadata": {},
     "output_type": "execute_result"
    }
   ],
   "source": [
    "temfahrdd = tempfrdd.filter(lambda x: x>=13)#.map will return true false values\n",
    "temfahrdd.collect()"
   ]
  },
  {
   "cell_type": "code",
   "execution_count": 2,
   "id": "e49b92b0",
   "metadata": {},
   "outputs": [],
   "source": [
    "data2001list=['RIN1','RIN2','RIN3','RIN4','RIN5','RIN6','RIN7']\n",
    "data2002list=['RIN3','RIN4','RIN7','RIN8','RIN9']\n",
    "data2003list=['RIN4','RIN8','RIN10','RIN11','RIN12']"
   ]
  },
  {
   "cell_type": "code",
   "execution_count": 3,
   "id": "4bd68840",
   "metadata": {},
   "outputs": [],
   "source": [
    "data2001rdd =spark.sparkContext.parallelize(data2001list)\n",
    "data2002rdd =spark.sparkContext.parallelize(data2002list)\n",
    "data2003rdd =spark.sparkContext.parallelize(data2003list)"
   ]
  },
  {
   "cell_type": "code",
   "execution_count": 4,
   "id": "adc76205",
   "metadata": {},
   "outputs": [
    {
     "data": {
      "text/plain": [
       "['RIN1',\n",
       " 'RIN2',\n",
       " 'RIN3',\n",
       " 'RIN4',\n",
       " 'RIN5',\n",
       " 'RIN6',\n",
       " 'RIN7',\n",
       " 'RIN3',\n",
       " 'RIN4',\n",
       " 'RIN7',\n",
       " 'RIN8',\n",
       " 'RIN9']"
      ]
     },
     "execution_count": 4,
     "metadata": {},
     "output_type": "execute_result"
    }
   ],
   "source": [
    "union = data2001rdd.union(data2002rdd)\n",
    "union.collect()"
   ]
  },
  {
   "cell_type": "code",
   "execution_count": 5,
   "id": "b4af62b0",
   "metadata": {},
   "outputs": [
    {
     "data": {
      "text/plain": [
       "['RIN4',\n",
       " 'RIN10',\n",
       " 'RIN2',\n",
       " 'RIN5',\n",
       " 'RIN11',\n",
       " 'RIN6',\n",
       " 'RIN1',\n",
       " 'RIN9',\n",
       " 'RIN12',\n",
       " 'RIN3',\n",
       " 'RIN8',\n",
       " 'RIN7']"
      ]
     },
     "execution_count": 5,
     "metadata": {},
     "output_type": "execute_result"
    }
   ],
   "source": [
    "researchrdd =union.union(data2003rdd).distinct()\n",
    "researchrdd.collect()"
   ]
  },
  {
   "cell_type": "code",
   "execution_count": 6,
   "id": "39cb68cc",
   "metadata": {},
   "outputs": [
    {
     "data": {
      "text/plain": [
       "12"
      ]
     },
     "execution_count": 6,
     "metadata": {},
     "output_type": "execute_result"
    }
   ],
   "source": [
    "researchrdd.count()"
   ]
  },
  {
   "cell_type": "code",
   "execution_count": 7,
   "id": "3282e49f",
   "metadata": {},
   "outputs": [
    {
     "data": {
      "text/plain": [
       "['RIN6', 'RIN2', 'RIN5', 'RIN1']"
      ]
     },
     "execution_count": 7,
     "metadata": {},
     "output_type": "execute_result"
    }
   ],
   "source": [
    "firstyear = data2001rdd.subtract(data2002rdd)\n",
    "firstyear.collect()"
   ]
  },
  {
   "cell_type": "code",
   "execution_count": 8,
   "id": "5fb50181",
   "metadata": {},
   "outputs": [
    {
     "data": {
      "text/plain": [
       "['RIN2', 'RIN5', 'RIN6', 'RIN1', 'RIN9', 'RIN3', 'RIN7']"
      ]
     },
     "execution_count": 8,
     "metadata": {},
     "output_type": "execute_result"
    }
   ],
   "source": [
    "unions=union.subtract(data2003rdd).distinct()\n",
    "unions.collect()"
   ]
  },
  {
   "cell_type": "code",
   "execution_count": 2,
   "id": "6df3bdf7",
   "metadata": {},
   "outputs": [],
   "source": [
    "from pyspark.sql import SparkSession\n",
    "from pyspark.sql.types import StructType,StructField,StringType,IntegerType"
   ]
  },
  {
   "cell_type": "code",
   "execution_count": 4,
   "id": "2649fde7",
   "metadata": {},
   "outputs": [],
   "source": [
    "spark = (SparkSession.builder.appName('pysparkpractice').getOrCreate())"
   ]
  },
  {
   "cell_type": "code",
   "execution_count": 5,
   "id": "95f392fd",
   "metadata": {},
   "outputs": [],
   "source": [
    "data = [(\"James\",\"\",\"Smith\",\"36636\",\"M\",3000),\n",
    "    (\"Michael\",\"Rose\",\"\",\"40288\",\"M\",4000),\n",
    "    (\"Robert\",\"\",\"Williams\",\"42114\",\"M\",4000),\n",
    "    (\"Maria\",\"Anne\",\"Jones\",\"39192\",\"F\",4000),\n",
    "    (\"Jen\",\"Mary\",\"Brown\",\"\",\"F\",-1)\n",
    "  ]"
   ]
  },
  {
   "cell_type": "code",
   "execution_count": 6,
   "id": "a352ccc0",
   "metadata": {},
   "outputs": [
    {
     "data": {
      "text/plain": [
       "list"
      ]
     },
     "execution_count": 6,
     "metadata": {},
     "output_type": "execute_result"
    }
   ],
   "source": [
    "type(data)"
   ]
  },
  {
   "cell_type": "code",
   "execution_count": 9,
   "id": "cdfc2c66",
   "metadata": {},
   "outputs": [],
   "source": [
    "schema = StructType([StructField('firstname',StringType(),True),\n",
    "                    StructField('Middlename',StringType(),True),\n",
    "                    StructField('lastname',StringType(),True),\n",
    "                    StructField('id',StringType(),True),\n",
    "                    StructField('gender',StringType(),True),\n",
    "                    StructField('salary',IntegerType(),True),])"
   ]
  },
  {
   "cell_type": "code",
   "execution_count": 10,
   "id": "3b27a499",
   "metadata": {},
   "outputs": [
    {
     "name": "stdout",
     "output_type": "stream",
     "text": [
      "root\n",
      " |-- firstname: string (nullable = true)\n",
      " |-- Middlename: string (nullable = true)\n",
      " |-- lastname: string (nullable = true)\n",
      " |-- id: string (nullable = true)\n",
      " |-- gender: string (nullable = true)\n",
      " |-- salary: integer (nullable = true)\n",
      "\n"
     ]
    }
   ],
   "source": [
    "df =spark.createDataFrame(data =data,schema =schema)\n",
    "df.printSchema()"
   ]
  },
  {
   "cell_type": "code",
   "execution_count": 11,
   "id": "f336e801",
   "metadata": {},
   "outputs": [
    {
     "name": "stdout",
     "output_type": "stream",
     "text": [
      "+---------+----------+--------+-----+------+------+\n",
      "|firstname|Middlename|lastname|id   |gender|salary|\n",
      "+---------+----------+--------+-----+------+------+\n",
      "|James    |          |Smith   |36636|M     |3000  |\n",
      "|Michael  |Rose      |        |40288|M     |4000  |\n",
      "|Robert   |          |Williams|42114|M     |4000  |\n",
      "|Maria    |Anne      |Jones   |39192|F     |4000  |\n",
      "|Jen      |Mary      |Brown   |     |F     |-1    |\n",
      "+---------+----------+--------+-----+------+------+\n",
      "\n"
     ]
    }
   ],
   "source": [
    "df.show(truncate=False)"
   ]
  },
  {
   "cell_type": "code",
   "execution_count": 63,
   "id": "a1b8f6fe",
   "metadata": {
    "collapsed": true
   },
   "outputs": [
    {
     "ename": "AnalysisException",
     "evalue": "Path does not exist: file:/C:/Users/Asus/csv spark/f.csv",
     "output_type": "error",
     "traceback": [
      "\u001b[1;31m---------------------------------------------------------------------------\u001b[0m",
      "\u001b[1;31mAnalysisException\u001b[0m                         Traceback (most recent call last)",
      "\u001b[1;32m~\\AppData\\Local\\Temp/ipykernel_6552/4186307125.py\u001b[0m in \u001b[0;36m<module>\u001b[1;34m\u001b[0m\n\u001b[0;32m      1\u001b[0m \u001b[0mfile_path\u001b[0m\u001b[1;33m=\u001b[0m\u001b[1;34mr'C:\\Users\\Asus\\csv spark\\f.csv'\u001b[0m\u001b[1;33m\u001b[0m\u001b[1;33m\u001b[0m\u001b[0m\n\u001b[1;32m----> 2\u001b[1;33m fire_df = (spark.read.format('csv')\n\u001b[0m\u001b[0;32m      3\u001b[0m           \u001b[1;33m.\u001b[0m\u001b[0moption\u001b[0m\u001b[1;33m(\u001b[0m\u001b[1;34m'header'\u001b[0m\u001b[1;33m,\u001b[0m\u001b[1;32mTrue\u001b[0m\u001b[1;33m)\u001b[0m\u001b[1;33m\u001b[0m\u001b[1;33m\u001b[0m\u001b[0m\n\u001b[0;32m      4\u001b[0m            \u001b[1;33m.\u001b[0m\u001b[0moption\u001b[0m\u001b[1;33m(\u001b[0m\u001b[1;34m'inferSchema'\u001b[0m\u001b[1;33m,\u001b[0m\u001b[1;32mTrue\u001b[0m\u001b[1;33m)\u001b[0m\u001b[1;33m\u001b[0m\u001b[1;33m\u001b[0m\u001b[0m\n\u001b[0;32m      5\u001b[0m             .load(file_path))\n",
      "\u001b[1;32mC:\\spark\\spark-3.2.1-bin-hadoop3.2\\python\\pyspark\\sql\\readwriter.py\u001b[0m in \u001b[0;36mload\u001b[1;34m(self, path, format, schema, **options)\u001b[0m\n\u001b[0;32m    156\u001b[0m         \u001b[0mself\u001b[0m\u001b[1;33m.\u001b[0m\u001b[0moptions\u001b[0m\u001b[1;33m(\u001b[0m\u001b[1;33m**\u001b[0m\u001b[0moptions\u001b[0m\u001b[1;33m)\u001b[0m\u001b[1;33m\u001b[0m\u001b[1;33m\u001b[0m\u001b[0m\n\u001b[0;32m    157\u001b[0m         \u001b[1;32mif\u001b[0m \u001b[0misinstance\u001b[0m\u001b[1;33m(\u001b[0m\u001b[0mpath\u001b[0m\u001b[1;33m,\u001b[0m \u001b[0mstr\u001b[0m\u001b[1;33m)\u001b[0m\u001b[1;33m:\u001b[0m\u001b[1;33m\u001b[0m\u001b[1;33m\u001b[0m\u001b[0m\n\u001b[1;32m--> 158\u001b[1;33m             \u001b[1;32mreturn\u001b[0m \u001b[0mself\u001b[0m\u001b[1;33m.\u001b[0m\u001b[0m_df\u001b[0m\u001b[1;33m(\u001b[0m\u001b[0mself\u001b[0m\u001b[1;33m.\u001b[0m\u001b[0m_jreader\u001b[0m\u001b[1;33m.\u001b[0m\u001b[0mload\u001b[0m\u001b[1;33m(\u001b[0m\u001b[0mpath\u001b[0m\u001b[1;33m)\u001b[0m\u001b[1;33m)\u001b[0m\u001b[1;33m\u001b[0m\u001b[1;33m\u001b[0m\u001b[0m\n\u001b[0m\u001b[0;32m    159\u001b[0m         \u001b[1;32melif\u001b[0m \u001b[0mpath\u001b[0m \u001b[1;32mis\u001b[0m \u001b[1;32mnot\u001b[0m \u001b[1;32mNone\u001b[0m\u001b[1;33m:\u001b[0m\u001b[1;33m\u001b[0m\u001b[1;33m\u001b[0m\u001b[0m\n\u001b[0;32m    160\u001b[0m             \u001b[1;32mif\u001b[0m \u001b[0mtype\u001b[0m\u001b[1;33m(\u001b[0m\u001b[0mpath\u001b[0m\u001b[1;33m)\u001b[0m \u001b[1;33m!=\u001b[0m \u001b[0mlist\u001b[0m\u001b[1;33m:\u001b[0m\u001b[1;33m\u001b[0m\u001b[1;33m\u001b[0m\u001b[0m\n",
      "\u001b[1;32mC:\\spark\\spark-3.2.1-bin-hadoop3.2\\python\\lib\\py4j-0.10.9.3-src.zip\\py4j\\java_gateway.py\u001b[0m in \u001b[0;36m__call__\u001b[1;34m(self, *args)\u001b[0m\n\u001b[0;32m   1319\u001b[0m \u001b[1;33m\u001b[0m\u001b[0m\n\u001b[0;32m   1320\u001b[0m         \u001b[0manswer\u001b[0m \u001b[1;33m=\u001b[0m \u001b[0mself\u001b[0m\u001b[1;33m.\u001b[0m\u001b[0mgateway_client\u001b[0m\u001b[1;33m.\u001b[0m\u001b[0msend_command\u001b[0m\u001b[1;33m(\u001b[0m\u001b[0mcommand\u001b[0m\u001b[1;33m)\u001b[0m\u001b[1;33m\u001b[0m\u001b[1;33m\u001b[0m\u001b[0m\n\u001b[1;32m-> 1321\u001b[1;33m         return_value = get_return_value(\n\u001b[0m\u001b[0;32m   1322\u001b[0m             answer, self.gateway_client, self.target_id, self.name)\n\u001b[0;32m   1323\u001b[0m \u001b[1;33m\u001b[0m\u001b[0m\n",
      "\u001b[1;32mC:\\spark\\spark-3.2.1-bin-hadoop3.2\\python\\pyspark\\sql\\utils.py\u001b[0m in \u001b[0;36mdeco\u001b[1;34m(*a, **kw)\u001b[0m\n\u001b[0;32m    115\u001b[0m                 \u001b[1;31m# Hide where the exception came from that shows a non-Pythonic\u001b[0m\u001b[1;33m\u001b[0m\u001b[1;33m\u001b[0m\u001b[0m\n\u001b[0;32m    116\u001b[0m                 \u001b[1;31m# JVM exception message.\u001b[0m\u001b[1;33m\u001b[0m\u001b[1;33m\u001b[0m\u001b[0m\n\u001b[1;32m--> 117\u001b[1;33m                 \u001b[1;32mraise\u001b[0m \u001b[0mconverted\u001b[0m \u001b[1;32mfrom\u001b[0m \u001b[1;32mNone\u001b[0m\u001b[1;33m\u001b[0m\u001b[1;33m\u001b[0m\u001b[0m\n\u001b[0m\u001b[0;32m    118\u001b[0m             \u001b[1;32melse\u001b[0m\u001b[1;33m:\u001b[0m\u001b[1;33m\u001b[0m\u001b[1;33m\u001b[0m\u001b[0m\n\u001b[0;32m    119\u001b[0m                 \u001b[1;32mraise\u001b[0m\u001b[1;33m\u001b[0m\u001b[1;33m\u001b[0m\u001b[0m\n",
      "\u001b[1;31mAnalysisException\u001b[0m: Path does not exist: file:/C:/Users/Asus/csv spark/f.csv"
     ]
    }
   ],
   "source": [
    "file_path=r'C:\\Users\\Asus\\csv spark\\f.csv'\n",
    "fire_df = (spark.read.format('csv')\n",
    "          .option('header',True)\n",
    "           .option('inferSchema',True)\n",
    "            .load(file_path))"
   ]
  },
  {
   "cell_type": "code",
   "execution_count": 62,
   "id": "dbf11d37",
   "metadata": {
    "collapsed": true
   },
   "outputs": [
    {
     "ename": "AnalysisException",
     "evalue": "cannot resolve '`Incident Number`' given input columns: [Address, AlarmDtTm, ArrivalDtTm, Battalion, Box, CallNumber, City, CloseDtTm, EMSPersonnel, EMSUnits, EstimatedContentsLoss, EstimatedPropertyLoss, ExposureNumber, FireFatalities, FirstUnitOnScene, ID, IncidentDate, IncidentNumber, OtherPersonnel, OtherUnits, StationArea, SuppressionPersonnel, SuppressionUnits, zipcode];\n'Project ['Incident Number, 'Incident Date, City#2341]\n+- Project [IncidentNumber#2116, ExposureNumber#2141, ID#2166, Address#2191, IncidentDate#2216, CallNumber#2241, AlarmDtTm#2266, ArrivalDtTm#2291, CloseDtTm#2316, City#2341, zipcode#2366, Battalion#2391, StationArea#2416, Box#2441, SuppressionUnits#2466, SuppressionPersonnel#2491, EMSUnits#2516, EMSPersonnel#2541, OtherUnits#2566, OtherPersonnel#2591, FirstUnitOnScene#2616, EstimatedPropertyLoss#2641, EstimatedContentsLoss#2666, Fire Fatalities#2091 AS FireFatalities#2691]\n   +- Project [IncidentNumber#2116, ExposureNumber#2141, ID#2166, Address#2191, IncidentDate#2216, CallNumber#2241, AlarmDtTm#2266, ArrivalDtTm#2291, CloseDtTm#2316, City#2341, zipcode#2366, Battalion#2391, StationArea#2416, Box#2441, SuppressionUnits#2466, SuppressionPersonnel#2491, EMSUnits#2516, EMSPersonnel#2541, OtherUnits#2566, OtherPersonnel#2591, FirstUnitOnScene#2616, EstimatedPropertyLoss#2641, Estimated Contents Loss#2066 AS EstimatedContentsLoss#2666, Fire Fatalities#2091]\n      +- Project [IncidentNumber#2116, ExposureNumber#2141, ID#2166, Address#2191, IncidentDate#2216, CallNumber#2241, AlarmDtTm#2266, ArrivalDtTm#2291, CloseDtTm#2316, City#2341, zipcode#2366, Battalion#2391, StationArea#2416, Box#2441, SuppressionUnits#2466, SuppressionPersonnel#2491, EMSUnits#2516, EMSPersonnel#2541, OtherUnits#2566, OtherPersonnel#2591, FirstUnitOnScene#2616, Estimated Property Loss#2041 AS EstimatedPropertyLoss#2641, Estimated Contents Loss#2066, Fire Fatalities#2091]\n         +- Project [IncidentNumber#2116, ExposureNumber#2141, ID#2166, Address#2191, IncidentDate#2216, CallNumber#2241, AlarmDtTm#2266, ArrivalDtTm#2291, CloseDtTm#2316, City#2341, zipcode#2366, Battalion#2391, StationArea#2416, Box#2441, SuppressionUnits#2466, SuppressionPersonnel#2491, EMSUnits#2516, EMSPersonnel#2541, OtherUnits#2566, OtherPersonnel#2591, First Unit On Scene#2016 AS FirstUnitOnScene#2616, Estimated Property Loss#2041, Estimated Contents Loss#2066, Fire Fatalities#2091]\n            +- Project [IncidentNumber#2116, ExposureNumber#2141, ID#2166, Address#2191, IncidentDate#2216, CallNumber#2241, AlarmDtTm#2266, ArrivalDtTm#2291, CloseDtTm#2316, City#2341, zipcode#2366, Battalion#2391, StationArea#2416, Box#2441, SuppressionUnits#2466, SuppressionPersonnel#2491, EMSUnits#2516, EMSPersonnel#2541, OtherUnits#2566, Other Personnel#1991 AS OtherPersonnel#2591, First Unit On Scene#2016, Estimated Property Loss#2041, Estimated Contents Loss#2066, Fire Fatalities#2091]\n               +- Project [IncidentNumber#2116, ExposureNumber#2141, ID#2166, Address#2191, IncidentDate#2216, CallNumber#2241, AlarmDtTm#2266, ArrivalDtTm#2291, CloseDtTm#2316, City#2341, zipcode#2366, Battalion#2391, StationArea#2416, Box#2441, SuppressionUnits#2466, SuppressionPersonnel#2491, EMSUnits#2516, EMSPersonnel#2541, Other Units#1966 AS OtherUnits#2566, Other Personnel#1991, First Unit On Scene#2016, Estimated Property Loss#2041, Estimated Contents Loss#2066, Fire Fatalities#2091]\n                  +- Project [IncidentNumber#2116, ExposureNumber#2141, ID#2166, Address#2191, IncidentDate#2216, CallNumber#2241, AlarmDtTm#2266, ArrivalDtTm#2291, CloseDtTm#2316, City#2341, zipcode#2366, Battalion#2391, StationArea#2416, Box#2441, SuppressionUnits#2466, SuppressionPersonnel#2491, EMSUnits#2516, EMS Personnel#1941 AS EMSPersonnel#2541, Other Units#1966, Other Personnel#1991, First Unit On Scene#2016, Estimated Property Loss#2041, Estimated Contents Loss#2066, Fire Fatalities#2091]\n                     +- Project [IncidentNumber#2116, ExposureNumber#2141, ID#2166, Address#2191, IncidentDate#2216, CallNumber#2241, AlarmDtTm#2266, ArrivalDtTm#2291, CloseDtTm#2316, City#2341, zipcode#2366, Battalion#2391, StationArea#2416, Box#2441, SuppressionUnits#2466, SuppressionPersonnel#2491, EMS Units#1916 AS EMSUnits#2516, EMS Personnel#1941, Other Units#1966, Other Personnel#1991, First Unit On Scene#2016, Estimated Property Loss#2041, Estimated Contents Loss#2066, Fire Fatalities#2091]\n                        +- Project [IncidentNumber#2116, ExposureNumber#2141, ID#2166, Address#2191, IncidentDate#2216, CallNumber#2241, AlarmDtTm#2266, ArrivalDtTm#2291, CloseDtTm#2316, City#2341, zipcode#2366, Battalion#2391, StationArea#2416, Box#2441, SuppressionUnits#2466, Suppression Personnel#1891 AS SuppressionPersonnel#2491, EMS Units#1916, EMS Personnel#1941, Other Units#1966, Other Personnel#1991, First Unit On Scene#2016, Estimated Property Loss#2041, Estimated Contents Loss#2066, Fire Fatalities#2091]\n                           +- Project [IncidentNumber#2116, ExposureNumber#2141, ID#2166, Address#2191, IncidentDate#2216, CallNumber#2241, AlarmDtTm#2266, ArrivalDtTm#2291, CloseDtTm#2316, City#2341, zipcode#2366, Battalion#2391, StationArea#2416, Box#2441, Suppression Units#1866 AS SuppressionUnits#2466, Suppression Personnel#1891, EMS Units#1916, EMS Personnel#1941, Other Units#1966, Other Personnel#1991, First Unit On Scene#2016, Estimated Property Loss#2041, Estimated Contents Loss#2066, Fire Fatalities#2091]\n                              +- Project [IncidentNumber#2116, ExposureNumber#2141, ID#2166, Address#2191, IncidentDate#2216, CallNumber#2241, AlarmDtTm#2266, ArrivalDtTm#2291, CloseDtTm#2316, City#2341, zipcode#2366, Battalion#2391, StationArea#2416, Box#1841 AS Box#2441, Suppression Units#1866, Suppression Personnel#1891, EMS Units#1916, EMS Personnel#1941, Other Units#1966, Other Personnel#1991, First Unit On Scene#2016, Estimated Property Loss#2041, Estimated Contents Loss#2066, Fire Fatalities#2091]\n                                 +- Project [IncidentNumber#2116, ExposureNumber#2141, ID#2166, Address#2191, IncidentDate#2216, CallNumber#2241, AlarmDtTm#2266, ArrivalDtTm#2291, CloseDtTm#2316, City#2341, zipcode#2366, Battalion#2391, Station Area#1816 AS StationArea#2416, Box#1841, Suppression Units#1866, Suppression Personnel#1891, EMS Units#1916, EMS Personnel#1941, Other Units#1966, Other Personnel#1991, First Unit On Scene#2016, Estimated Property Loss#2041, Estimated Contents Loss#2066, Fire Fatalities#2091]\n                                    +- Project [IncidentNumber#2116, ExposureNumber#2141, ID#2166, Address#2191, IncidentDate#2216, CallNumber#2241, AlarmDtTm#2266, ArrivalDtTm#2291, CloseDtTm#2316, City#2341, zipcode#2366, Battalion#1791 AS Battalion#2391, Station Area#1816, Box#1841, Suppression Units#1866, Suppression Personnel#1891, EMS Units#1916, EMS Personnel#1941, Other Units#1966, Other Personnel#1991, First Unit On Scene#2016, Estimated Property Loss#2041, Estimated Contents Loss#2066, Fire Fatalities#2091]\n                                       +- Project [IncidentNumber#2116, ExposureNumber#2141, ID#2166, Address#2191, IncidentDate#2216, CallNumber#2241, AlarmDtTm#2266, ArrivalDtTm#2291, CloseDtTm#2316, City#2341, zipcode#1766 AS zipcode#2366, Battalion#1791, Station Area#1816, Box#1841, Suppression Units#1866, Suppression Personnel#1891, EMS Units#1916, EMS Personnel#1941, Other Units#1966, Other Personnel#1991, First Unit On Scene#2016, Estimated Property Loss#2041, Estimated Contents Loss#2066, Fire Fatalities#2091]\n                                          +- Project [IncidentNumber#2116, ExposureNumber#2141, ID#2166, Address#2191, IncidentDate#2216, CallNumber#2241, AlarmDtTm#2266, ArrivalDtTm#2291, CloseDtTm#2316, City#1741 AS City#2341, zipcode#1766, Battalion#1791, Station Area#1816, Box#1841, Suppression Units#1866, Suppression Personnel#1891, EMS Units#1916, EMS Personnel#1941, Other Units#1966, Other Personnel#1991, First Unit On Scene#2016, Estimated Property Loss#2041, Estimated Contents Loss#2066, Fire Fatalities#2091]\n                                             +- Project [IncidentNumber#2116, ExposureNumber#2141, ID#2166, Address#2191, IncidentDate#2216, CallNumber#2241, AlarmDtTm#2266, ArrivalDtTm#2291, Close DtTm#1716 AS CloseDtTm#2316, City#1741, zipcode#1766, Battalion#1791, Station Area#1816, Box#1841, Suppression Units#1866, Suppression Personnel#1891, EMS Units#1916, EMS Personnel#1941, Other Units#1966, Other Personnel#1991, First Unit On Scene#2016, Estimated Property Loss#2041, Estimated Contents Loss#2066, Fire Fatalities#2091]\n                                                +- Project [IncidentNumber#2116, ExposureNumber#2141, ID#2166, Address#2191, IncidentDate#2216, CallNumber#2241, AlarmDtTm#2266, Arrival DtTm#1691 AS ArrivalDtTm#2291, Close DtTm#1716, City#1741, zipcode#1766, Battalion#1791, Station Area#1816, Box#1841, Suppression Units#1866, Suppression Personnel#1891, EMS Units#1916, EMS Personnel#1941, Other Units#1966, Other Personnel#1991, First Unit On Scene#2016, Estimated Property Loss#2041, Estimated Contents Loss#2066, Fire Fatalities#2091]\n                                                   +- Project [IncidentNumber#2116, ExposureNumber#2141, ID#2166, Address#2191, IncidentDate#2216, CallNumber#2241, Alarm DtTm#1666 AS AlarmDtTm#2266, Arrival DtTm#1691, Close DtTm#1716, City#1741, zipcode#1766, Battalion#1791, Station Area#1816, Box#1841, Suppression Units#1866, Suppression Personnel#1891, EMS Units#1916, EMS Personnel#1941, Other Units#1966, Other Personnel#1991, First Unit On Scene#2016, Estimated Property Loss#2041, Estimated Contents Loss#2066, Fire Fatalities#2091]\n                                                      +- Project [IncidentNumber#2116, ExposureNumber#2141, ID#2166, Address#2191, IncidentDate#2216, Call Number#1641 AS CallNumber#2241, Alarm DtTm#1666, Arrival DtTm#1691, Close DtTm#1716, City#1741, zipcode#1766, Battalion#1791, Station Area#1816, Box#1841, Suppression Units#1866, Suppression Personnel#1891, EMS Units#1916, EMS Personnel#1941, Other Units#1966, Other Personnel#1991, First Unit On Scene#2016, Estimated Property Loss#2041, Estimated Contents Loss#2066, Fire Fatalities#2091]\n                                                         +- Project [IncidentNumber#2116, ExposureNumber#2141, ID#2166, Address#2191, Incident Date#1616 AS IncidentDate#2216, Call Number#1641, Alarm DtTm#1666, Arrival DtTm#1691, Close DtTm#1716, City#1741, zipcode#1766, Battalion#1791, Station Area#1816, Box#1841, Suppression Units#1866, Suppression Personnel#1891, EMS Units#1916, EMS Personnel#1941, Other Units#1966, Other Personnel#1991, First Unit On Scene#2016, Estimated Property Loss#2041, Estimated Contents Loss#2066, Fire Fatalities#2091]\n                                                            +- Project [IncidentNumber#2116, ExposureNumber#2141, ID#2166, Address#1591 AS Address#2191, Incident Date#1616, Call Number#1641, Alarm DtTm#1666, Arrival DtTm#1691, Close DtTm#1716, City#1741, zipcode#1766, Battalion#1791, Station Area#1816, Box#1841, Suppression Units#1866, Suppression Personnel#1891, EMS Units#1916, EMS Personnel#1941, Other Units#1966, Other Personnel#1991, First Unit On Scene#2016, Estimated Property Loss#2041, Estimated Contents Loss#2066, Fire Fatalities#2091]\n                                                               +- Project [IncidentNumber#2116, ExposureNumber#2141, ID#1566 AS ID#2166, Address#1591, Incident Date#1616, Call Number#1641, Alarm DtTm#1666, Arrival DtTm#1691, Close DtTm#1716, City#1741, zipcode#1766, Battalion#1791, Station Area#1816, Box#1841, Suppression Units#1866, Suppression Personnel#1891, EMS Units#1916, EMS Personnel#1941, Other Units#1966, Other Personnel#1991, First Unit On Scene#2016, Estimated Property Loss#2041, Estimated Contents Loss#2066, Fire Fatalities#2091]\n                                                                  +- Project [IncidentNumber#2116, Exposure Number#1541 AS ExposureNumber#2141, ID#1566, Address#1591, Incident Date#1616, Call Number#1641, Alarm DtTm#1666, Arrival DtTm#1691, Close DtTm#1716, City#1741, zipcode#1766, Battalion#1791, Station Area#1816, Box#1841, Suppression Units#1866, Suppression Personnel#1891, EMS Units#1916, EMS Personnel#1941, Other Units#1966, Other Personnel#1991, First Unit On Scene#2016, Estimated Property Loss#2041, Estimated Contents Loss#2066, Fire Fatalities#2091]\n                                                                     +- Project [Incident Number#1516 AS IncidentNumber#2116, Exposure Number#1541, ID#1566, Address#1591, Incident Date#1616, Call Number#1641, Alarm DtTm#1666, Arrival DtTm#1691, Close DtTm#1716, City#1741, zipcode#1766, Battalion#1791, Station Area#1816, Box#1841, Suppression Units#1866, Suppression Personnel#1891, EMS Units#1916, EMS Personnel#1941, Other Units#1966, Other Personnel#1991, First Unit On Scene#2016, Estimated Property Loss#2041, Estimated Contents Loss#2066, Fire Fatalities#2091]\n                                                                        +- Project [Incident Number#1516, Exposure Number#1541, ID#1566, Address#1591, Incident Date#1616, Call Number#1641, Alarm DtTm#1666, Arrival DtTm#1691, Close DtTm#1716, City#1741, zipcode#1766, Battalion#1791, Station Area#1816, Box#1841, Suppression Units#1866, Suppression Personnel#1891, EMS Units#1916, EMS Personnel#1941, Other Units#1966, Other Personnel#1991, First Unit On Scene#2016, Estimated Property Loss#2041, Estimated Contents Loss#2066, Fire Fatalities#1491 AS Fire Fatalities#2091]\n                                                                           +- Project [Incident Number#1516, Exposure Number#1541, ID#1566, Address#1591, Incident Date#1616, Call Number#1641, Alarm DtTm#1666, Arrival DtTm#1691, Close DtTm#1716, City#1741, zipcode#1766, Battalion#1791, Station Area#1816, Box#1841, Suppression Units#1866, Suppression Personnel#1891, EMS Units#1916, EMS Personnel#1941, Other Units#1966, Other Personnel#1991, First Unit On Scene#2016, Estimated Property Loss#2041, Estimated Contents Loss#1466 AS Estimated Contents Loss#2066, Fire Fatalities#1491]\n                                                                              +- Project [Incident Number#1516, Exposure Number#1541, ID#1566, Address#1591, Incident Date#1616, Call Number#1641, Alarm DtTm#1666, Arrival DtTm#1691, Close DtTm#1716, City#1741, zipcode#1766, Battalion#1791, Station Area#1816, Box#1841, Suppression Units#1866, Suppression Personnel#1891, EMS Units#1916, EMS Personnel#1941, Other Units#1966, Other Personnel#1991, First Unit On Scene#2016, Estimated Property Loss#1441 AS Estimated Property Loss#2041, Estimated Contents Loss#1466, Fire Fatalities#1491]\n                                                                                 +- Project [Incident Number#1516, Exposure Number#1541, ID#1566, Address#1591, Incident Date#1616, Call Number#1641, Alarm DtTm#1666, Arrival DtTm#1691, Close DtTm#1716, City#1741, zipcode#1766, Battalion#1791, Station Area#1816, Box#1841, Suppression Units#1866, Suppression Personnel#1891, EMS Units#1916, EMS Personnel#1941, Other Units#1966, Other Personnel#1991, First Unit On Scene#1416 AS First Unit On Scene#2016, Estimated Property Loss#1441, Estimated Contents Loss#1466, Fire Fatalities#1491]\n                                                                                    +- Project [Incident Number#1516, Exposure Number#1541, ID#1566, Address#1591, Incident Date#1616, Call Number#1641, Alarm DtTm#1666, Arrival DtTm#1691, Close DtTm#1716, City#1741, zipcode#1766, Battalion#1791, Station Area#1816, Box#1841, Suppression Units#1866, Suppression Personnel#1891, EMS Units#1916, EMS Personnel#1941, Other Units#1966, Other Personnel#1391 AS Other Personnel#1991, First Unit On Scene#1416, Estimated Property Loss#1441, Estimated Contents Loss#1466, Fire Fatalities#1491]\n                                                                                       +- Project [Incident Number#1516, Exposure Number#1541, ID#1566, Address#1591, Incident Date#1616, Call Number#1641, Alarm DtTm#1666, Arrival DtTm#1691, Close DtTm#1716, City#1741, zipcode#1766, Battalion#1791, Station Area#1816, Box#1841, Suppression Units#1866, Suppression Personnel#1891, EMS Units#1916, EMS Personnel#1941, Other Units#1366 AS Other Units#1966, Other Personnel#1391, First Unit On Scene#1416, Estimated Property Loss#1441, Estimated Contents Loss#1466, Fire Fatalities#1491]\n                                                                                          +- Project [Incident Number#1516, Exposure Number#1541, ID#1566, Address#1591, Incident Date#1616, Call Number#1641, Alarm DtTm#1666, Arrival DtTm#1691, Close DtTm#1716, City#1741, zipcode#1766, Battalion#1791, Station Area#1816, Box#1841, Suppression Units#1866, Suppression Personnel#1891, EMS Units#1916, EMS Personnel#1341 AS EMS Personnel#1941, Other Units#1366, Other Personnel#1391, First Unit On Scene#1416, Estimated Property Loss#1441, Estimated Contents Loss#1466, Fire Fatalities#1491]\n                                                                                             +- Project [Incident Number#1516, Exposure Number#1541, ID#1566, Address#1591, Incident Date#1616, Call Number#1641, Alarm DtTm#1666, Arrival DtTm#1691, Close DtTm#1716, City#1741, zipcode#1766, Battalion#1791, Station Area#1816, Box#1841, Suppression Units#1866, Suppression Personnel#1891, EMS Units#1316 AS EMS Units#1916, EMS Personnel#1341, Other Units#1366, Other Personnel#1391, First Unit On Scene#1416, Estimated Property Loss#1441, Estimated Contents Loss#1466, Fire Fatalities#1491]\n                                                                                                +- Project [Incident Number#1516, Exposure Number#1541, ID#1566, Address#1591, Incident Date#1616, Call Number#1641, Alarm DtTm#1666, Arrival DtTm#1691, Close DtTm#1716, City#1741, zipcode#1766, Battalion#1791, Station Area#1816, Box#1841, Suppression Units#1866, Suppression Personnel#1291 AS Suppression Personnel#1891, EMS Units#1316, EMS Personnel#1341, Other Units#1366, Other Personnel#1391, First Unit On Scene#1416, Estimated Property Loss#1441, Estimated Contents Loss#1466, Fire Fatalities#1491]\n                                                                                                   +- Project [Incident Number#1516, Exposure Number#1541, ID#1566, Address#1591, Incident Date#1616, Call Number#1641, Alarm DtTm#1666, Arrival DtTm#1691, Close DtTm#1716, City#1741, zipcode#1766, Battalion#1791, Station Area#1816, Box#1841, Suppression Units#1266 AS Suppression Units#1866, Suppression Personnel#1291, EMS Units#1316, EMS Personnel#1341, Other Units#1366, Other Personnel#1391, First Unit On Scene#1416, Estimated Property Loss#1441, Estimated Contents Loss#1466, Fire Fatalities#1491]\n                                                                                                      +- Project [Incident Number#1516, Exposure Number#1541, ID#1566, Address#1591, Incident Date#1616, Call Number#1641, Alarm DtTm#1666, Arrival DtTm#1691, Close DtTm#1716, City#1741, zipcode#1766, Battalion#1791, Station Area#1816, Box#1241 AS Box#1841, Suppression Units#1266, Suppression Personnel#1291, EMS Units#1316, EMS Personnel#1341, Other Units#1366, Other Personnel#1391, First Unit On Scene#1416, Estimated Property Loss#1441, Estimated Contents Loss#1466, Fire Fatalities#1491]\n                                                                                                         +- Project [Incident Number#1516, Exposure Number#1541, ID#1566, Address#1591, Incident Date#1616, Call Number#1641, Alarm DtTm#1666, Arrival DtTm#1691, Close DtTm#1716, City#1741, zipcode#1766, Battalion#1791, Station Area#1216 AS Station Area#1816, Box#1241, Suppression Units#1266, Suppression Personnel#1291, EMS Units#1316, EMS Personnel#1341, Other Units#1366, Other Personnel#1391, First Unit On Scene#1416, Estimated Property Loss#1441, Estimated Contents Loss#1466, Fire Fatalities#1491]\n                                                                                                            +- Project [Incident Number#1516, Exposure Number#1541, ID#1566, Address#1591, Incident Date#1616, Call Number#1641, Alarm DtTm#1666, Arrival DtTm#1691, Close DtTm#1716, City#1741, zipcode#1766, Battalion#1191 AS Battalion#1791, Station Area#1216, Box#1241, Suppression Units#1266, Suppression Personnel#1291, EMS Units#1316, EMS Personnel#1341, Other Units#1366, Other Personnel#1391, First Unit On Scene#1416, Estimated Property Loss#1441, Estimated Contents Loss#1466, Fire Fatalities#1491]\n                                                                                                               +- Project [Incident Number#1516, Exposure Number#1541, ID#1566, Address#1591, Incident Date#1616, Call Number#1641, Alarm DtTm#1666, Arrival DtTm#1691, Close DtTm#1716, City#1741, zipcode#1166 AS zipcode#1766, Battalion#1191, Station Area#1216, Box#1241, Suppression Units#1266, Suppression Personnel#1291, EMS Units#1316, EMS Personnel#1341, Other Units#1366, Other Personnel#1391, First Unit On Scene#1416, Estimated Property Loss#1441, Estimated Contents Loss#1466, Fire Fatalities#1491]\n                                                                                                                  +- Project [Incident Number#1516, Exposure Number#1541, ID#1566, Address#1591, Incident Date#1616, Call Number#1641, Alarm DtTm#1666, Arrival DtTm#1691, Close DtTm#1716, City#1141 AS City#1741, zipcode#1166, Battalion#1191, Station Area#1216, Box#1241, Suppression Units#1266, Suppression Personnel#1291, EMS Units#1316, EMS Personnel#1341, Other Units#1366, Other Personnel#1391, First Unit On Scene#1416, Estimated Property Loss#1441, Estimated Contents Loss#1466, Fire Fatalities#1491]\n                                                                                                                     +- Project [Incident Number#1516, Exposure Number#1541, ID#1566, Address#1591, Incident Date#1616, Call Number#1641, Alarm DtTm#1666, Arrival DtTm#1691, Close DtTm#1116 AS Close DtTm#1716, City#1141, zipcode#1166, Battalion#1191, Station Area#1216, Box#1241, Suppression Units#1266, Suppression Personnel#1291, EMS Units#1316, EMS Personnel#1341, Other Units#1366, Other Personnel#1391, First Unit On Scene#1416, Estimated Property Loss#1441, Estimated Contents Loss#1466, Fire Fatalities#1491]\n                                                                                                                        +- Project [Incident Number#1516, Exposure Number#1541, ID#1566, Address#1591, Incident Date#1616, Call Number#1641, Alarm DtTm#1666, Arrival DtTm#1091 AS Arrival DtTm#1691, Close DtTm#1116, City#1141, zipcode#1166, Battalion#1191, Station Area#1216, Box#1241, Suppression Units#1266, Suppression Personnel#1291, EMS Units#1316, EMS Personnel#1341, Other Units#1366, Other Personnel#1391, First Unit On Scene#1416, Estimated Property Loss#1441, Estimated Contents Loss#1466, Fire Fatalities#1491]\n                                                                                                                           +- Project [Incident Number#1516, Exposure Number#1541, ID#1566, Address#1591, Incident Date#1616, Call Number#1641, Alarm DtTm#1066 AS Alarm DtTm#1666, Arrival DtTm#1091, Close DtTm#1116, City#1141, zipcode#1166, Battalion#1191, Station Area#1216, Box#1241, Suppression Units#1266, Suppression Personnel#1291, EMS Units#1316, EMS Personnel#1341, Other Units#1366, Other Personnel#1391, First Unit On Scene#1416, Estimated Property Loss#1441, Estimated Contents Loss#1466, Fire Fatalities#1491]\n                                                                                                                              +- Project [Incident Number#1516, Exposure Number#1541, ID#1566, Address#1591, Incident Date#1616, Call Number#1041 AS Call Number#1641, Alarm DtTm#1066, Arrival DtTm#1091, Close DtTm#1116, City#1141, zipcode#1166, Battalion#1191, Station Area#1216, Box#1241, Suppression Units#1266, Suppression Personnel#1291, EMS Units#1316, EMS Personnel#1341, Other Units#1366, Other Personnel#1391, First Unit On Scene#1416, Estimated Property Loss#1441, Estimated Contents Loss#1466, Fire Fatalities#1491]\n                                                                                                                                 +- Project [Incident Number#1516, Exposure Number#1541, ID#1566, Address#1591, Incident Date#1016 AS Incident Date#1616, Call Number#1041, Alarm DtTm#1066, Arrival DtTm#1091, Close DtTm#1116, City#1141, zipcode#1166, Battalion#1191, Station Area#1216, Box#1241, Suppression Units#1266, Suppression Personnel#1291, EMS Units#1316, EMS Personnel#1341, Other Units#1366, Other Personnel#1391, First Unit On Scene#1416, Estimated Property Loss#1441, Estimated Contents Loss#1466, Fire Fatalities#1491]\n                                                                                                                                    +- Project [Incident Number#1516, Exposure Number#1541, ID#1566, Address#991 AS Address#1591, Incident Date#1016, Call Number#1041, Alarm DtTm#1066, Arrival DtTm#1091, Close DtTm#1116, City#1141, zipcode#1166, Battalion#1191, Station Area#1216, Box#1241, Suppression Units#1266, Suppression Personnel#1291, EMS Units#1316, EMS Personnel#1341, Other Units#1366, Other Personnel#1391, First Unit On Scene#1416, Estimated Property Loss#1441, Estimated Contents Loss#1466, Fire Fatalities#1491]\n                                                                                                                                       +- Project [Incident Number#1516, Exposure Number#1541, ID#966 AS ID#1566, Address#991, Incident Date#1016, Call Number#1041, Alarm DtTm#1066, Arrival DtTm#1091, Close DtTm#1116, City#1141, zipcode#1166, Battalion#1191, Station Area#1216, Box#1241, Suppression Units#1266, Suppression Personnel#1291, EMS Units#1316, EMS Personnel#1341, Other Units#1366, Other Personnel#1391, First Unit On Scene#1416, Estimated Property Loss#1441, Estimated Contents Loss#1466, Fire Fatalities#1491]\n                                                                                                                                          +- Project [Incident Number#1516, Exposure Number#941 AS Exposure Number#1541, ID#966, Address#991, Incident Date#1016, Call Number#1041, Alarm DtTm#1066, Arrival DtTm#1091, Close DtTm#1116, City#1141, zipcode#1166, Battalion#1191, Station Area#1216, Box#1241, Suppression Units#1266, Suppression Personnel#1291, EMS Units#1316, EMS Personnel#1341, Other Units#1366, Other Personnel#1391, First Unit On Scene#1416, Estimated Property Loss#1441, Estimated Contents Loss#1466, Fire Fatalities#1491]\n                                                                                                                                             +- Project [Incident Number#916 AS Incident Number#1516, Exposure Number#941, ID#966, Address#991, Incident Date#1016, Call Number#1041, Alarm DtTm#1066, Arrival DtTm#1091, Close DtTm#1116, City#1141, zipcode#1166, Battalion#1191, Station Area#1216, Box#1241, Suppression Units#1266, Suppression Personnel#1291, EMS Units#1316, EMS Personnel#1341, Other Units#1366, Other Personnel#1391, First Unit On Scene#1416, Estimated Property Loss#1441, Estimated Contents Loss#1466, Fire Fatalities#1491]\n                                                                                                                                                +- Project [Incident Number#916, Exposure Number#941, ID#966, Address#991, Incident Date#1016, Call Number#1041, Alarm DtTm#1066, Arrival DtTm#1091, Close DtTm#1116, City#1141, zipcode#1166, Battalion#1191, Station Area#1216, Box#1241, Suppression Units#1266, Suppression Personnel#1291, EMS Units#1316, EMS Personnel#1341, Other Units#1366, Other Personnel#1391, First Unit On Scene#1416, Estimated Property Loss#1441, Estimated Contents Loss#1466, Fire Fatalities#867 AS Fire Fatalities#1491]\n                                                                                                                                                   +- Project [Incident Number#916, Exposure Number#941, ID#966, Address#991, Incident Date#1016, Call Number#1041, Alarm DtTm#1066, Arrival DtTm#1091, Close DtTm#1116, City#1141, zipcode#1166, Battalion#1191, Station Area#1216, Box#1241, Suppression Units#1266, Suppression Personnel#1291, EMS Units#1316, EMS Personnel#1341, Other Units#1366, Other Personnel#1391, First Unit On Scene#1416, Estimated Property Loss#1441, Estimated Contents Loss#842 AS Estimated Contents Loss#1466, Fire Fatalities#867]\n                                                                                                                                                      +- Project [Incident Number#916, Exposure Number#941, ID#966, Address#991, Incident Date#1016, Call Number#1041, Alarm DtTm#1066, Arrival DtTm#1091, Close DtTm#1116, City#1141, zipcode#1166, Battalion#1191, Station Area#1216, Box#1241, Suppression Units#1266, Suppression Personnel#1291, EMS Units#1316, EMS Personnel#1341, Other Units#1366, Other Personnel#1391, First Unit On Scene#1416, Estimated Property Loss#817 AS Estimated Property Loss#1441, Estimated Contents Loss#842, Fire Fatalities#867]\n                                                                                                                                                         +- Project [Incident Number#916, Exposure Number#941, ID#966, Address#991, Incident Date#1016, Call Number#1041, Alarm DtTm#1066, Arrival DtTm#1091, Close DtTm#1116, City#1141, zipcode#1166, Battalion#1191, Station Area#1216, Box#1241, Suppression Units#1266, Suppression Personnel#1291, EMS Units#1316, EMS Personnel#1341, Other Units#1366, Other Personnel#1391, First Unit On Scene#792 AS First Unit On Scene#1416, Estimated Property Loss#817, Estimated Contents Loss#842, Fire Fatalities#867]\n                                                                                                                                                            +- Project [Incident Number#916, Exposure Number#941, ID#966, Address#991, Incident Date#1016, Call Number#1041, Alarm DtTm#1066, Arrival DtTm#1091, Close DtTm#1116, City#1141, zipcode#1166, Battalion#1191, Station Area#1216, Box#1241, Suppression Units#1266, Suppression Personnel#1291, EMS Units#1316, EMS Personnel#1341, Other Units#1366, Other Personnel#767 AS Other Personnel#1391, First Unit On Scene#792, Estimated Property Loss#817, Estimated Contents Loss#842, Fire Fatalities#867]\n                                                                                                                                                               +- Project [Incident Number#916, Exposure Number#941, ID#966, Address#991, Incident Date#1016, Call Number#1041, Alarm DtTm#1066, Arrival DtTm#1091, Close DtTm#1116, City#1141, zipcode#1166, Battalion#1191, Station Area#1216, Box#1241, Suppression Units#1266, Suppression Personnel#1291, EMS Units#1316, EMS Personnel#1341, Other Units#742 AS Other Units#1366, Other Personnel#767, First Unit On Scene#792, Estimated Property Loss#817, Estimated Contents Loss#842, Fire Fatalities#867]\n                                                                                                                                                                  +- Project [Incident Number#916, Exposure Number#941, ID#966, Address#991, Incident Date#1016, Call Number#1041, Alarm DtTm#1066, Arrival DtTm#1091, Close DtTm#1116, City#1141, zipcode#1166, Battalion#1191, Station Area#1216, Box#1241, Suppression Units#1266, Suppression Personnel#1291, EMS Units#1316, EMS Personnel#717 AS EMS Personnel#1341, Other Units#742, Other Personnel#767, First Unit On Scene#792, Estimated Property Loss#817, Estimated Contents Loss#842, Fire Fatalities#867]\n                                                                                                                                                                     +- Project [Incident Number#916, Exposure Number#941, ID#966, Address#991, Incident Date#1016, Call Number#1041, Alarm DtTm#1066, Arrival DtTm#1091, Close DtTm#1116, City#1141, zipcode#1166, Battalion#1191, Station Area#1216, Box#1241, Suppression Units#1266, Suppression Personnel#1291, EMS Units#692 AS EMS Units#1316, EMS Personnel#717, Other Units#742, Other Personnel#767, First Unit On Scene#792, Estimated Property Loss#817, Estimated Contents Loss#842, Fire Fatalities#867]\n                                                                                                                                                                        +- Project [Incident Number#916, Exposure Number#941, ID#966, Address#991, Incident Date#1016, Call Number#1041, Alarm DtTm#1066, Arrival DtTm#1091, Close DtTm#1116, City#1141, zipcode#1166, Battalion#1191, Station Area#1216, Box#1241, Suppression Units#1266, Suppression Personnel#667 AS Suppression Personnel#1291, EMS Units#692, EMS Personnel#717, Other Units#742, Other Personnel#767, First Unit On Scene#792, Estimated Property Loss#817, Estimated Contents Loss#842, Fire Fatalities#867]\n                                                                                                                                                                           +- Project [Incident Number#916, Exposure Number#941, ID#966, Address#991, Incident Date#1016, Call Number#1041, Alarm DtTm#1066, Arrival DtTm#1091, Close DtTm#1116, City#1141, zipcode#1166, Battalion#1191, Station Area#1216, Box#1241, Suppression Units#642 AS Suppression Units#1266, Suppression Personnel#667, EMS Units#692, EMS Personnel#717, Other Units#742, Other Personnel#767, First Unit On Scene#792, Estimated Property Loss#817, Estimated Contents Loss#842, Fire Fatalities#867]\n                                                                                                                                                                              +- Project [Incident Number#916, Exposure Number#941, ID#966, Address#991, Incident Date#1016, Call Number#1041, Alarm DtTm#1066, Arrival DtTm#1091, Close DtTm#1116, City#1141, zipcode#1166, Battalion#1191, Station Area#1216, Box#617 AS Box#1241, Suppression Units#642, Suppression Personnel#667, EMS Units#692, EMS Personnel#717, Other Units#742, Other Personnel#767, First Unit On Scene#792, Estimated Property Loss#817, Estimated Contents Loss#842, Fire Fatalities#867]\n                                                                                                                                                                                 +- Project [Incident Number#916, Exposure Number#941, ID#966, Address#991, Incident Date#1016, Call Number#1041, Alarm DtTm#1066, Arrival DtTm#1091, Close DtTm#1116, City#1141, zipcode#1166, Battalion#1191, Station Area#592 AS Station Area#1216, Box#617, Suppression Units#642, Suppression Personnel#667, EMS Units#692, EMS Personnel#717, Other Units#742, Other Personnel#767, First Unit On Scene#792, Estimated Property Loss#817, Estimated Contents Loss#842, Fire Fatalities#867]\n                                                                                                                                                                                    +- Project [Incident Number#916, Exposure Number#941, ID#966, Address#991, Incident Date#1016, Call Number#1041, Alarm DtTm#1066, Arrival DtTm#1091, Close DtTm#1116, City#1141, zipcode#1166, Battalion#567 AS Battalion#1191, Station Area#592, Box#617, Suppression Units#642, Suppression Personnel#667, EMS Units#692, EMS Personnel#717, Other Units#742, Other Personnel#767, First Unit On Scene#792, Estimated Property Loss#817, Estimated Contents Loss#842, Fire Fatalities#867]\n                                                                                                                                                                                       +- Project [Incident Number#916, Exposure Number#941, ID#966, Address#991, Incident Date#1016, Call Number#1041, Alarm DtTm#1066, Arrival DtTm#1091, Close DtTm#1116, City#1141, zipcode#542 AS zipcode#1166, Battalion#567, Station Area#592, Box#617, Suppression Units#642, Suppression Personnel#667, EMS Units#692, EMS Personnel#717, Other Units#742, Other Personnel#767, First Unit On Scene#792, Estimated Property Loss#817, Estimated Contents Loss#842, Fire Fatalities#867]\n                                                                                                                                                                                          +- Project [Incident Number#916, Exposure Number#941, ID#966, Address#991, Incident Date#1016, Call Number#1041, Alarm DtTm#1066, Arrival DtTm#1091, Close DtTm#1116, City#517 AS City#1141, zipcode#542, Battalion#567, Station Area#592, Box#617, Suppression Units#642, Suppression Personnel#667, EMS Units#692, EMS Personnel#717, Other Units#742, Other Personnel#767, First Unit On Scene#792, Estimated Property Loss#817, Estimated Contents Loss#842, Fire Fatalities#867]\n                                                                                                                                                                                             +- Project [Incident Number#916, Exposure Number#941, ID#966, Address#991, Incident Date#1016, Call Number#1041, Alarm DtTm#1066, Arrival DtTm#1091, Close DtTm#492 AS Close DtTm#1116, City#517, zipcode#542, Battalion#567, Station Area#592, Box#617, Suppression Units#642, Suppression Personnel#667, EMS Units#692, EMS Personnel#717, Other Units#742, Other Personnel#767, First Unit On Scene#792, Estimated Property Loss#817, Estimated Contents Loss#842, Fire Fatalities#867]\n                                                                                                                                                                                                +- Project [Incident Number#916, Exposure Number#941, ID#966, Address#991, Incident Date#1016, Call Number#1041, Alarm DtTm#1066, Arrival DtTm#467 AS Arrival DtTm#1091, Close DtTm#492, City#517, zipcode#542, Battalion#567, Station Area#592, Box#617, Suppression Units#642, Suppression Personnel#667, EMS Units#692, EMS Personnel#717, Other Units#742, Other Personnel#767, First Unit On Scene#792, Estimated Property Loss#817, Estimated Contents Loss#842, Fire Fatalities#867]\n                                                                                                                                                                                                   +- Project [Incident Number#916, Exposure Number#941, ID#966, Address#991, Incident Date#1016, Call Number#1041, Alarm DtTm#442 AS Alarm DtTm#1066, Arrival DtTm#467, Close DtTm#492, City#517, zipcode#542, Battalion#567, Station Area#592, Box#617, Suppression Units#642, Suppression Personnel#667, EMS Units#692, EMS Personnel#717, Other Units#742, Other Personnel#767, First Unit On Scene#792, Estimated Property Loss#817, Estimated Contents Loss#842, Fire Fatalities#867]\n                                                                                                                                                                                                      +- Project [Incident Number#916, Exposure Number#941, ID#966, Address#991, Incident Date#1016, Call Number#417 AS Call Number#1041, Alarm DtTm#442, Arrival DtTm#467, Close DtTm#492, City#517, zipcode#542, Battalion#567, Station Area#592, Box#617, Suppression Units#642, Suppression Personnel#667, EMS Units#692, EMS Personnel#717, Other Units#742, Other Personnel#767, First Unit On Scene#792, Estimated Property Loss#817, Estimated Contents Loss#842, Fire Fatalities#867]\n                                                                                                                                                                                                         +- Project [Incident Number#916, Exposure Number#941, ID#966, Address#991, Incident Date#392 AS Incident Date#1016, Call Number#417, Alarm DtTm#442, Arrival DtTm#467, Close DtTm#492, City#517, zipcode#542, Battalion#567, Station Area#592, Box#617, Suppression Units#642, Suppression Personnel#667, EMS Units#692, EMS Personnel#717, Other Units#742, Other Personnel#767, First Unit On Scene#792, Estimated Property Loss#817, Estimated Contents Loss#842, Fire Fatalities#867]\n                                                                                                                                                                                                            +- Project [Incident Number#916, Exposure Number#941, ID#966, Address#367 AS Address#991, Incident Date#392, Call Number#417, Alarm DtTm#442, Arrival DtTm#467, Close DtTm#492, City#517, zipcode#542, Battalion#567, Station Area#592, Box#617, Suppression Units#642, Suppression Personnel#667, EMS Units#692, EMS Personnel#717, Other Units#742, Other Personnel#767, First Unit On Scene#792, Estimated Property Loss#817, Estimated Contents Loss#842, Fire Fatalities#867]\n                                                                                                                                                                                                               +- Project [Incident Number#916, Exposure Number#941, ID#342 AS ID#966, Address#367, Incident Date#392, Call Number#417, Alarm DtTm#442, Arrival DtTm#467, Close DtTm#492, City#517, zipcode#542, Battalion#567, Station Area#592, Box#617, Suppression Units#642, Suppression Personnel#667, EMS Units#692, EMS Personnel#717, Other Units#742, Other Personnel#767, First Unit On Scene#792, Estimated Property Loss#817, Estimated Contents Loss#842, Fire Fatalities#867]\n                                                                                                                                                                                                                  +- Project [Incident Number#916, Exposure Number#317 AS Exposure Number#941, ID#342, Address#367, Incident Date#392, Call Number#417, Alarm DtTm#442, Arrival DtTm#467, Close DtTm#492, City#517, zipcode#542, Battalion#567, Station Area#592, Box#617, Suppression Units#642, Suppression Personnel#667, EMS Units#692, EMS Personnel#717, Other Units#742, Other Personnel#767, First Unit On Scene#792, Estimated Property Loss#817, Estimated Contents Loss#842, Fire Fatalities#867]\n                                                                                                                                                                                                                     +- Project [Incident Number#292 AS Incident Number#916, Exposure Number#317, ID#342, Address#367, Incident Date#392, Call Number#417, Alarm DtTm#442, Arrival DtTm#467, Close DtTm#492, City#517, zipcode#542, Battalion#567, Station Area#592, Box#617, Suppression Units#642, Suppression Personnel#667, EMS Units#692, EMS Personnel#717, Other Units#742, Other Personnel#767, First Unit On Scene#792, Estimated Property Loss#817, Estimated Contents Loss#842, Fire Fatalities#867]\n                                                                                                                                                                                                                        +- Project [Incident Number#292, Exposure Number#317, ID#342, Address#367, Incident Date#392, Call Number#417, Alarm DtTm#442, Arrival DtTm#467, Close DtTm#492, City#517, zipcode#542, Battalion#567, Station Area#592, Box#617, Suppression Units#642, Suppression Personnel#667, EMS Units#692, EMS Personnel#717, Other Units#742, Other Personnel#767, First Unit On Scene#792, Estimated Property Loss#817, Estimated Contents Loss#842, Fire Fatalities#76 AS Fire Fatalities#867]\n                                                                                                                                                                                                                           +- Project [Incident Number#292, Exposure Number#317, ID#342, Address#367, Incident Date#392, Call Number#417, Alarm DtTm#442, Arrival DtTm#467, Close DtTm#492, City#517, zipcode#542, Battalion#567, Station Area#592, Box#617, Suppression Units#642, Suppression Personnel#667, EMS Units#692, EMS Personnel#717, Other Units#742, Other Personnel#767, First Unit On Scene#792, Estimated Property Loss#817, Estimated Contents Loss#75 AS Estimated Contents Loss#842, Fire Fatalities#76]\n                                                                                                                                                                                                                              +- Project [Incident Number#292, Exposure Number#317, ID#342, Address#367, Incident Date#392, Call Number#417, Alarm DtTm#442, Arrival DtTm#467, Close DtTm#492, City#517, zipcode#542, Battalion#567, Station Area#592, Box#617, Suppression Units#642, Suppression Personnel#667, EMS Units#692, EMS Personnel#717, Other Units#742, Other Personnel#767, First Unit On Scene#792, Estimated Property Loss#74 AS Estimated Property Loss#817, Estimated Contents Loss#75, Fire Fatalities#76]\n                                                                                                                                                                                                                                 +- Project [Incident Number#292, Exposure Number#317, ID#342, Address#367, Incident Date#392, Call Number#417, Alarm DtTm#442, Arrival DtTm#467, Close DtTm#492, City#517, zipcode#542, Battalion#567, Station Area#592, Box#617, Suppression Units#642, Suppression Personnel#667, EMS Units#692, EMS Personnel#717, Other Units#742, Other Personnel#767, First Unit On Scene#73 AS First Unit On Scene#792, Estimated Property Loss#74, Estimated Contents Loss#75, Fire Fatalities#76]\n                                                                                                                                                                                                                                    +- Project [Incident Number#292, Exposure Number#317, ID#342, Address#367, Incident Date#392, Call Number#417, Alarm DtTm#442, Arrival DtTm#467, Close DtTm#492, City#517, zipcode#542, Battalion#567, Station Area#592, Box#617, Suppression Units#642, Suppression Personnel#667, EMS Units#692, EMS Personnel#717, Other Units#742, Other Personnel#72 AS Other Personnel#767, First Unit On Scene#73, Estimated Property Loss#74, Estimated Contents Loss#75, Fire Fatalities#76]\n                                                                                                                                                                                                                                       +- Project [Incident Number#292, Exposure Number#317, ID#342, Address#367, Incident Date#392, Call Number#417, Alarm DtTm#442, Arrival DtTm#467, Close DtTm#492, City#517, zipcode#542, Battalion#567, Station Area#592, Box#617, Suppression Units#642, Suppression Personnel#667, EMS Units#692, EMS Personnel#717, Other Units#71 AS Other Units#742, Other Personnel#72, First Unit On Scene#73, Estimated Property Loss#74, Estimated Contents Loss#75, Fire Fatalities#76]\n                                                                                                                                                                                                                                          +- Project [Incident Number#292, Exposure Number#317, ID#342, Address#367, Incident Date#392, Call Number#417, Alarm DtTm#442, Arrival DtTm#467, Close DtTm#492, City#517, zipcode#542, Battalion#567, Station Area#592, Box#617, Suppression Units#642, Suppression Personnel#667, EMS Units#692, EMS Personnel#70 AS EMS Personnel#717, Other Units#71, Other Personnel#72, First Unit On Scene#73, Estimated Property Loss#74, Estimated Contents Loss#75, Fire Fatalities#76]\n                                                                                                                                                                                                                                             +- Project [Incident Number#292, Exposure Number#317, ID#342, Address#367, Incident Date#392, Call Number#417, Alarm DtTm#442, Arrival DtTm#467, Close DtTm#492, City#517, zipcode#542, Battalion#567, Station Area#592, Box#617, Suppression Units#642, Suppression Personnel#667, EMS Units#69 AS EMS Units#692, EMS Personnel#70, Other Units#71, Other Personnel#72, First Unit On Scene#73, Estimated Property Loss#74, Estimated Contents Loss#75, Fire Fatalities#76]\n                                                                                                                                                                                                                                                +- Project [Incident Number#292, Exposure Number#317, ID#342, Address#367, Incident Date#392, Call Number#417, Alarm DtTm#442, Arrival DtTm#467, Close DtTm#492, City#517, zipcode#542, Battalion#567, Station Area#592, Box#617, Suppression Units#642, Suppression Personnel#68 AS Suppression Personnel#667, EMS Units#69, EMS Personnel#70, Other Units#71, Other Personnel#72, First Unit On Scene#73, Estimated Property Loss#74, Estimated Contents Loss#75, Fire Fatalities#76]\n                                                                                                                                                                                                                                                   +- Project [Incident Number#292, Exposure Number#317, ID#342, Address#367, Incident Date#392, Call Number#417, Alarm DtTm#442, Arrival DtTm#467, Close DtTm#492, City#517, zipcode#542, Battalion#567, Station Area#592, Box#617, Suppression Units#67 AS Suppression Units#642, Suppression Personnel#68, EMS Units#69, EMS Personnel#70, Other Units#71, Other Personnel#72, First Unit On Scene#73, Estimated Property Loss#74, Estimated Contents Loss#75, Fire Fatalities#76]\n                                                                                                                                                                                                                                                      +- Project [Incident Number#292, Exposure Number#317, ID#342, Address#367, Incident Date#392, Call Number#417, Alarm DtTm#442, Arrival DtTm#467, Close DtTm#492, City#517, zipcode#542, Battalion#567, Station Area#592, Box#66 AS Box#617, Suppression Units#67, Suppression Personnel#68, EMS Units#69, EMS Personnel#70, Other Units#71, Other Personnel#72, First Unit On Scene#73, Estimated Property Loss#74, Estimated Contents Loss#75, Fire Fatalities#76]\n                                                                                                                                                                                                                                                         +- Project [Incident Number#292, Exposure Number#317, ID#342, Address#367, Incident Date#392, Call Number#417, Alarm DtTm#442, Arrival DtTm#467, Close DtTm#492, City#517, zipcode#542, Battalion#567, Station Area#65 AS Station Area#592, Box#66, Suppression Units#67, Suppression Personnel#68, EMS Units#69, EMS Personnel#70, Other Units#71, Other Personnel#72, First Unit On Scene#73, Estimated Property Loss#74, Estimated Contents Loss#75, Fire Fatalities#76]\n                                                                                                                                                                                                                                                            +- Project [Incident Number#292, Exposure Number#317, ID#342, Address#367, Incident Date#392, Call Number#417, Alarm DtTm#442, Arrival DtTm#467, Close DtTm#492, City#517, zipcode#542, Battalion#64 AS Battalion#567, Station Area#65, Box#66, Suppression Units#67, Suppression Personnel#68, EMS Units#69, EMS Personnel#70, Other Units#71, Other Personnel#72, First Unit On Scene#73, Estimated Property Loss#74, Estimated Contents Loss#75, Fire Fatalities#76]\n                                                                                                                                                                                                                                                               +- Project [Incident Number#292, Exposure Number#317, ID#342, Address#367, Incident Date#392, Call Number#417, Alarm DtTm#442, Arrival DtTm#467, Close DtTm#492, City#517, zipcode#63 AS zipcode#542, Battalion#64, Station Area#65, Box#66, Suppression Units#67, Suppression Personnel#68, EMS Units#69, EMS Personnel#70, Other Units#71, Other Personnel#72, First Unit On Scene#73, Estimated Property Loss#74, Estimated Contents Loss#75, Fire Fatalities#76]\n                                                                                                                                                                                                                                                                  +- Project [Incident Number#292, Exposure Number#317, ID#342, Address#367, Incident Date#392, Call Number#417, Alarm DtTm#442, Arrival DtTm#467, Close DtTm#492, City#62 AS City#517, zipcode#63, Battalion#64, Station Area#65, Box#66, Suppression Units#67, Suppression Personnel#68, EMS Units#69, EMS Personnel#70, Other Units#71, Other Personnel#72, First Unit On Scene#73, Estimated Property Loss#74, Estimated Contents Loss#75, Fire Fatalities#76]\n                                                                                                                                                                                                                                                                     +- Project [Incident Number#292, Exposure Number#317, ID#342, Address#367, Incident Date#392, Call Number#417, Alarm DtTm#442, Arrival DtTm#467, Close DtTm#61 AS Close DtTm#492, City#62, zipcode#63, Battalion#64, Station Area#65, Box#66, Suppression Units#67, Suppression Personnel#68, EMS Units#69, EMS Personnel#70, Other Units#71, Other Personnel#72, First Unit On Scene#73, Estimated Property Loss#74, Estimated Contents Loss#75, Fire Fatalities#76]\n                                                                                                                                                                                                                                                                        +- Project [Incident Number#292, Exposure Number#317, ID#342, Address#367, Incident Date#392, Call Number#417, Alarm DtTm#442, Arrival DtTm#60 AS Arrival DtTm#467, Close DtTm#61, City#62, zipcode#63, Battalion#64, Station Area#65, Box#66, Suppression Units#67, Suppression Personnel#68, EMS Units#69, EMS Personnel#70, Other Units#71, Other Personnel#72, First Unit On Scene#73, Estimated Property Loss#74, Estimated Contents Loss#75, Fire Fatalities#76]\n                                                                                                                                                                                                                                                                           +- Project [Incident Number#292, Exposure Number#317, ID#342, Address#367, Incident Date#392, Call Number#417, Alarm DtTm#59 AS Alarm DtTm#442, Arrival DtTm#60, Close DtTm#61, City#62, zipcode#63, Battalion#64, Station Area#65, Box#66, Suppression Units#67, Suppression Personnel#68, EMS Units#69, EMS Personnel#70, Other Units#71, Other Personnel#72, First Unit On Scene#73, Estimated Property Loss#74, Estimated Contents Loss#75, Fire Fatalities#76]\n                                                                                                                                                                                                                                                                              +- Project [Incident Number#292, Exposure Number#317, ID#342, Address#367, Incident Date#392, Call Number#58 AS Call Number#417, Alarm DtTm#59, Arrival DtTm#60, Close DtTm#61, City#62, zipcode#63, Battalion#64, Station Area#65, Box#66, Suppression Units#67, Suppression Personnel#68, EMS Units#69, EMS Personnel#70, Other Units#71, Other Personnel#72, First Unit On Scene#73, Estimated Property Loss#74, Estimated Contents Loss#75, Fire Fatalities#76]\n                                                                                                                                                                                                                                                                                 +- Project [Incident Number#292, Exposure Number#317, ID#342, Address#367, Incident Date#57 AS Incident Date#392, Call Number#58, Alarm DtTm#59, Arrival DtTm#60, Close DtTm#61, City#62, zipcode#63, Battalion#64, Station Area#65, Box#66, Suppression Units#67, Suppression Personnel#68, EMS Units#69, EMS Personnel#70, Other Units#71, Other Personnel#72, First Unit On Scene#73, Estimated Property Loss#74, Estimated Contents Loss#75, Fire Fatalities#76]\n                                                                                                                                                                                                                                                                                    +- Project [Incident Number#292, Exposure Number#317, ID#342, Address#56 AS Address#367, Incident Date#57, Call Number#58, Alarm DtTm#59, Arrival DtTm#60, Close DtTm#61, City#62, zipcode#63, Battalion#64, Station Area#65, Box#66, Suppression Units#67, Suppression Personnel#68, EMS Units#69, EMS Personnel#70, Other Units#71, Other Personnel#72, First Unit On Scene#73, Estimated Property Loss#74, Estimated Contents Loss#75, Fire Fatalities#76]\n                                                                                                                                                                                                                                                                                       +- Project [Incident Number#292, Exposure Number#317, ID#55 AS ID#342, Address#56, Incident Date#57, Call Number#58, Alarm DtTm#59, Arrival DtTm#60, Close DtTm#61, City#62, zipcode#63, Battalion#64, Station Area#65, Box#66, Suppression Units#67, Suppression Personnel#68, EMS Units#69, EMS Personnel#70, Other Units#71, Other Personnel#72, First Unit On Scene#73, Estimated Property Loss#74, Estimated Contents Loss#75, Fire Fatalities#76]\n                                                                                                                                                                                                                                                                                          +- Project [Incident Number#292, Exposure Number#54 AS Exposure Number#317, ID#55, Address#56, Incident Date#57, Call Number#58, Alarm DtTm#59, Arrival DtTm#60, Close DtTm#61, City#62, zipcode#63, Battalion#64, Station Area#65, Box#66, Suppression Units#67, Suppression Personnel#68, EMS Units#69, EMS Personnel#70, Other Units#71, Other Personnel#72, First Unit On Scene#73, Estimated Property Loss#74, Estimated Contents Loss#75, Fire Fatalities#76]\n                                                                                                                                                                                                                                                                                             +- Project [Incident Number#53 AS Incident Number#292, Exposure Number#54, ID#55, Address#56, Incident Date#57, Call Number#58, Alarm DtTm#59, Arrival DtTm#60, Close DtTm#61, City#62, zipcode#63, Battalion#64, Station Area#65, Box#66, Suppression Units#67, Suppression Personnel#68, EMS Units#69, EMS Personnel#70, Other Units#71, Other Personnel#72, First Unit On Scene#73, Estimated Property Loss#74, Estimated Contents Loss#75, Fire Fatalities#76]\n                                                                                                                                                                                                                                                                                                +- Relation [Incident Number#53,Exposure Number#54,ID#55,Address#56,Incident Date#57,Call Number#58,Alarm DtTm#59,Arrival DtTm#60,Close DtTm#61,City#62,zipcode#63,Battalion#64,Station Area#65,Box#66,Suppression Units#67,Suppression Personnel#68,EMS Units#69,EMS Personnel#70,Other Units#71,Other Personnel#72,First Unit On Scene#73,Estimated Property Loss#74,Estimated Contents Loss#75,Fire Fatalities#76] csv\n",
     "output_type": "error",
     "traceback": [
      "\u001b[1;31m---------------------------------------------------------------------------\u001b[0m",
      "\u001b[1;31mAnalysisException\u001b[0m                         Traceback (most recent call last)",
      "\u001b[1;32m~\\AppData\\Local\\Temp/ipykernel_6552/1947269072.py\u001b[0m in \u001b[0;36m<module>\u001b[1;34m\u001b[0m\n\u001b[1;32m----> 1\u001b[1;33m \u001b[0mfire_df\u001b[0m\u001b[1;33m.\u001b[0m\u001b[0mselect\u001b[0m\u001b[1;33m(\u001b[0m\u001b[1;34m'Incident Number'\u001b[0m\u001b[1;33m,\u001b[0m\u001b[1;34m'Incident Date'\u001b[0m\u001b[1;33m,\u001b[0m\u001b[1;34m'City'\u001b[0m\u001b[1;33m)\u001b[0m\u001b[1;33m.\u001b[0m\u001b[0mshow\u001b[0m\u001b[1;33m(\u001b[0m\u001b[1;36m10\u001b[0m\u001b[1;33m)\u001b[0m\u001b[1;33m\u001b[0m\u001b[1;33m\u001b[0m\u001b[0m\n\u001b[0m",
      "\u001b[1;32mC:\\spark\\spark-3.2.1-bin-hadoop3.2\\python\\pyspark\\sql\\dataframe.py\u001b[0m in \u001b[0;36mselect\u001b[1;34m(self, *cols)\u001b[0m\n\u001b[0;32m   1683\u001b[0m         \u001b[1;33m[\u001b[0m\u001b[0mRow\u001b[0m\u001b[1;33m(\u001b[0m\u001b[0mname\u001b[0m\u001b[1;33m=\u001b[0m\u001b[1;34m'Alice'\u001b[0m\u001b[1;33m,\u001b[0m \u001b[0mage\u001b[0m\u001b[1;33m=\u001b[0m\u001b[1;36m12\u001b[0m\u001b[1;33m)\u001b[0m\u001b[1;33m,\u001b[0m \u001b[0mRow\u001b[0m\u001b[1;33m(\u001b[0m\u001b[0mname\u001b[0m\u001b[1;33m=\u001b[0m\u001b[1;34m'Bob'\u001b[0m\u001b[1;33m,\u001b[0m \u001b[0mage\u001b[0m\u001b[1;33m=\u001b[0m\u001b[1;36m15\u001b[0m\u001b[1;33m)\u001b[0m\u001b[1;33m]\u001b[0m\u001b[1;33m\u001b[0m\u001b[1;33m\u001b[0m\u001b[0m\n\u001b[0;32m   1684\u001b[0m         \"\"\"\n\u001b[1;32m-> 1685\u001b[1;33m         \u001b[0mjdf\u001b[0m \u001b[1;33m=\u001b[0m \u001b[0mself\u001b[0m\u001b[1;33m.\u001b[0m\u001b[0m_jdf\u001b[0m\u001b[1;33m.\u001b[0m\u001b[0mselect\u001b[0m\u001b[1;33m(\u001b[0m\u001b[0mself\u001b[0m\u001b[1;33m.\u001b[0m\u001b[0m_jcols\u001b[0m\u001b[1;33m(\u001b[0m\u001b[1;33m*\u001b[0m\u001b[0mcols\u001b[0m\u001b[1;33m)\u001b[0m\u001b[1;33m)\u001b[0m\u001b[1;33m\u001b[0m\u001b[1;33m\u001b[0m\u001b[0m\n\u001b[0m\u001b[0;32m   1686\u001b[0m         \u001b[1;32mreturn\u001b[0m \u001b[0mDataFrame\u001b[0m\u001b[1;33m(\u001b[0m\u001b[0mjdf\u001b[0m\u001b[1;33m,\u001b[0m \u001b[0mself\u001b[0m\u001b[1;33m.\u001b[0m\u001b[0msql_ctx\u001b[0m\u001b[1;33m)\u001b[0m\u001b[1;33m\u001b[0m\u001b[1;33m\u001b[0m\u001b[0m\n\u001b[0;32m   1687\u001b[0m \u001b[1;33m\u001b[0m\u001b[0m\n",
      "\u001b[1;32mC:\\spark\\spark-3.2.1-bin-hadoop3.2\\python\\lib\\py4j-0.10.9.3-src.zip\\py4j\\java_gateway.py\u001b[0m in \u001b[0;36m__call__\u001b[1;34m(self, *args)\u001b[0m\n\u001b[0;32m   1319\u001b[0m \u001b[1;33m\u001b[0m\u001b[0m\n\u001b[0;32m   1320\u001b[0m         \u001b[0manswer\u001b[0m \u001b[1;33m=\u001b[0m \u001b[0mself\u001b[0m\u001b[1;33m.\u001b[0m\u001b[0mgateway_client\u001b[0m\u001b[1;33m.\u001b[0m\u001b[0msend_command\u001b[0m\u001b[1;33m(\u001b[0m\u001b[0mcommand\u001b[0m\u001b[1;33m)\u001b[0m\u001b[1;33m\u001b[0m\u001b[1;33m\u001b[0m\u001b[0m\n\u001b[1;32m-> 1321\u001b[1;33m         return_value = get_return_value(\n\u001b[0m\u001b[0;32m   1322\u001b[0m             answer, self.gateway_client, self.target_id, self.name)\n\u001b[0;32m   1323\u001b[0m \u001b[1;33m\u001b[0m\u001b[0m\n",
      "\u001b[1;32mC:\\spark\\spark-3.2.1-bin-hadoop3.2\\python\\pyspark\\sql\\utils.py\u001b[0m in \u001b[0;36mdeco\u001b[1;34m(*a, **kw)\u001b[0m\n\u001b[0;32m    115\u001b[0m                 \u001b[1;31m# Hide where the exception came from that shows a non-Pythonic\u001b[0m\u001b[1;33m\u001b[0m\u001b[1;33m\u001b[0m\u001b[0m\n\u001b[0;32m    116\u001b[0m                 \u001b[1;31m# JVM exception message.\u001b[0m\u001b[1;33m\u001b[0m\u001b[1;33m\u001b[0m\u001b[0m\n\u001b[1;32m--> 117\u001b[1;33m                 \u001b[1;32mraise\u001b[0m \u001b[0mconverted\u001b[0m \u001b[1;32mfrom\u001b[0m \u001b[1;32mNone\u001b[0m\u001b[1;33m\u001b[0m\u001b[1;33m\u001b[0m\u001b[0m\n\u001b[0m\u001b[0;32m    118\u001b[0m             \u001b[1;32melse\u001b[0m\u001b[1;33m:\u001b[0m\u001b[1;33m\u001b[0m\u001b[1;33m\u001b[0m\u001b[0m\n\u001b[0;32m    119\u001b[0m                 \u001b[1;32mraise\u001b[0m\u001b[1;33m\u001b[0m\u001b[1;33m\u001b[0m\u001b[0m\n",
      "\u001b[1;31mAnalysisException\u001b[0m: cannot resolve '`Incident Number`' given input columns: [Address, AlarmDtTm, ArrivalDtTm, Battalion, Box, CallNumber, City, CloseDtTm, EMSPersonnel, EMSUnits, EstimatedContentsLoss, EstimatedPropertyLoss, ExposureNumber, FireFatalities, FirstUnitOnScene, ID, IncidentDate, IncidentNumber, OtherPersonnel, OtherUnits, StationArea, SuppressionPersonnel, SuppressionUnits, zipcode];\n'Project ['Incident Number, 'Incident Date, City#2341]\n+- Project [IncidentNumber#2116, ExposureNumber#2141, ID#2166, Address#2191, IncidentDate#2216, CallNumber#2241, AlarmDtTm#2266, ArrivalDtTm#2291, CloseDtTm#2316, City#2341, zipcode#2366, Battalion#2391, StationArea#2416, Box#2441, SuppressionUnits#2466, SuppressionPersonnel#2491, EMSUnits#2516, EMSPersonnel#2541, OtherUnits#2566, OtherPersonnel#2591, FirstUnitOnScene#2616, EstimatedPropertyLoss#2641, EstimatedContentsLoss#2666, Fire Fatalities#2091 AS FireFatalities#2691]\n   +- Project [IncidentNumber#2116, ExposureNumber#2141, ID#2166, Address#2191, IncidentDate#2216, CallNumber#2241, AlarmDtTm#2266, ArrivalDtTm#2291, CloseDtTm#2316, City#2341, zipcode#2366, Battalion#2391, StationArea#2416, Box#2441, SuppressionUnits#2466, SuppressionPersonnel#2491, EMSUnits#2516, EMSPersonnel#2541, OtherUnits#2566, OtherPersonnel#2591, FirstUnitOnScene#2616, EstimatedPropertyLoss#2641, Estimated Contents Loss#2066 AS EstimatedContentsLoss#2666, Fire Fatalities#2091]\n      +- Project [IncidentNumber#2116, ExposureNumber#2141, ID#2166, Address#2191, IncidentDate#2216, CallNumber#2241, AlarmDtTm#2266, ArrivalDtTm#2291, CloseDtTm#2316, City#2341, zipcode#2366, Battalion#2391, StationArea#2416, Box#2441, SuppressionUnits#2466, SuppressionPersonnel#2491, EMSUnits#2516, EMSPersonnel#2541, OtherUnits#2566, OtherPersonnel#2591, FirstUnitOnScene#2616, Estimated Property Loss#2041 AS EstimatedPropertyLoss#2641, Estimated Contents Loss#2066, Fire Fatalities#2091]\n         +- Project [IncidentNumber#2116, ExposureNumber#2141, ID#2166, Address#2191, IncidentDate#2216, CallNumber#2241, AlarmDtTm#2266, ArrivalDtTm#2291, CloseDtTm#2316, City#2341, zipcode#2366, Battalion#2391, StationArea#2416, Box#2441, SuppressionUnits#2466, SuppressionPersonnel#2491, EMSUnits#2516, EMSPersonnel#2541, OtherUnits#2566, OtherPersonnel#2591, First Unit On Scene#2016 AS FirstUnitOnScene#2616, Estimated Property Loss#2041, Estimated Contents Loss#2066, Fire Fatalities#2091]\n            +- Project [IncidentNumber#2116, ExposureNumber#2141, ID#2166, Address#2191, IncidentDate#2216, CallNumber#2241, AlarmDtTm#2266, ArrivalDtTm#2291, CloseDtTm#2316, City#2341, zipcode#2366, Battalion#2391, StationArea#2416, Box#2441, SuppressionUnits#2466, SuppressionPersonnel#2491, EMSUnits#2516, EMSPersonnel#2541, OtherUnits#2566, Other Personnel#1991 AS OtherPersonnel#2591, First Unit On Scene#2016, Estimated Property Loss#2041, Estimated Contents Loss#2066, Fire Fatalities#2091]\n               +- Project [IncidentNumber#2116, ExposureNumber#2141, ID#2166, Address#2191, IncidentDate#2216, CallNumber#2241, AlarmDtTm#2266, ArrivalDtTm#2291, CloseDtTm#2316, City#2341, zipcode#2366, Battalion#2391, StationArea#2416, Box#2441, SuppressionUnits#2466, SuppressionPersonnel#2491, EMSUnits#2516, EMSPersonnel#2541, Other Units#1966 AS OtherUnits#2566, Other Personnel#1991, First Unit On Scene#2016, Estimated Property Loss#2041, Estimated Contents Loss#2066, Fire Fatalities#2091]\n                  +- Project [IncidentNumber#2116, ExposureNumber#2141, ID#2166, Address#2191, IncidentDate#2216, CallNumber#2241, AlarmDtTm#2266, ArrivalDtTm#2291, CloseDtTm#2316, City#2341, zipcode#2366, Battalion#2391, StationArea#2416, Box#2441, SuppressionUnits#2466, SuppressionPersonnel#2491, EMSUnits#2516, EMS Personnel#1941 AS EMSPersonnel#2541, Other Units#1966, Other Personnel#1991, First Unit On Scene#2016, Estimated Property Loss#2041, Estimated Contents Loss#2066, Fire Fatalities#2091]\n                     +- Project [IncidentNumber#2116, ExposureNumber#2141, ID#2166, Address#2191, IncidentDate#2216, CallNumber#2241, AlarmDtTm#2266, ArrivalDtTm#2291, CloseDtTm#2316, City#2341, zipcode#2366, Battalion#2391, StationArea#2416, Box#2441, SuppressionUnits#2466, SuppressionPersonnel#2491, EMS Units#1916 AS EMSUnits#2516, EMS Personnel#1941, Other Units#1966, Other Personnel#1991, First Unit On Scene#2016, Estimated Property Loss#2041, Estimated Contents Loss#2066, Fire Fatalities#2091]\n                        +- Project [IncidentNumber#2116, ExposureNumber#2141, ID#2166, Address#2191, IncidentDate#2216, CallNumber#2241, AlarmDtTm#2266, ArrivalDtTm#2291, CloseDtTm#2316, City#2341, zipcode#2366, Battalion#2391, StationArea#2416, Box#2441, SuppressionUnits#2466, Suppression Personnel#1891 AS SuppressionPersonnel#2491, EMS Units#1916, EMS Personnel#1941, Other Units#1966, Other Personnel#1991, First Unit On Scene#2016, Estimated Property Loss#2041, Estimated Contents Loss#2066, Fire Fatalities#2091]\n                           +- Project [IncidentNumber#2116, ExposureNumber#2141, ID#2166, Address#2191, IncidentDate#2216, CallNumber#2241, AlarmDtTm#2266, ArrivalDtTm#2291, CloseDtTm#2316, City#2341, zipcode#2366, Battalion#2391, StationArea#2416, Box#2441, Suppression Units#1866 AS SuppressionUnits#2466, Suppression Personnel#1891, EMS Units#1916, EMS Personnel#1941, Other Units#1966, Other Personnel#1991, First Unit On Scene#2016, Estimated Property Loss#2041, Estimated Contents Loss#2066, Fire Fatalities#2091]\n                              +- Project [IncidentNumber#2116, ExposureNumber#2141, ID#2166, Address#2191, IncidentDate#2216, CallNumber#2241, AlarmDtTm#2266, ArrivalDtTm#2291, CloseDtTm#2316, City#2341, zipcode#2366, Battalion#2391, StationArea#2416, Box#1841 AS Box#2441, Suppression Units#1866, Suppression Personnel#1891, EMS Units#1916, EMS Personnel#1941, Other Units#1966, Other Personnel#1991, First Unit On Scene#2016, Estimated Property Loss#2041, Estimated Contents Loss#2066, Fire Fatalities#2091]\n                                 +- Project [IncidentNumber#2116, ExposureNumber#2141, ID#2166, Address#2191, IncidentDate#2216, CallNumber#2241, AlarmDtTm#2266, ArrivalDtTm#2291, CloseDtTm#2316, City#2341, zipcode#2366, Battalion#2391, Station Area#1816 AS StationArea#2416, Box#1841, Suppression Units#1866, Suppression Personnel#1891, EMS Units#1916, EMS Personnel#1941, Other Units#1966, Other Personnel#1991, First Unit On Scene#2016, Estimated Property Loss#2041, Estimated Contents Loss#2066, Fire Fatalities#2091]\n                                    +- Project [IncidentNumber#2116, ExposureNumber#2141, ID#2166, Address#2191, IncidentDate#2216, CallNumber#2241, AlarmDtTm#2266, ArrivalDtTm#2291, CloseDtTm#2316, City#2341, zipcode#2366, Battalion#1791 AS Battalion#2391, Station Area#1816, Box#1841, Suppression Units#1866, Suppression Personnel#1891, EMS Units#1916, EMS Personnel#1941, Other Units#1966, Other Personnel#1991, First Unit On Scene#2016, Estimated Property Loss#2041, Estimated Contents Loss#2066, Fire Fatalities#2091]\n                                       +- Project [IncidentNumber#2116, ExposureNumber#2141, ID#2166, Address#2191, IncidentDate#2216, CallNumber#2241, AlarmDtTm#2266, ArrivalDtTm#2291, CloseDtTm#2316, City#2341, zipcode#1766 AS zipcode#2366, Battalion#1791, Station Area#1816, Box#1841, Suppression Units#1866, Suppression Personnel#1891, EMS Units#1916, EMS Personnel#1941, Other Units#1966, Other Personnel#1991, First Unit On Scene#2016, Estimated Property Loss#2041, Estimated Contents Loss#2066, Fire Fatalities#2091]\n                                          +- Project [IncidentNumber#2116, ExposureNumber#2141, ID#2166, Address#2191, IncidentDate#2216, CallNumber#2241, AlarmDtTm#2266, ArrivalDtTm#2291, CloseDtTm#2316, City#1741 AS City#2341, zipcode#1766, Battalion#1791, Station Area#1816, Box#1841, Suppression Units#1866, Suppression Personnel#1891, EMS Units#1916, EMS Personnel#1941, Other Units#1966, Other Personnel#1991, First Unit On Scene#2016, Estimated Property Loss#2041, Estimated Contents Loss#2066, Fire Fatalities#2091]\n                                             +- Project [IncidentNumber#2116, ExposureNumber#2141, ID#2166, Address#2191, IncidentDate#2216, CallNumber#2241, AlarmDtTm#2266, ArrivalDtTm#2291, Close DtTm#1716 AS CloseDtTm#2316, City#1741, zipcode#1766, Battalion#1791, Station Area#1816, Box#1841, Suppression Units#1866, Suppression Personnel#1891, EMS Units#1916, EMS Personnel#1941, Other Units#1966, Other Personnel#1991, First Unit On Scene#2016, Estimated Property Loss#2041, Estimated Contents Loss#2066, Fire Fatalities#2091]\n                                                +- Project [IncidentNumber#2116, ExposureNumber#2141, ID#2166, Address#2191, IncidentDate#2216, CallNumber#2241, AlarmDtTm#2266, Arrival DtTm#1691 AS ArrivalDtTm#2291, Close DtTm#1716, City#1741, zipcode#1766, Battalion#1791, Station Area#1816, Box#1841, Suppression Units#1866, Suppression Personnel#1891, EMS Units#1916, EMS Personnel#1941, Other Units#1966, Other Personnel#1991, First Unit On Scene#2016, Estimated Property Loss#2041, Estimated Contents Loss#2066, Fire Fatalities#2091]\n                                                   +- Project [IncidentNumber#2116, ExposureNumber#2141, ID#2166, Address#2191, IncidentDate#2216, CallNumber#2241, Alarm DtTm#1666 AS AlarmDtTm#2266, Arrival DtTm#1691, Close DtTm#1716, City#1741, zipcode#1766, Battalion#1791, Station Area#1816, Box#1841, Suppression Units#1866, Suppression Personnel#1891, EMS Units#1916, EMS Personnel#1941, Other Units#1966, Other Personnel#1991, First Unit On Scene#2016, Estimated Property Loss#2041, Estimated Contents Loss#2066, Fire Fatalities#2091]\n                                                      +- Project [IncidentNumber#2116, ExposureNumber#2141, ID#2166, Address#2191, IncidentDate#2216, Call Number#1641 AS CallNumber#2241, Alarm DtTm#1666, Arrival DtTm#1691, Close DtTm#1716, City#1741, zipcode#1766, Battalion#1791, Station Area#1816, Box#1841, Suppression Units#1866, Suppression Personnel#1891, EMS Units#1916, EMS Personnel#1941, Other Units#1966, Other Personnel#1991, First Unit On Scene#2016, Estimated Property Loss#2041, Estimated Contents Loss#2066, Fire Fatalities#2091]\n                                                         +- Project [IncidentNumber#2116, ExposureNumber#2141, ID#2166, Address#2191, Incident Date#1616 AS IncidentDate#2216, Call Number#1641, Alarm DtTm#1666, Arrival DtTm#1691, Close DtTm#1716, City#1741, zipcode#1766, Battalion#1791, Station Area#1816, Box#1841, Suppression Units#1866, Suppression Personnel#1891, EMS Units#1916, EMS Personnel#1941, Other Units#1966, Other Personnel#1991, First Unit On Scene#2016, Estimated Property Loss#2041, Estimated Contents Loss#2066, Fire Fatalities#2091]\n                                                            +- Project [IncidentNumber#2116, ExposureNumber#2141, ID#2166, Address#1591 AS Address#2191, Incident Date#1616, Call Number#1641, Alarm DtTm#1666, Arrival DtTm#1691, Close DtTm#1716, City#1741, zipcode#1766, Battalion#1791, Station Area#1816, Box#1841, Suppression Units#1866, Suppression Personnel#1891, EMS Units#1916, EMS Personnel#1941, Other Units#1966, Other Personnel#1991, First Unit On Scene#2016, Estimated Property Loss#2041, Estimated Contents Loss#2066, Fire Fatalities#2091]\n                                                               +- Project [IncidentNumber#2116, ExposureNumber#2141, ID#1566 AS ID#2166, Address#1591, Incident Date#1616, Call Number#1641, Alarm DtTm#1666, Arrival DtTm#1691, Close DtTm#1716, City#1741, zipcode#1766, Battalion#1791, Station Area#1816, Box#1841, Suppression Units#1866, Suppression Personnel#1891, EMS Units#1916, EMS Personnel#1941, Other Units#1966, Other Personnel#1991, First Unit On Scene#2016, Estimated Property Loss#2041, Estimated Contents Loss#2066, Fire Fatalities#2091]\n                                                                  +- Project [IncidentNumber#2116, Exposure Number#1541 AS ExposureNumber#2141, ID#1566, Address#1591, Incident Date#1616, Call Number#1641, Alarm DtTm#1666, Arrival DtTm#1691, Close DtTm#1716, City#1741, zipcode#1766, Battalion#1791, Station Area#1816, Box#1841, Suppression Units#1866, Suppression Personnel#1891, EMS Units#1916, EMS Personnel#1941, Other Units#1966, Other Personnel#1991, First Unit On Scene#2016, Estimated Property Loss#2041, Estimated Contents Loss#2066, Fire Fatalities#2091]\n                                                                     +- Project [Incident Number#1516 AS IncidentNumber#2116, Exposure Number#1541, ID#1566, Address#1591, Incident Date#1616, Call Number#1641, Alarm DtTm#1666, Arrival DtTm#1691, Close DtTm#1716, City#1741, zipcode#1766, Battalion#1791, Station Area#1816, Box#1841, Suppression Units#1866, Suppression Personnel#1891, EMS Units#1916, EMS Personnel#1941, Other Units#1966, Other Personnel#1991, First Unit On Scene#2016, Estimated Property Loss#2041, Estimated Contents Loss#2066, Fire Fatalities#2091]\n                                                                        +- Project [Incident Number#1516, Exposure Number#1541, ID#1566, Address#1591, Incident Date#1616, Call Number#1641, Alarm DtTm#1666, Arrival DtTm#1691, Close DtTm#1716, City#1741, zipcode#1766, Battalion#1791, Station Area#1816, Box#1841, Suppression Units#1866, Suppression Personnel#1891, EMS Units#1916, EMS Personnel#1941, Other Units#1966, Other Personnel#1991, First Unit On Scene#2016, Estimated Property Loss#2041, Estimated Contents Loss#2066, Fire Fatalities#1491 AS Fire Fatalities#2091]\n                                                                           +- Project [Incident Number#1516, Exposure Number#1541, ID#1566, Address#1591, Incident Date#1616, Call Number#1641, Alarm DtTm#1666, Arrival DtTm#1691, Close DtTm#1716, City#1741, zipcode#1766, Battalion#1791, Station Area#1816, Box#1841, Suppression Units#1866, Suppression Personnel#1891, EMS Units#1916, EMS Personnel#1941, Other Units#1966, Other Personnel#1991, First Unit On Scene#2016, Estimated Property Loss#2041, Estimated Contents Loss#1466 AS Estimated Contents Loss#2066, Fire Fatalities#1491]\n                                                                              +- Project [Incident Number#1516, Exposure Number#1541, ID#1566, Address#1591, Incident Date#1616, Call Number#1641, Alarm DtTm#1666, Arrival DtTm#1691, Close DtTm#1716, City#1741, zipcode#1766, Battalion#1791, Station Area#1816, Box#1841, Suppression Units#1866, Suppression Personnel#1891, EMS Units#1916, EMS Personnel#1941, Other Units#1966, Other Personnel#1991, First Unit On Scene#2016, Estimated Property Loss#1441 AS Estimated Property Loss#2041, Estimated Contents Loss#1466, Fire Fatalities#1491]\n                                                                                 +- Project [Incident Number#1516, Exposure Number#1541, ID#1566, Address#1591, Incident Date#1616, Call Number#1641, Alarm DtTm#1666, Arrival DtTm#1691, Close DtTm#1716, City#1741, zipcode#1766, Battalion#1791, Station Area#1816, Box#1841, Suppression Units#1866, Suppression Personnel#1891, EMS Units#1916, EMS Personnel#1941, Other Units#1966, Other Personnel#1991, First Unit On Scene#1416 AS First Unit On Scene#2016, Estimated Property Loss#1441, Estimated Contents Loss#1466, Fire Fatalities#1491]\n                                                                                    +- Project [Incident Number#1516, Exposure Number#1541, ID#1566, Address#1591, Incident Date#1616, Call Number#1641, Alarm DtTm#1666, Arrival DtTm#1691, Close DtTm#1716, City#1741, zipcode#1766, Battalion#1791, Station Area#1816, Box#1841, Suppression Units#1866, Suppression Personnel#1891, EMS Units#1916, EMS Personnel#1941, Other Units#1966, Other Personnel#1391 AS Other Personnel#1991, First Unit On Scene#1416, Estimated Property Loss#1441, Estimated Contents Loss#1466, Fire Fatalities#1491]\n                                                                                       +- Project [Incident Number#1516, Exposure Number#1541, ID#1566, Address#1591, Incident Date#1616, Call Number#1641, Alarm DtTm#1666, Arrival DtTm#1691, Close DtTm#1716, City#1741, zipcode#1766, Battalion#1791, Station Area#1816, Box#1841, Suppression Units#1866, Suppression Personnel#1891, EMS Units#1916, EMS Personnel#1941, Other Units#1366 AS Other Units#1966, Other Personnel#1391, First Unit On Scene#1416, Estimated Property Loss#1441, Estimated Contents Loss#1466, Fire Fatalities#1491]\n                                                                                          +- Project [Incident Number#1516, Exposure Number#1541, ID#1566, Address#1591, Incident Date#1616, Call Number#1641, Alarm DtTm#1666, Arrival DtTm#1691, Close DtTm#1716, City#1741, zipcode#1766, Battalion#1791, Station Area#1816, Box#1841, Suppression Units#1866, Suppression Personnel#1891, EMS Units#1916, EMS Personnel#1341 AS EMS Personnel#1941, Other Units#1366, Other Personnel#1391, First Unit On Scene#1416, Estimated Property Loss#1441, Estimated Contents Loss#1466, Fire Fatalities#1491]\n                                                                                             +- Project [Incident Number#1516, Exposure Number#1541, ID#1566, Address#1591, Incident Date#1616, Call Number#1641, Alarm DtTm#1666, Arrival DtTm#1691, Close DtTm#1716, City#1741, zipcode#1766, Battalion#1791, Station Area#1816, Box#1841, Suppression Units#1866, Suppression Personnel#1891, EMS Units#1316 AS EMS Units#1916, EMS Personnel#1341, Other Units#1366, Other Personnel#1391, First Unit On Scene#1416, Estimated Property Loss#1441, Estimated Contents Loss#1466, Fire Fatalities#1491]\n                                                                                                +- Project [Incident Number#1516, Exposure Number#1541, ID#1566, Address#1591, Incident Date#1616, Call Number#1641, Alarm DtTm#1666, Arrival DtTm#1691, Close DtTm#1716, City#1741, zipcode#1766, Battalion#1791, Station Area#1816, Box#1841, Suppression Units#1866, Suppression Personnel#1291 AS Suppression Personnel#1891, EMS Units#1316, EMS Personnel#1341, Other Units#1366, Other Personnel#1391, First Unit On Scene#1416, Estimated Property Loss#1441, Estimated Contents Loss#1466, Fire Fatalities#1491]\n                                                                                                   +- Project [Incident Number#1516, Exposure Number#1541, ID#1566, Address#1591, Incident Date#1616, Call Number#1641, Alarm DtTm#1666, Arrival DtTm#1691, Close DtTm#1716, City#1741, zipcode#1766, Battalion#1791, Station Area#1816, Box#1841, Suppression Units#1266 AS Suppression Units#1866, Suppression Personnel#1291, EMS Units#1316, EMS Personnel#1341, Other Units#1366, Other Personnel#1391, First Unit On Scene#1416, Estimated Property Loss#1441, Estimated Contents Loss#1466, Fire Fatalities#1491]\n                                                                                                      +- Project [Incident Number#1516, Exposure Number#1541, ID#1566, Address#1591, Incident Date#1616, Call Number#1641, Alarm DtTm#1666, Arrival DtTm#1691, Close DtTm#1716, City#1741, zipcode#1766, Battalion#1791, Station Area#1816, Box#1241 AS Box#1841, Suppression Units#1266, Suppression Personnel#1291, EMS Units#1316, EMS Personnel#1341, Other Units#1366, Other Personnel#1391, First Unit On Scene#1416, Estimated Property Loss#1441, Estimated Contents Loss#1466, Fire Fatalities#1491]\n                                                                                                         +- Project [Incident Number#1516, Exposure Number#1541, ID#1566, Address#1591, Incident Date#1616, Call Number#1641, Alarm DtTm#1666, Arrival DtTm#1691, Close DtTm#1716, City#1741, zipcode#1766, Battalion#1791, Station Area#1216 AS Station Area#1816, Box#1241, Suppression Units#1266, Suppression Personnel#1291, EMS Units#1316, EMS Personnel#1341, Other Units#1366, Other Personnel#1391, First Unit On Scene#1416, Estimated Property Loss#1441, Estimated Contents Loss#1466, Fire Fatalities#1491]\n                                                                                                            +- Project [Incident Number#1516, Exposure Number#1541, ID#1566, Address#1591, Incident Date#1616, Call Number#1641, Alarm DtTm#1666, Arrival DtTm#1691, Close DtTm#1716, City#1741, zipcode#1766, Battalion#1191 AS Battalion#1791, Station Area#1216, Box#1241, Suppression Units#1266, Suppression Personnel#1291, EMS Units#1316, EMS Personnel#1341, Other Units#1366, Other Personnel#1391, First Unit On Scene#1416, Estimated Property Loss#1441, Estimated Contents Loss#1466, Fire Fatalities#1491]\n                                                                                                               +- Project [Incident Number#1516, Exposure Number#1541, ID#1566, Address#1591, Incident Date#1616, Call Number#1641, Alarm DtTm#1666, Arrival DtTm#1691, Close DtTm#1716, City#1741, zipcode#1166 AS zipcode#1766, Battalion#1191, Station Area#1216, Box#1241, Suppression Units#1266, Suppression Personnel#1291, EMS Units#1316, EMS Personnel#1341, Other Units#1366, Other Personnel#1391, First Unit On Scene#1416, Estimated Property Loss#1441, Estimated Contents Loss#1466, Fire Fatalities#1491]\n                                                                                                                  +- Project [Incident Number#1516, Exposure Number#1541, ID#1566, Address#1591, Incident Date#1616, Call Number#1641, Alarm DtTm#1666, Arrival DtTm#1691, Close DtTm#1716, City#1141 AS City#1741, zipcode#1166, Battalion#1191, Station Area#1216, Box#1241, Suppression Units#1266, Suppression Personnel#1291, EMS Units#1316, EMS Personnel#1341, Other Units#1366, Other Personnel#1391, First Unit On Scene#1416, Estimated Property Loss#1441, Estimated Contents Loss#1466, Fire Fatalities#1491]\n                                                                                                                     +- Project [Incident Number#1516, Exposure Number#1541, ID#1566, Address#1591, Incident Date#1616, Call Number#1641, Alarm DtTm#1666, Arrival DtTm#1691, Close DtTm#1116 AS Close DtTm#1716, City#1141, zipcode#1166, Battalion#1191, Station Area#1216, Box#1241, Suppression Units#1266, Suppression Personnel#1291, EMS Units#1316, EMS Personnel#1341, Other Units#1366, Other Personnel#1391, First Unit On Scene#1416, Estimated Property Loss#1441, Estimated Contents Loss#1466, Fire Fatalities#1491]\n                                                                                                                        +- Project [Incident Number#1516, Exposure Number#1541, ID#1566, Address#1591, Incident Date#1616, Call Number#1641, Alarm DtTm#1666, Arrival DtTm#1091 AS Arrival DtTm#1691, Close DtTm#1116, City#1141, zipcode#1166, Battalion#1191, Station Area#1216, Box#1241, Suppression Units#1266, Suppression Personnel#1291, EMS Units#1316, EMS Personnel#1341, Other Units#1366, Other Personnel#1391, First Unit On Scene#1416, Estimated Property Loss#1441, Estimated Contents Loss#1466, Fire Fatalities#1491]\n                                                                                                                           +- Project [Incident Number#1516, Exposure Number#1541, ID#1566, Address#1591, Incident Date#1616, Call Number#1641, Alarm DtTm#1066 AS Alarm DtTm#1666, Arrival DtTm#1091, Close DtTm#1116, City#1141, zipcode#1166, Battalion#1191, Station Area#1216, Box#1241, Suppression Units#1266, Suppression Personnel#1291, EMS Units#1316, EMS Personnel#1341, Other Units#1366, Other Personnel#1391, First Unit On Scene#1416, Estimated Property Loss#1441, Estimated Contents Loss#1466, Fire Fatalities#1491]\n                                                                                                                              +- Project [Incident Number#1516, Exposure Number#1541, ID#1566, Address#1591, Incident Date#1616, Call Number#1041 AS Call Number#1641, Alarm DtTm#1066, Arrival DtTm#1091, Close DtTm#1116, City#1141, zipcode#1166, Battalion#1191, Station Area#1216, Box#1241, Suppression Units#1266, Suppression Personnel#1291, EMS Units#1316, EMS Personnel#1341, Other Units#1366, Other Personnel#1391, First Unit On Scene#1416, Estimated Property Loss#1441, Estimated Contents Loss#1466, Fire Fatalities#1491]\n                                                                                                                                 +- Project [Incident Number#1516, Exposure Number#1541, ID#1566, Address#1591, Incident Date#1016 AS Incident Date#1616, Call Number#1041, Alarm DtTm#1066, Arrival DtTm#1091, Close DtTm#1116, City#1141, zipcode#1166, Battalion#1191, Station Area#1216, Box#1241, Suppression Units#1266, Suppression Personnel#1291, EMS Units#1316, EMS Personnel#1341, Other Units#1366, Other Personnel#1391, First Unit On Scene#1416, Estimated Property Loss#1441, Estimated Contents Loss#1466, Fire Fatalities#1491]\n                                                                                                                                    +- Project [Incident Number#1516, Exposure Number#1541, ID#1566, Address#991 AS Address#1591, Incident Date#1016, Call Number#1041, Alarm DtTm#1066, Arrival DtTm#1091, Close DtTm#1116, City#1141, zipcode#1166, Battalion#1191, Station Area#1216, Box#1241, Suppression Units#1266, Suppression Personnel#1291, EMS Units#1316, EMS Personnel#1341, Other Units#1366, Other Personnel#1391, First Unit On Scene#1416, Estimated Property Loss#1441, Estimated Contents Loss#1466, Fire Fatalities#1491]\n                                                                                                                                       +- Project [Incident Number#1516, Exposure Number#1541, ID#966 AS ID#1566, Address#991, Incident Date#1016, Call Number#1041, Alarm DtTm#1066, Arrival DtTm#1091, Close DtTm#1116, City#1141, zipcode#1166, Battalion#1191, Station Area#1216, Box#1241, Suppression Units#1266, Suppression Personnel#1291, EMS Units#1316, EMS Personnel#1341, Other Units#1366, Other Personnel#1391, First Unit On Scene#1416, Estimated Property Loss#1441, Estimated Contents Loss#1466, Fire Fatalities#1491]\n                                                                                                                                          +- Project [Incident Number#1516, Exposure Number#941 AS Exposure Number#1541, ID#966, Address#991, Incident Date#1016, Call Number#1041, Alarm DtTm#1066, Arrival DtTm#1091, Close DtTm#1116, City#1141, zipcode#1166, Battalion#1191, Station Area#1216, Box#1241, Suppression Units#1266, Suppression Personnel#1291, EMS Units#1316, EMS Personnel#1341, Other Units#1366, Other Personnel#1391, First Unit On Scene#1416, Estimated Property Loss#1441, Estimated Contents Loss#1466, Fire Fatalities#1491]\n                                                                                                                                             +- Project [Incident Number#916 AS Incident Number#1516, Exposure Number#941, ID#966, Address#991, Incident Date#1016, Call Number#1041, Alarm DtTm#1066, Arrival DtTm#1091, Close DtTm#1116, City#1141, zipcode#1166, Battalion#1191, Station Area#1216, Box#1241, Suppression Units#1266, Suppression Personnel#1291, EMS Units#1316, EMS Personnel#1341, Other Units#1366, Other Personnel#1391, First Unit On Scene#1416, Estimated Property Loss#1441, Estimated Contents Loss#1466, Fire Fatalities#1491]\n                                                                                                                                                +- Project [Incident Number#916, Exposure Number#941, ID#966, Address#991, Incident Date#1016, Call Number#1041, Alarm DtTm#1066, Arrival DtTm#1091, Close DtTm#1116, City#1141, zipcode#1166, Battalion#1191, Station Area#1216, Box#1241, Suppression Units#1266, Suppression Personnel#1291, EMS Units#1316, EMS Personnel#1341, Other Units#1366, Other Personnel#1391, First Unit On Scene#1416, Estimated Property Loss#1441, Estimated Contents Loss#1466, Fire Fatalities#867 AS Fire Fatalities#1491]\n                                                                                                                                                   +- Project [Incident Number#916, Exposure Number#941, ID#966, Address#991, Incident Date#1016, Call Number#1041, Alarm DtTm#1066, Arrival DtTm#1091, Close DtTm#1116, City#1141, zipcode#1166, Battalion#1191, Station Area#1216, Box#1241, Suppression Units#1266, Suppression Personnel#1291, EMS Units#1316, EMS Personnel#1341, Other Units#1366, Other Personnel#1391, First Unit On Scene#1416, Estimated Property Loss#1441, Estimated Contents Loss#842 AS Estimated Contents Loss#1466, Fire Fatalities#867]\n                                                                                                                                                      +- Project [Incident Number#916, Exposure Number#941, ID#966, Address#991, Incident Date#1016, Call Number#1041, Alarm DtTm#1066, Arrival DtTm#1091, Close DtTm#1116, City#1141, zipcode#1166, Battalion#1191, Station Area#1216, Box#1241, Suppression Units#1266, Suppression Personnel#1291, EMS Units#1316, EMS Personnel#1341, Other Units#1366, Other Personnel#1391, First Unit On Scene#1416, Estimated Property Loss#817 AS Estimated Property Loss#1441, Estimated Contents Loss#842, Fire Fatalities#867]\n                                                                                                                                                         +- Project [Incident Number#916, Exposure Number#941, ID#966, Address#991, Incident Date#1016, Call Number#1041, Alarm DtTm#1066, Arrival DtTm#1091, Close DtTm#1116, City#1141, zipcode#1166, Battalion#1191, Station Area#1216, Box#1241, Suppression Units#1266, Suppression Personnel#1291, EMS Units#1316, EMS Personnel#1341, Other Units#1366, Other Personnel#1391, First Unit On Scene#792 AS First Unit On Scene#1416, Estimated Property Loss#817, Estimated Contents Loss#842, Fire Fatalities#867]\n                                                                                                                                                            +- Project [Incident Number#916, Exposure Number#941, ID#966, Address#991, Incident Date#1016, Call Number#1041, Alarm DtTm#1066, Arrival DtTm#1091, Close DtTm#1116, City#1141, zipcode#1166, Battalion#1191, Station Area#1216, Box#1241, Suppression Units#1266, Suppression Personnel#1291, EMS Units#1316, EMS Personnel#1341, Other Units#1366, Other Personnel#767 AS Other Personnel#1391, First Unit On Scene#792, Estimated Property Loss#817, Estimated Contents Loss#842, Fire Fatalities#867]\n                                                                                                                                                               +- Project [Incident Number#916, Exposure Number#941, ID#966, Address#991, Incident Date#1016, Call Number#1041, Alarm DtTm#1066, Arrival DtTm#1091, Close DtTm#1116, City#1141, zipcode#1166, Battalion#1191, Station Area#1216, Box#1241, Suppression Units#1266, Suppression Personnel#1291, EMS Units#1316, EMS Personnel#1341, Other Units#742 AS Other Units#1366, Other Personnel#767, First Unit On Scene#792, Estimated Property Loss#817, Estimated Contents Loss#842, Fire Fatalities#867]\n                                                                                                                                                                  +- Project [Incident Number#916, Exposure Number#941, ID#966, Address#991, Incident Date#1016, Call Number#1041, Alarm DtTm#1066, Arrival DtTm#1091, Close DtTm#1116, City#1141, zipcode#1166, Battalion#1191, Station Area#1216, Box#1241, Suppression Units#1266, Suppression Personnel#1291, EMS Units#1316, EMS Personnel#717 AS EMS Personnel#1341, Other Units#742, Other Personnel#767, First Unit On Scene#792, Estimated Property Loss#817, Estimated Contents Loss#842, Fire Fatalities#867]\n                                                                                                                                                                     +- Project [Incident Number#916, Exposure Number#941, ID#966, Address#991, Incident Date#1016, Call Number#1041, Alarm DtTm#1066, Arrival DtTm#1091, Close DtTm#1116, City#1141, zipcode#1166, Battalion#1191, Station Area#1216, Box#1241, Suppression Units#1266, Suppression Personnel#1291, EMS Units#692 AS EMS Units#1316, EMS Personnel#717, Other Units#742, Other Personnel#767, First Unit On Scene#792, Estimated Property Loss#817, Estimated Contents Loss#842, Fire Fatalities#867]\n                                                                                                                                                                        +- Project [Incident Number#916, Exposure Number#941, ID#966, Address#991, Incident Date#1016, Call Number#1041, Alarm DtTm#1066, Arrival DtTm#1091, Close DtTm#1116, City#1141, zipcode#1166, Battalion#1191, Station Area#1216, Box#1241, Suppression Units#1266, Suppression Personnel#667 AS Suppression Personnel#1291, EMS Units#692, EMS Personnel#717, Other Units#742, Other Personnel#767, First Unit On Scene#792, Estimated Property Loss#817, Estimated Contents Loss#842, Fire Fatalities#867]\n                                                                                                                                                                           +- Project [Incident Number#916, Exposure Number#941, ID#966, Address#991, Incident Date#1016, Call Number#1041, Alarm DtTm#1066, Arrival DtTm#1091, Close DtTm#1116, City#1141, zipcode#1166, Battalion#1191, Station Area#1216, Box#1241, Suppression Units#642 AS Suppression Units#1266, Suppression Personnel#667, EMS Units#692, EMS Personnel#717, Other Units#742, Other Personnel#767, First Unit On Scene#792, Estimated Property Loss#817, Estimated Contents Loss#842, Fire Fatalities#867]\n                                                                                                                                                                              +- Project [Incident Number#916, Exposure Number#941, ID#966, Address#991, Incident Date#1016, Call Number#1041, Alarm DtTm#1066, Arrival DtTm#1091, Close DtTm#1116, City#1141, zipcode#1166, Battalion#1191, Station Area#1216, Box#617 AS Box#1241, Suppression Units#642, Suppression Personnel#667, EMS Units#692, EMS Personnel#717, Other Units#742, Other Personnel#767, First Unit On Scene#792, Estimated Property Loss#817, Estimated Contents Loss#842, Fire Fatalities#867]\n                                                                                                                                                                                 +- Project [Incident Number#916, Exposure Number#941, ID#966, Address#991, Incident Date#1016, Call Number#1041, Alarm DtTm#1066, Arrival DtTm#1091, Close DtTm#1116, City#1141, zipcode#1166, Battalion#1191, Station Area#592 AS Station Area#1216, Box#617, Suppression Units#642, Suppression Personnel#667, EMS Units#692, EMS Personnel#717, Other Units#742, Other Personnel#767, First Unit On Scene#792, Estimated Property Loss#817, Estimated Contents Loss#842, Fire Fatalities#867]\n                                                                                                                                                                                    +- Project [Incident Number#916, Exposure Number#941, ID#966, Address#991, Incident Date#1016, Call Number#1041, Alarm DtTm#1066, Arrival DtTm#1091, Close DtTm#1116, City#1141, zipcode#1166, Battalion#567 AS Battalion#1191, Station Area#592, Box#617, Suppression Units#642, Suppression Personnel#667, EMS Units#692, EMS Personnel#717, Other Units#742, Other Personnel#767, First Unit On Scene#792, Estimated Property Loss#817, Estimated Contents Loss#842, Fire Fatalities#867]\n                                                                                                                                                                                       +- Project [Incident Number#916, Exposure Number#941, ID#966, Address#991, Incident Date#1016, Call Number#1041, Alarm DtTm#1066, Arrival DtTm#1091, Close DtTm#1116, City#1141, zipcode#542 AS zipcode#1166, Battalion#567, Station Area#592, Box#617, Suppression Units#642, Suppression Personnel#667, EMS Units#692, EMS Personnel#717, Other Units#742, Other Personnel#767, First Unit On Scene#792, Estimated Property Loss#817, Estimated Contents Loss#842, Fire Fatalities#867]\n                                                                                                                                                                                          +- Project [Incident Number#916, Exposure Number#941, ID#966, Address#991, Incident Date#1016, Call Number#1041, Alarm DtTm#1066, Arrival DtTm#1091, Close DtTm#1116, City#517 AS City#1141, zipcode#542, Battalion#567, Station Area#592, Box#617, Suppression Units#642, Suppression Personnel#667, EMS Units#692, EMS Personnel#717, Other Units#742, Other Personnel#767, First Unit On Scene#792, Estimated Property Loss#817, Estimated Contents Loss#842, Fire Fatalities#867]\n                                                                                                                                                                                             +- Project [Incident Number#916, Exposure Number#941, ID#966, Address#991, Incident Date#1016, Call Number#1041, Alarm DtTm#1066, Arrival DtTm#1091, Close DtTm#492 AS Close DtTm#1116, City#517, zipcode#542, Battalion#567, Station Area#592, Box#617, Suppression Units#642, Suppression Personnel#667, EMS Units#692, EMS Personnel#717, Other Units#742, Other Personnel#767, First Unit On Scene#792, Estimated Property Loss#817, Estimated Contents Loss#842, Fire Fatalities#867]\n                                                                                                                                                                                                +- Project [Incident Number#916, Exposure Number#941, ID#966, Address#991, Incident Date#1016, Call Number#1041, Alarm DtTm#1066, Arrival DtTm#467 AS Arrival DtTm#1091, Close DtTm#492, City#517, zipcode#542, Battalion#567, Station Area#592, Box#617, Suppression Units#642, Suppression Personnel#667, EMS Units#692, EMS Personnel#717, Other Units#742, Other Personnel#767, First Unit On Scene#792, Estimated Property Loss#817, Estimated Contents Loss#842, Fire Fatalities#867]\n                                                                                                                                                                                                   +- Project [Incident Number#916, Exposure Number#941, ID#966, Address#991, Incident Date#1016, Call Number#1041, Alarm DtTm#442 AS Alarm DtTm#1066, Arrival DtTm#467, Close DtTm#492, City#517, zipcode#542, Battalion#567, Station Area#592, Box#617, Suppression Units#642, Suppression Personnel#667, EMS Units#692, EMS Personnel#717, Other Units#742, Other Personnel#767, First Unit On Scene#792, Estimated Property Loss#817, Estimated Contents Loss#842, Fire Fatalities#867]\n                                                                                                                                                                                                      +- Project [Incident Number#916, Exposure Number#941, ID#966, Address#991, Incident Date#1016, Call Number#417 AS Call Number#1041, Alarm DtTm#442, Arrival DtTm#467, Close DtTm#492, City#517, zipcode#542, Battalion#567, Station Area#592, Box#617, Suppression Units#642, Suppression Personnel#667, EMS Units#692, EMS Personnel#717, Other Units#742, Other Personnel#767, First Unit On Scene#792, Estimated Property Loss#817, Estimated Contents Loss#842, Fire Fatalities#867]\n                                                                                                                                                                                                         +- Project [Incident Number#916, Exposure Number#941, ID#966, Address#991, Incident Date#392 AS Incident Date#1016, Call Number#417, Alarm DtTm#442, Arrival DtTm#467, Close DtTm#492, City#517, zipcode#542, Battalion#567, Station Area#592, Box#617, Suppression Units#642, Suppression Personnel#667, EMS Units#692, EMS Personnel#717, Other Units#742, Other Personnel#767, First Unit On Scene#792, Estimated Property Loss#817, Estimated Contents Loss#842, Fire Fatalities#867]\n                                                                                                                                                                                                            +- Project [Incident Number#916, Exposure Number#941, ID#966, Address#367 AS Address#991, Incident Date#392, Call Number#417, Alarm DtTm#442, Arrival DtTm#467, Close DtTm#492, City#517, zipcode#542, Battalion#567, Station Area#592, Box#617, Suppression Units#642, Suppression Personnel#667, EMS Units#692, EMS Personnel#717, Other Units#742, Other Personnel#767, First Unit On Scene#792, Estimated Property Loss#817, Estimated Contents Loss#842, Fire Fatalities#867]\n                                                                                                                                                                                                               +- Project [Incident Number#916, Exposure Number#941, ID#342 AS ID#966, Address#367, Incident Date#392, Call Number#417, Alarm DtTm#442, Arrival DtTm#467, Close DtTm#492, City#517, zipcode#542, Battalion#567, Station Area#592, Box#617, Suppression Units#642, Suppression Personnel#667, EMS Units#692, EMS Personnel#717, Other Units#742, Other Personnel#767, First Unit On Scene#792, Estimated Property Loss#817, Estimated Contents Loss#842, Fire Fatalities#867]\n                                                                                                                                                                                                                  +- Project [Incident Number#916, Exposure Number#317 AS Exposure Number#941, ID#342, Address#367, Incident Date#392, Call Number#417, Alarm DtTm#442, Arrival DtTm#467, Close DtTm#492, City#517, zipcode#542, Battalion#567, Station Area#592, Box#617, Suppression Units#642, Suppression Personnel#667, EMS Units#692, EMS Personnel#717, Other Units#742, Other Personnel#767, First Unit On Scene#792, Estimated Property Loss#817, Estimated Contents Loss#842, Fire Fatalities#867]\n                                                                                                                                                                                                                     +- Project [Incident Number#292 AS Incident Number#916, Exposure Number#317, ID#342, Address#367, Incident Date#392, Call Number#417, Alarm DtTm#442, Arrival DtTm#467, Close DtTm#492, City#517, zipcode#542, Battalion#567, Station Area#592, Box#617, Suppression Units#642, Suppression Personnel#667, EMS Units#692, EMS Personnel#717, Other Units#742, Other Personnel#767, First Unit On Scene#792, Estimated Property Loss#817, Estimated Contents Loss#842, Fire Fatalities#867]\n                                                                                                                                                                                                                        +- Project [Incident Number#292, Exposure Number#317, ID#342, Address#367, Incident Date#392, Call Number#417, Alarm DtTm#442, Arrival DtTm#467, Close DtTm#492, City#517, zipcode#542, Battalion#567, Station Area#592, Box#617, Suppression Units#642, Suppression Personnel#667, EMS Units#692, EMS Personnel#717, Other Units#742, Other Personnel#767, First Unit On Scene#792, Estimated Property Loss#817, Estimated Contents Loss#842, Fire Fatalities#76 AS Fire Fatalities#867]\n                                                                                                                                                                                                                           +- Project [Incident Number#292, Exposure Number#317, ID#342, Address#367, Incident Date#392, Call Number#417, Alarm DtTm#442, Arrival DtTm#467, Close DtTm#492, City#517, zipcode#542, Battalion#567, Station Area#592, Box#617, Suppression Units#642, Suppression Personnel#667, EMS Units#692, EMS Personnel#717, Other Units#742, Other Personnel#767, First Unit On Scene#792, Estimated Property Loss#817, Estimated Contents Loss#75 AS Estimated Contents Loss#842, Fire Fatalities#76]\n                                                                                                                                                                                                                              +- Project [Incident Number#292, Exposure Number#317, ID#342, Address#367, Incident Date#392, Call Number#417, Alarm DtTm#442, Arrival DtTm#467, Close DtTm#492, City#517, zipcode#542, Battalion#567, Station Area#592, Box#617, Suppression Units#642, Suppression Personnel#667, EMS Units#692, EMS Personnel#717, Other Units#742, Other Personnel#767, First Unit On Scene#792, Estimated Property Loss#74 AS Estimated Property Loss#817, Estimated Contents Loss#75, Fire Fatalities#76]\n                                                                                                                                                                                                                                 +- Project [Incident Number#292, Exposure Number#317, ID#342, Address#367, Incident Date#392, Call Number#417, Alarm DtTm#442, Arrival DtTm#467, Close DtTm#492, City#517, zipcode#542, Battalion#567, Station Area#592, Box#617, Suppression Units#642, Suppression Personnel#667, EMS Units#692, EMS Personnel#717, Other Units#742, Other Personnel#767, First Unit On Scene#73 AS First Unit On Scene#792, Estimated Property Loss#74, Estimated Contents Loss#75, Fire Fatalities#76]\n                                                                                                                                                                                                                                    +- Project [Incident Number#292, Exposure Number#317, ID#342, Address#367, Incident Date#392, Call Number#417, Alarm DtTm#442, Arrival DtTm#467, Close DtTm#492, City#517, zipcode#542, Battalion#567, Station Area#592, Box#617, Suppression Units#642, Suppression Personnel#667, EMS Units#692, EMS Personnel#717, Other Units#742, Other Personnel#72 AS Other Personnel#767, First Unit On Scene#73, Estimated Property Loss#74, Estimated Contents Loss#75, Fire Fatalities#76]\n                                                                                                                                                                                                                                       +- Project [Incident Number#292, Exposure Number#317, ID#342, Address#367, Incident Date#392, Call Number#417, Alarm DtTm#442, Arrival DtTm#467, Close DtTm#492, City#517, zipcode#542, Battalion#567, Station Area#592, Box#617, Suppression Units#642, Suppression Personnel#667, EMS Units#692, EMS Personnel#717, Other Units#71 AS Other Units#742, Other Personnel#72, First Unit On Scene#73, Estimated Property Loss#74, Estimated Contents Loss#75, Fire Fatalities#76]\n                                                                                                                                                                                                                                          +- Project [Incident Number#292, Exposure Number#317, ID#342, Address#367, Incident Date#392, Call Number#417, Alarm DtTm#442, Arrival DtTm#467, Close DtTm#492, City#517, zipcode#542, Battalion#567, Station Area#592, Box#617, Suppression Units#642, Suppression Personnel#667, EMS Units#692, EMS Personnel#70 AS EMS Personnel#717, Other Units#71, Other Personnel#72, First Unit On Scene#73, Estimated Property Loss#74, Estimated Contents Loss#75, Fire Fatalities#76]\n                                                                                                                                                                                                                                             +- Project [Incident Number#292, Exposure Number#317, ID#342, Address#367, Incident Date#392, Call Number#417, Alarm DtTm#442, Arrival DtTm#467, Close DtTm#492, City#517, zipcode#542, Battalion#567, Station Area#592, Box#617, Suppression Units#642, Suppression Personnel#667, EMS Units#69 AS EMS Units#692, EMS Personnel#70, Other Units#71, Other Personnel#72, First Unit On Scene#73, Estimated Property Loss#74, Estimated Contents Loss#75, Fire Fatalities#76]\n                                                                                                                                                                                                                                                +- Project [Incident Number#292, Exposure Number#317, ID#342, Address#367, Incident Date#392, Call Number#417, Alarm DtTm#442, Arrival DtTm#467, Close DtTm#492, City#517, zipcode#542, Battalion#567, Station Area#592, Box#617, Suppression Units#642, Suppression Personnel#68 AS Suppression Personnel#667, EMS Units#69, EMS Personnel#70, Other Units#71, Other Personnel#72, First Unit On Scene#73, Estimated Property Loss#74, Estimated Contents Loss#75, Fire Fatalities#76]\n                                                                                                                                                                                                                                                   +- Project [Incident Number#292, Exposure Number#317, ID#342, Address#367, Incident Date#392, Call Number#417, Alarm DtTm#442, Arrival DtTm#467, Close DtTm#492, City#517, zipcode#542, Battalion#567, Station Area#592, Box#617, Suppression Units#67 AS Suppression Units#642, Suppression Personnel#68, EMS Units#69, EMS Personnel#70, Other Units#71, Other Personnel#72, First Unit On Scene#73, Estimated Property Loss#74, Estimated Contents Loss#75, Fire Fatalities#76]\n                                                                                                                                                                                                                                                      +- Project [Incident Number#292, Exposure Number#317, ID#342, Address#367, Incident Date#392, Call Number#417, Alarm DtTm#442, Arrival DtTm#467, Close DtTm#492, City#517, zipcode#542, Battalion#567, Station Area#592, Box#66 AS Box#617, Suppression Units#67, Suppression Personnel#68, EMS Units#69, EMS Personnel#70, Other Units#71, Other Personnel#72, First Unit On Scene#73, Estimated Property Loss#74, Estimated Contents Loss#75, Fire Fatalities#76]\n                                                                                                                                                                                                                                                         +- Project [Incident Number#292, Exposure Number#317, ID#342, Address#367, Incident Date#392, Call Number#417, Alarm DtTm#442, Arrival DtTm#467, Close DtTm#492, City#517, zipcode#542, Battalion#567, Station Area#65 AS Station Area#592, Box#66, Suppression Units#67, Suppression Personnel#68, EMS Units#69, EMS Personnel#70, Other Units#71, Other Personnel#72, First Unit On Scene#73, Estimated Property Loss#74, Estimated Contents Loss#75, Fire Fatalities#76]\n                                                                                                                                                                                                                                                            +- Project [Incident Number#292, Exposure Number#317, ID#342, Address#367, Incident Date#392, Call Number#417, Alarm DtTm#442, Arrival DtTm#467, Close DtTm#492, City#517, zipcode#542, Battalion#64 AS Battalion#567, Station Area#65, Box#66, Suppression Units#67, Suppression Personnel#68, EMS Units#69, EMS Personnel#70, Other Units#71, Other Personnel#72, First Unit On Scene#73, Estimated Property Loss#74, Estimated Contents Loss#75, Fire Fatalities#76]\n                                                                                                                                                                                                                                                               +- Project [Incident Number#292, Exposure Number#317, ID#342, Address#367, Incident Date#392, Call Number#417, Alarm DtTm#442, Arrival DtTm#467, Close DtTm#492, City#517, zipcode#63 AS zipcode#542, Battalion#64, Station Area#65, Box#66, Suppression Units#67, Suppression Personnel#68, EMS Units#69, EMS Personnel#70, Other Units#71, Other Personnel#72, First Unit On Scene#73, Estimated Property Loss#74, Estimated Contents Loss#75, Fire Fatalities#76]\n                                                                                                                                                                                                                                                                  +- Project [Incident Number#292, Exposure Number#317, ID#342, Address#367, Incident Date#392, Call Number#417, Alarm DtTm#442, Arrival DtTm#467, Close DtTm#492, City#62 AS City#517, zipcode#63, Battalion#64, Station Area#65, Box#66, Suppression Units#67, Suppression Personnel#68, EMS Units#69, EMS Personnel#70, Other Units#71, Other Personnel#72, First Unit On Scene#73, Estimated Property Loss#74, Estimated Contents Loss#75, Fire Fatalities#76]\n                                                                                                                                                                                                                                                                     +- Project [Incident Number#292, Exposure Number#317, ID#342, Address#367, Incident Date#392, Call Number#417, Alarm DtTm#442, Arrival DtTm#467, Close DtTm#61 AS Close DtTm#492, City#62, zipcode#63, Battalion#64, Station Area#65, Box#66, Suppression Units#67, Suppression Personnel#68, EMS Units#69, EMS Personnel#70, Other Units#71, Other Personnel#72, First Unit On Scene#73, Estimated Property Loss#74, Estimated Contents Loss#75, Fire Fatalities#76]\n                                                                                                                                                                                                                                                                        +- Project [Incident Number#292, Exposure Number#317, ID#342, Address#367, Incident Date#392, Call Number#417, Alarm DtTm#442, Arrival DtTm#60 AS Arrival DtTm#467, Close DtTm#61, City#62, zipcode#63, Battalion#64, Station Area#65, Box#66, Suppression Units#67, Suppression Personnel#68, EMS Units#69, EMS Personnel#70, Other Units#71, Other Personnel#72, First Unit On Scene#73, Estimated Property Loss#74, Estimated Contents Loss#75, Fire Fatalities#76]\n                                                                                                                                                                                                                                                                           +- Project [Incident Number#292, Exposure Number#317, ID#342, Address#367, Incident Date#392, Call Number#417, Alarm DtTm#59 AS Alarm DtTm#442, Arrival DtTm#60, Close DtTm#61, City#62, zipcode#63, Battalion#64, Station Area#65, Box#66, Suppression Units#67, Suppression Personnel#68, EMS Units#69, EMS Personnel#70, Other Units#71, Other Personnel#72, First Unit On Scene#73, Estimated Property Loss#74, Estimated Contents Loss#75, Fire Fatalities#76]\n                                                                                                                                                                                                                                                                              +- Project [Incident Number#292, Exposure Number#317, ID#342, Address#367, Incident Date#392, Call Number#58 AS Call Number#417, Alarm DtTm#59, Arrival DtTm#60, Close DtTm#61, City#62, zipcode#63, Battalion#64, Station Area#65, Box#66, Suppression Units#67, Suppression Personnel#68, EMS Units#69, EMS Personnel#70, Other Units#71, Other Personnel#72, First Unit On Scene#73, Estimated Property Loss#74, Estimated Contents Loss#75, Fire Fatalities#76]\n                                                                                                                                                                                                                                                                                 +- Project [Incident Number#292, Exposure Number#317, ID#342, Address#367, Incident Date#57 AS Incident Date#392, Call Number#58, Alarm DtTm#59, Arrival DtTm#60, Close DtTm#61, City#62, zipcode#63, Battalion#64, Station Area#65, Box#66, Suppression Units#67, Suppression Personnel#68, EMS Units#69, EMS Personnel#70, Other Units#71, Other Personnel#72, First Unit On Scene#73, Estimated Property Loss#74, Estimated Contents Loss#75, Fire Fatalities#76]\n                                                                                                                                                                                                                                                                                    +- Project [Incident Number#292, Exposure Number#317, ID#342, Address#56 AS Address#367, Incident Date#57, Call Number#58, Alarm DtTm#59, Arrival DtTm#60, Close DtTm#61, City#62, zipcode#63, Battalion#64, Station Area#65, Box#66, Suppression Units#67, Suppression Personnel#68, EMS Units#69, EMS Personnel#70, Other Units#71, Other Personnel#72, First Unit On Scene#73, Estimated Property Loss#74, Estimated Contents Loss#75, Fire Fatalities#76]\n                                                                                                                                                                                                                                                                                       +- Project [Incident Number#292, Exposure Number#317, ID#55 AS ID#342, Address#56, Incident Date#57, Call Number#58, Alarm DtTm#59, Arrival DtTm#60, Close DtTm#61, City#62, zipcode#63, Battalion#64, Station Area#65, Box#66, Suppression Units#67, Suppression Personnel#68, EMS Units#69, EMS Personnel#70, Other Units#71, Other Personnel#72, First Unit On Scene#73, Estimated Property Loss#74, Estimated Contents Loss#75, Fire Fatalities#76]\n                                                                                                                                                                                                                                                                                          +- Project [Incident Number#292, Exposure Number#54 AS Exposure Number#317, ID#55, Address#56, Incident Date#57, Call Number#58, Alarm DtTm#59, Arrival DtTm#60, Close DtTm#61, City#62, zipcode#63, Battalion#64, Station Area#65, Box#66, Suppression Units#67, Suppression Personnel#68, EMS Units#69, EMS Personnel#70, Other Units#71, Other Personnel#72, First Unit On Scene#73, Estimated Property Loss#74, Estimated Contents Loss#75, Fire Fatalities#76]\n                                                                                                                                                                                                                                                                                             +- Project [Incident Number#53 AS Incident Number#292, Exposure Number#54, ID#55, Address#56, Incident Date#57, Call Number#58, Alarm DtTm#59, Arrival DtTm#60, Close DtTm#61, City#62, zipcode#63, Battalion#64, Station Area#65, Box#66, Suppression Units#67, Suppression Personnel#68, EMS Units#69, EMS Personnel#70, Other Units#71, Other Personnel#72, First Unit On Scene#73, Estimated Property Loss#74, Estimated Contents Loss#75, Fire Fatalities#76]\n                                                                                                                                                                                                                                                                                                +- Relation [Incident Number#53,Exposure Number#54,ID#55,Address#56,Incident Date#57,Call Number#58,Alarm DtTm#59,Arrival DtTm#60,Close DtTm#61,City#62,zipcode#63,Battalion#64,Station Area#65,Box#66,Suppression Units#67,Suppression Personnel#68,EMS Units#69,EMS Personnel#70,Other Units#71,Other Personnel#72,First Unit On Scene#73,Estimated Property Loss#74,Estimated Contents Loss#75,Fire Fatalities#76] csv\n"
     ]
    }
   ],
   "source": [
    "fire_df.select('Incident Number','Incident Date','City').show(10)"
   ]
  },
  {
   "cell_type": "code",
   "execution_count": 22,
   "id": "554895ea",
   "metadata": {
    "collapsed": true
   },
   "outputs": [
    {
     "name": "stdout",
     "output_type": "stream",
     "text": [
      "root\n",
      " |-- Incident Number: integer (nullable = true)\n",
      " |-- Exposure Number: integer (nullable = true)\n",
      " |-- ID: integer (nullable = true)\n",
      " |-- Address: string (nullable = true)\n",
      " |-- Incident Date: timestamp (nullable = true)\n",
      " |-- Call Number: integer (nullable = true)\n",
      " |-- Alarm DtTm: timestamp (nullable = true)\n",
      " |-- Arrival DtTm: timestamp (nullable = true)\n",
      " |-- Close DtTm: timestamp (nullable = true)\n",
      " |-- City: string (nullable = true)\n",
      " |-- zipcode: integer (nullable = true)\n",
      " |-- Battalion: string (nullable = true)\n",
      " |-- Station Area: string (nullable = true)\n",
      " |-- Box: integer (nullable = true)\n",
      " |-- Suppression Units: integer (nullable = true)\n",
      " |-- Suppression Personnel: integer (nullable = true)\n",
      " |-- EMS Units: integer (nullable = true)\n",
      " |-- EMS Personnel: integer (nullable = true)\n",
      " |-- Other Units: integer (nullable = true)\n",
      " |-- Other Personnel: integer (nullable = true)\n",
      " |-- First Unit On Scene: string (nullable = true)\n",
      " |-- Estimated Property Loss: integer (nullable = true)\n",
      " |-- Estimated Contents Loss: integer (nullable = true)\n",
      " |-- Fire Fatalities: integer (nullable = true)\n",
      "\n"
     ]
    }
   ],
   "source": [
    "fire_df.printSchema()"
   ]
  },
  {
   "cell_type": "code",
   "execution_count": 61,
   "id": "fec45146",
   "metadata": {
    "collapsed": true
   },
   "outputs": [
    {
     "data": {
      "text/plain": [
       "['IncidentNumber',\n",
       " 'ExposureNumber',\n",
       " 'ID',\n",
       " 'Address',\n",
       " 'IncidentDate',\n",
       " 'CallNumber',\n",
       " 'AlarmDtTm',\n",
       " 'ArrivalDtTm',\n",
       " 'CloseDtTm',\n",
       " 'City',\n",
       " 'zipcode',\n",
       " 'Battalion',\n",
       " 'StationArea',\n",
       " 'Box',\n",
       " 'SuppressionUnits',\n",
       " 'SuppressionPersonnel',\n",
       " 'EMSUnits',\n",
       " 'EMSPersonnel',\n",
       " 'OtherUnits',\n",
       " 'OtherPersonnel',\n",
       " 'FirstUnitOnScene',\n",
       " 'EstimatedPropertyLoss',\n",
       " 'EstimatedContentsLoss',\n",
       " 'FireFatalities']"
      ]
     },
     "execution_count": 61,
     "metadata": {},
     "output_type": "execute_result"
    }
   ],
   "source": [
    "fire_df.columns"
   ]
  },
  {
   "cell_type": "code",
   "execution_count": 34,
   "id": "65c9d1d7",
   "metadata": {
    "collapsed": true
   },
   "outputs": [
    {
     "name": "stdout",
     "output_type": "stream",
     "text": [
      "Incident Number\n",
      "Exposure Number\n",
      "ID\n",
      "Address\n",
      "Incident Date\n",
      "Call Number\n",
      "Alarm DtTm\n",
      "Arrival DtTm\n",
      "Close DtTm\n",
      "City\n",
      "zipcode\n",
      "Battalion\n",
      "Station Area\n",
      "Box\n",
      "Suppression Units\n",
      "Suppression Personnel\n",
      "EMS Units\n",
      "EMS Personnel\n",
      "Other Units\n",
      "Other Personnel\n",
      "First Unit On Scene\n",
      "Estimated Property Loss\n",
      "Estimated Contents Loss\n",
      "Fire Fatalities\n"
     ]
    }
   ],
   "source": [
    "for c in fire_df.columns:\n",
    "    print(c)\n",
    "    fire_df = fire_df.withColumnRenamed(c, c.replace( \" \" , \"\"))"
   ]
  },
  {
   "cell_type": "code",
   "execution_count": null,
   "id": "22a1ad98",
   "metadata": {},
   "outputs": [],
   "source": [
    "## b = b.select(col(\"ID\").alias(\"New_ID\")).show()\n",
    "fire_df.select(col('IncidentNumber').alias('incnum'))"
   ]
  },
  {
   "cell_type": "code",
   "execution_count": 59,
   "id": "fbf9360a",
   "metadata": {},
   "outputs": [
    {
     "data": {
      "text/plain": [
       "DataFrame[incnum: int]"
      ]
     },
     "execution_count": 59,
     "metadata": {},
     "output_type": "execute_result"
    }
   ],
   "source": [
    "from pyspark.sql.functions import col\n",
    "fire_df.select(col('IncidentNumber').alias('incnum'))"
   ]
  },
  {
   "cell_type": "code",
   "execution_count": 58,
   "id": "c1b94fab",
   "metadata": {},
   "outputs": [
    {
     "name": "stderr",
     "output_type": "stream",
     "text": [
      "C:\\spark\\spark-3.2.1-bin-hadoop3.2\\python\\pyspark\\sql\\context.py:77: FutureWarning: Deprecated in 3.0.0. Use SparkSession.builder.getOrCreate() instead.\n",
      "  warnings.warn(\n"
     ]
    }
   ],
   "source": [
    "# In Jupyter you have to stop the current context first\n",
    "spark.stop()\n",
    "from pyspark import SparkConf\n",
    "# Create new config\n",
    "conf = (SparkConf()\n",
    "    .set(\"spark.driver.maxResultSize\", \"2g\"))\n",
    "\n",
    "# Create new context\n",
    "sc = SparkContext(conf=conf)\n",
    "#You should probably create a new SQLContext as well:\n",
    "\n",
    "from pyspark.sql import SQLContext\n",
    "sqlContext = SQLContext(sc)"
   ]
  },
  {
   "cell_type": "markdown",
   "id": "edc21d18",
   "metadata": {},
   "source": [
    "# data preparation"
   ]
  },
  {
   "cell_type": "code",
   "execution_count": 1,
   "id": "5280b500",
   "metadata": {},
   "outputs": [],
   "source": [
    "import findspark\n",
    "findspark.init()"
   ]
  },
  {
   "cell_type": "code",
   "execution_count": 2,
   "id": "a8c3cef9",
   "metadata": {},
   "outputs": [],
   "source": [
    "from pyspark.sql import SparkSession\n",
    "from pyspark.sql.types import  StructType , StructField , StringType"
   ]
  },
  {
   "cell_type": "code",
   "execution_count": 3,
   "id": "3598d3b6",
   "metadata": {},
   "outputs": [],
   "source": [
    "spark =(SparkSession.builder.appName('Salesanalytics').getOrCreate())"
   ]
  },
  {
   "cell_type": "code",
   "execution_count": 4,
   "id": "82aa643f",
   "metadata": {},
   "outputs": [],
   "source": [
    "schema = StructType([\n",
    "    StructField('Order Id',StringType(),True),\n",
    "    StructField('Product',StringType(),True),\n",
    "    StructField('Quantity Ordered',StringType(),True),\n",
    "    StructField('Price Each',StringType(),True),\n",
    "    StructField('Orderdate',StringType(),True),\n",
    "    StructField('Purchase Adress',StringType(),True),\n",
    "])"
   ]
  },
  {
   "cell_type": "code",
   "execution_count": 5,
   "id": "41a0139c",
   "metadata": {},
   "outputs": [],
   "source": [
    "sales_data=r'csv_spark\\salesdata'\n",
    "sales =(spark.read.format('csv')\n",
    "        .option('header',True)\n",
    "       .schema(schema)\n",
    "       .load(sales_data))"
   ]
  },
  {
   "cell_type": "code",
   "execution_count": 6,
   "id": "c0db3754",
   "metadata": {
    "scrolled": false
   },
   "outputs": [
    {
     "name": "stdout",
     "output_type": "stream",
     "text": [
      "+--------+--------------------+----------------+----------+--------------+--------------------+\n",
      "|Order Id|             Product|Quantity Ordered|Price Each|     Orderdate|     Purchase Adress|\n",
      "+--------+--------------------+----------------+----------+--------------+--------------------+\n",
      "|  295665|  Macbook Pro Laptop|               1|      1700|12/30/19 00:01|136 Church St, Ne...|\n",
      "|  295666|  LG Washing Machine|               1|     600.0|12/29/19 07:03|562 2nd St, New Y...|\n",
      "|  295667|USB-C Charging Cable|               1|     11.95|12/12/19 18:21|277 Main St, New ...|\n",
      "|  295668|    27in FHD Monitor|               1|    149.99|12/22/19 15:13|410 6th St, San F...|\n",
      "|  295669|USB-C Charging Cable|               1|     11.95|12/18/19 12:38|43 Hill St, Atlan...|\n",
      "|  295670|AA Batteries (4-p...|               1|      3.84|12/31/19 22:58|200 Jefferson St,...|\n",
      "|  295671|USB-C Charging Cable|               1|     11.95|12/16/19 15:10|928 12th St, Port...|\n",
      "|  295672|USB-C Charging Cable|               2|     11.95|12/13/19 09:29|813 Hickory St, D...|\n",
      "|  295673|Bose SoundSport H...|               1|     99.99|12/15/19 23:26|718 Wilson St, Da...|\n",
      "|  295674|AAA Batteries (4-...|               4|      2.99|12/28/19 11:51|77 7th St, Dallas...|\n",
      "+--------+--------------------+----------------+----------+--------------+--------------------+\n",
      "only showing top 10 rows\n",
      "\n"
     ]
    }
   ],
   "source": [
    "sales.show(10)"
   ]
  },
  {
   "cell_type": "code",
   "execution_count": 7,
   "id": "a4243580",
   "metadata": {},
   "outputs": [
    {
     "name": "stdout",
     "output_type": "stream",
     "text": [
      "root\n",
      " |-- Order Id: string (nullable = true)\n",
      " |-- Product: string (nullable = true)\n",
      " |-- Quantity Ordered: string (nullable = true)\n",
      " |-- Price Each: string (nullable = true)\n",
      " |-- Orderdate: string (nullable = true)\n",
      " |-- Purchase Adress: string (nullable = true)\n",
      "\n"
     ]
    }
   ],
   "source": [
    "sales.printSchema()"
   ]
  },
  {
   "cell_type": "code",
   "execution_count": 8,
   "id": "c98569a1",
   "metadata": {},
   "outputs": [],
   "source": [
    "spark.stop()"
   ]
  },
  {
   "cell_type": "code",
   "execution_count": 3,
   "id": "4f126b27",
   "metadata": {},
   "outputs": [],
   "source": [
    "#WORKING WITH STRUCTURED OPERATIONS, READING A JSON\n",
    "from pyspark.sql.types import ArrayType,FloatType,DateType,BooleanType,IntegerType"
   ]
  },
  {
   "cell_type": "code",
   "execution_count": 4,
   "id": "51b1205d",
   "metadata": {},
   "outputs": [],
   "source": [
    "person_schema =StructType([\n",
    "    StructField('id',IntegerType(),True),\n",
    "    StructField('first_name',StringType(),True),\n",
    "    StructField('last_name',StringType(),True),\n",
    "    StructField('fav_movies',ArrayType(StringType()),True),\n",
    "    StructField('salary',FloatType(),True),\n",
    "    StructField('image_url',StringType(),True),\n",
    "    StructField('date_of_birth',DateType(),True),\n",
    "    StructField('active',BooleanType(),True),\n",
    "    \n",
    "])"
   ]
  },
  {
   "cell_type": "code",
   "execution_count": 5,
   "id": "971c33f8",
   "metadata": {},
   "outputs": [],
   "source": [
    "spark =(SparkSession.builder.appName('jsonconv').getOrCreate())"
   ]
  },
  {
   "cell_type": "code",
   "execution_count": 6,
   "id": "442e8cf5",
   "metadata": {},
   "outputs": [],
   "source": [
    "json_path =r'csv_spark\\persons.json'\n",
    "person_df = spark.read.json(json_path,person_schema,multiLine =\"true\")"
   ]
  },
  {
   "cell_type": "code",
   "execution_count": 7,
   "id": "a4c05310",
   "metadata": {
    "scrolled": true
   },
   "outputs": [
    {
     "name": "stdout",
     "output_type": "stream",
     "text": [
      "root\n",
      " |-- id: integer (nullable = true)\n",
      " |-- first_name: string (nullable = true)\n",
      " |-- last_name: string (nullable = true)\n",
      " |-- fav_movies: array (nullable = true)\n",
      " |    |-- element: string (containsNull = true)\n",
      " |-- salary: float (nullable = true)\n",
      " |-- image_url: string (nullable = true)\n",
      " |-- date_of_birth: date (nullable = true)\n",
      " |-- active: boolean (nullable = true)\n",
      "\n"
     ]
    }
   ],
   "source": [
    "person_df.printSchema()"
   ]
  },
  {
   "cell_type": "code",
   "execution_count": 8,
   "id": "dee18515",
   "metadata": {},
   "outputs": [
    {
     "name": "stdout",
     "output_type": "stream",
     "text": [
      "+---+----------+---------+-------------------------------------------------------------+-------+-----------------------------------------------+-------------+------+\n",
      "|id |first_name|last_name|fav_movies                                                   |salary |image_url                                      |date_of_birth|active|\n",
      "+---+----------+---------+-------------------------------------------------------------+-------+-----------------------------------------------+-------------+------+\n",
      "|1  |Drucy     |Poppy    |[I giorni contati]                                           |1463.36|http://dummyimage.com/126x166.png/cc0000/ffffff|1991-02-16   |true  |\n",
      "|2  |Emelyne   |Blaza    |[Musketeer, The, Topralli]                                   |3006.04|http://dummyimage.com/158x106.bmp/cc0000/ffffff|1991-11-02   |false |\n",
      "|3  |Max       |Rettie   |[The Forgotten Space, Make It Happen]                        |1422.88|http://dummyimage.com/237x140.jpg/ff4444/ffffff|1990-03-03   |false |\n",
      "|4  |Ilario    |Kean     |[Up Close and Personal]                                      |3561.36|http://dummyimage.com/207x121.jpg/cc0000/ffffff|1987-06-09   |true  |\n",
      "|5  |Toddy     |Drexel   |[Walk in the Clouds, A]                                      |4934.87|http://dummyimage.com/116x202.png/cc0000/ffffff|1992-10-28   |true  |\n",
      "|6  |Oswald    |Petrolli |[Wing and the Thigh, The (L'aile ou la cuisse)]              |1153.23|http://dummyimage.com/137x172.jpg/5fa2dd/ffffff|1986-09-02   |false |\n",
      "|7  |Adrian    |Clarey   |[Walking Tall, Paradise, Hawaiian Style]                     |1044.73|http://dummyimage.com/244x218.bmp/cc0000/ffffff|1971-08-24   |false |\n",
      "|8  |Dominica  |Goodnow  |[Hearts Divided]                                             |1147.76|http://dummyimage.com/112x203.jpg/dddddd/000000|1973-08-27   |false |\n",
      "|9  |Emory     |Slocomb  |[Snake and Crane Arts of Shaolin (She hao ba bu), Mala Noche]|1082.11|http://dummyimage.com/138x226.jpg/cc0000/ffffff|1974-06-08   |true  |\n",
      "|10 |Jeremias  |Bode     |[Farewell to Arms, A]                                        |3472.63|http://dummyimage.com/243x108.bmp/dddddd/000000|1997-08-02   |true  |\n",
      "+---+----------+---------+-------------------------------------------------------------+-------+-----------------------------------------------+-------------+------+\n",
      "only showing top 10 rows\n",
      "\n"
     ]
    }
   ],
   "source": [
    "person_df.show(10,truncate=False)"
   ]
  },
  {
   "cell_type": "code",
   "execution_count": 9,
   "id": "09fe08f9",
   "metadata": {},
   "outputs": [],
   "source": [
    "from pyspark.sql.functions import col,expr"
   ]
  },
  {
   "cell_type": "code",
   "execution_count": 13,
   "id": "1eedfe6c",
   "metadata": {},
   "outputs": [
    {
     "name": "stdout",
     "output_type": "stream",
     "text": [
      "+----------+---------+-------------+\n",
      "|first_name|last_name|date_of_birth|\n",
      "+----------+---------+-------------+\n",
      "|     Drucy|    Poppy|   1991-02-16|\n",
      "|   Emelyne|    Blaza|   1991-11-02|\n",
      "|       Max|   Rettie|   1990-03-03|\n",
      "|    Ilario|     Kean|   1987-06-09|\n",
      "|     Toddy|   Drexel|   1992-10-28|\n",
      "+----------+---------+-------------+\n",
      "only showing top 5 rows\n",
      "\n"
     ]
    }
   ],
   "source": [
    "person_df.select(col('first_name'),col('last_name'),col('date_of_birth')).show(5)"
   ]
  },
  {
   "cell_type": "code",
   "execution_count": 12,
   "id": "a3e8aaff",
   "metadata": {},
   "outputs": [
    {
     "name": "stdout",
     "output_type": "stream",
     "text": [
      "+----------+---------+-------------+\n",
      "|first_name|last_name|date_of_birth|\n",
      "+----------+---------+-------------+\n",
      "|     Drucy|    Poppy|   1991-02-16|\n",
      "|   Emelyne|    Blaza|   1991-11-02|\n",
      "|       Max|   Rettie|   1990-03-03|\n",
      "|    Ilario|     Kean|   1987-06-09|\n",
      "|     Toddy|   Drexel|   1992-10-28|\n",
      "+----------+---------+-------------+\n",
      "only showing top 5 rows\n",
      "\n"
     ]
    }
   ],
   "source": [
    "person_df.select(expr('first_name'),col('last_name'),col('date_of_birth')).show(5)"
   ]
  },
  {
   "cell_type": "code",
   "execution_count": 4,
   "id": "9a9796d6",
   "metadata": {},
   "outputs": [],
   "source": [
    "from pyspark.sql.functions import concat_ws,concat"
   ]
  },
  {
   "cell_type": "code",
   "execution_count": 28,
   "id": "ec9f9dde",
   "metadata": {
    "collapsed": true
   },
   "outputs": [
    {
     "name": "stdout",
     "output_type": "stream",
     "text": [
      "+----------------+-------+------------------+\n",
      "|       full_name| salary|       salary _inc|\n",
      "+----------------+-------+------------------+\n",
      "|     Drucy Poppy|1463.36|1609.6959838867188|\n",
      "|   Emelyne Blaza|3006.04|  3306.64404296875|\n",
      "|      Max Rettie|1422.88|1565.1680053710938|\n",
      "|     Ilario Kean|3561.36|3917.4961181640624|\n",
      "|    Toddy Drexel|4934.87|  5428.35712890625|\n",
      "| Oswald Petrolli|1153.23| 1268.552978515625|\n",
      "|   Adrian Clarey|1044.73| 1149.202978515625|\n",
      "|Dominica Goodnow|1147.76|1262.5360107421875|\n",
      "|   Emory Slocomb|1082.11|1190.3209838867188|\n",
      "|   Jeremias Bode|3472.63|  3819.89287109375|\n",
      "+----------------+-------+------------------+\n",
      "only showing top 10 rows\n",
      "\n"
     ]
    }
   ],
   "source": [
    "person_df.select(concat_ws(' ',col('first_name'),col('last_name')).alias('full_name'),\n",
    "                          col('salary'),\n",
    "                         (col('salary')* 0.10 + col('salary')).alias('salary _inc')).show(10)"
   ]
  },
  {
   "cell_type": "code",
   "execution_count": 29,
   "id": "377255f4",
   "metadata": {},
   "outputs": [
    {
     "name": "stdout",
     "output_type": "stream",
     "text": [
      "+----------------+-------+------------------+\n",
      "|       full_name| salary|       salary _inc|\n",
      "+----------------+-------+------------------+\n",
      "|     Drucy Poppy|1463.36|1609.6959838867188|\n",
      "|   Emelyne Blaza|3006.04|  3306.64404296875|\n",
      "|      Max Rettie|1422.88|1565.1680053710938|\n",
      "|     Ilario Kean|3561.36|3917.4961181640624|\n",
      "|    Toddy Drexel|4934.87|  5428.35712890625|\n",
      "| Oswald Petrolli|1153.23| 1268.552978515625|\n",
      "|   Adrian Clarey|1044.73| 1149.202978515625|\n",
      "|Dominica Goodnow|1147.76|1262.5360107421875|\n",
      "|   Emory Slocomb|1082.11|1190.3209838867188|\n",
      "|   Jeremias Bode|3472.63|  3819.89287109375|\n",
      "+----------------+-------+------------------+\n",
      "only showing top 10 rows\n",
      "\n"
     ]
    }
   ],
   "source": [
    "person_df.select(concat_ws(' ',col('first_name'),col('last_name')).alias('full_name'),\n",
    "                          col('salary'),\n",
    "                         expr('salary*0.10+salary').alias('salary _inc')).show(10) # expr function can assign string expr with calc not with col"
   ]
  },
  {
   "cell_type": "code",
   "execution_count": 31,
   "id": "c35ee319",
   "metadata": {
    "collapsed": true
   },
   "outputs": [
    {
     "name": "stdout",
     "output_type": "stream",
     "text": [
      "+---+----------+-----------+--------------------+-------+--------------------+-------------+------+\n",
      "| id|first_name|  last_name|          fav_movies| salary|           image_url|date_of_birth|active|\n",
      "+---+----------+-----------+--------------------+-------+--------------------+-------------+------+\n",
      "|  1|     Drucy|      Poppy|  [I giorni contati]|1463.36|http://dummyimage...|   1991-02-16|  true|\n",
      "|  3|       Max|     Rettie|[The Forgotten Sp...|1422.88|http://dummyimage...|   1990-03-03| false|\n",
      "|  6|    Oswald|   Petrolli|[Wing and the Thi...|1153.23|http://dummyimage...|   1986-09-02| false|\n",
      "|  7|    Adrian|     Clarey|[Walking Tall, Pa...|1044.73|http://dummyimage...|   1971-08-24| false|\n",
      "|  8|  Dominica|    Goodnow|    [Hearts Divided]|1147.76|http://dummyimage...|   1973-08-27| false|\n",
      "|  9|     Emory|    Slocomb|[Snake and Crane ...|1082.11|http://dummyimage...|   1974-06-08|  true|\n",
      "| 11|   Timothy|     Ervine|[Land of the Lost...|1147.61|http://dummyimage...|   1971-06-02| false|\n",
      "| 12|   Leanora|     Gooder|[It's All About L...|1327.02|http://dummyimage...|   1981-12-17| false|\n",
      "| 13|  Claiborn|     Denham|[McCullin, Max Pa...|2623.33|http://dummyimage...|   1996-03-07| false|\n",
      "| 15|    Feodor|Nancekivell|   [Monsoon Wedding]|2218.46|http://dummyimage...|   2000-10-07| false|\n",
      "+---+----------+-----------+--------------------+-------+--------------------+-------------+------+\n",
      "only showing top 10 rows\n",
      "\n"
     ]
    }
   ],
   "source": [
    "person_df.filter('salary<=3000').show(10)"
   ]
  },
  {
   "cell_type": "code",
   "execution_count": 32,
   "id": "e7b43f9f",
   "metadata": {
    "collapsed": true
   },
   "outputs": [
    {
     "name": "stdout",
     "output_type": "stream",
     "text": [
      "+---+----------+-----------+--------------------+-------+--------------------+-------------+------+\n",
      "| id|first_name|  last_name|          fav_movies| salary|           image_url|date_of_birth|active|\n",
      "+---+----------+-----------+--------------------+-------+--------------------+-------------+------+\n",
      "|  1|     Drucy|      Poppy|  [I giorni contati]|1463.36|http://dummyimage...|   1991-02-16|  true|\n",
      "|  3|       Max|     Rettie|[The Forgotten Sp...|1422.88|http://dummyimage...|   1990-03-03| false|\n",
      "|  6|    Oswald|   Petrolli|[Wing and the Thi...|1153.23|http://dummyimage...|   1986-09-02| false|\n",
      "|  7|    Adrian|     Clarey|[Walking Tall, Pa...|1044.73|http://dummyimage...|   1971-08-24| false|\n",
      "|  8|  Dominica|    Goodnow|    [Hearts Divided]|1147.76|http://dummyimage...|   1973-08-27| false|\n",
      "|  9|     Emory|    Slocomb|[Snake and Crane ...|1082.11|http://dummyimage...|   1974-06-08|  true|\n",
      "| 11|   Timothy|     Ervine|[Land of the Lost...|1147.61|http://dummyimage...|   1971-06-02| false|\n",
      "| 12|   Leanora|     Gooder|[It's All About L...|1327.02|http://dummyimage...|   1981-12-17| false|\n",
      "| 13|  Claiborn|     Denham|[McCullin, Max Pa...|2623.33|http://dummyimage...|   1996-03-07| false|\n",
      "| 15|    Feodor|Nancekivell|   [Monsoon Wedding]|2218.46|http://dummyimage...|   2000-10-07| false|\n",
      "+---+----------+-----------+--------------------+-------+--------------------+-------------+------+\n",
      "only showing top 10 rows\n",
      "\n"
     ]
    }
   ],
   "source": [
    "person_df.where('salary<=3000').show(10)"
   ]
  },
  {
   "cell_type": "code",
   "execution_count": 34,
   "id": "7d2db3e2",
   "metadata": {},
   "outputs": [
    {
     "name": "stdout",
     "output_type": "stream",
     "text": [
      "+---+----------+---------+--------------------+-------+--------------------+-------------+------+\n",
      "| id|first_name|last_name|          fav_movies| salary|           image_url|date_of_birth|active|\n",
      "+---+----------+---------+--------------------+-------+--------------------+-------------+------+\n",
      "|  1|     Drucy|    Poppy|  [I giorni contati]|1463.36|http://dummyimage...|   1991-02-16|  true|\n",
      "|  9|     Emory|  Slocomb|[Snake and Crane ...|1082.11|http://dummyimage...|   1974-06-08|  true|\n",
      "| 16|   Margaux| Archbold|[And Now a Word f...|1013.75|http://dummyimage...|   1988-07-29|  true|\n",
      "| 26|     Clive|      Lax|             [Rabid]|2126.87|http://dummyimage...|   1981-10-26|  true|\n",
      "| 33|  Sherline|  Primett|   [Jungle Fighters]|2309.39|http://dummyimage...|   1972-07-23|  true|\n",
      "| 34|     Davis|    Pinks|          [Hounddog]|1337.14|http://dummyimage...|   1989-07-27|  true|\n",
      "| 37|    Carlen|  Sharply|[Dr. Jekyll and M...|2051.85|http://dummyimage...|   2002-06-01|  true|\n",
      "| 40|    Jordan|   Lorant|[Shockproof, Bach...|2183.91|http://dummyimage...|   1979-07-29|  true|\n",
      "| 49| Kendricks|      Kee|   [Flower & Garnet]|2304.39|http://dummyimage...|   1999-11-14|  true|\n",
      "| 57|   Krystle|  Shovell|[Doomsday, Flight...|2260.76|http://dummyimage...|   1987-09-01|  true|\n",
      "+---+----------+---------+--------------------+-------+--------------------+-------------+------+\n",
      "only showing top 10 rows\n",
      "\n"
     ]
    }
   ],
   "source": [
    "person_df.where((col('salary')<=3000)&(col('active')== True)).show(10)"
   ]
  },
  {
   "cell_type": "code",
   "execution_count": 3,
   "id": "a9ddbd4b",
   "metadata": {},
   "outputs": [],
   "source": [
    "from pyspark.sql.functions import year"
   ]
  },
  {
   "cell_type": "code",
   "execution_count": 39,
   "id": "87b6d350",
   "metadata": {
    "collapsed": true
   },
   "outputs": [
    {
     "name": "stdout",
     "output_type": "stream",
     "text": [
      "+---+----------+-----------+--------------------+-------+--------------------+-------------+------+\n",
      "| id|first_name|  last_name|          fav_movies| salary|           image_url|date_of_birth|active|\n",
      "+---+----------+-----------+--------------------+-------+--------------------+-------------+------+\n",
      "| 14|   Ambrosi|   Vidineev|[Wall Street: Mon...|4550.88|http://dummyimage...|   1989-07-20|  true|\n",
      "| 15|    Feodor|Nancekivell|   [Monsoon Wedding]|2218.46|http://dummyimage...|   2000-10-07| false|\n",
      "| 18|     Alfie|   Hatliffe|     [Lord of Tears]| 3893.1|http://dummyimage...|   1989-06-21|  true|\n",
      "| 25|     Kelcy|     Wogdon|    [Iron Mask, The]|4512.51|http://dummyimage...|   2000-10-20|  true|\n",
      "| 32|      Redd|   Akenhead|[Century of the D...| 2470.9|http://dummyimage...|   2000-06-05| false|\n",
      "| 34|     Davis|      Pinks|          [Hounddog]|1337.14|http://dummyimage...|   1989-07-27|  true|\n",
      "| 61|    Shanna|    Samples|[Thomas in Love (...| 2703.0|http://dummyimage...|   1989-07-07| false|\n",
      "| 69|  Annabell|    Doughty|[Entertaining Ang...|2022.57|http://dummyimage...|   2000-09-03|  true|\n",
      "| 74|     Micky|     Umfrey|[Haunted House, T...|1271.82|http://dummyimage...|   1989-07-04| false|\n",
      "| 88|     Jobie|    Maughan|[Devils on the Do...| 3899.2|http://dummyimage...|   2000-02-07| false|\n",
      "+---+----------+-----------+--------------------+-------+--------------------+-------------+------+\n",
      "\n"
     ]
    }
   ],
   "source": [
    "person_df.filter((year('date_of_birth')==2000) | (year('date_of_birth')==1989)).show()"
   ]
  },
  {
   "cell_type": "code",
   "execution_count": 40,
   "id": "eb719986",
   "metadata": {},
   "outputs": [],
   "source": [
    "from pyspark.sql.functions import array_contains"
   ]
  },
  {
   "cell_type": "code",
   "execution_count": 41,
   "id": "44779e1b",
   "metadata": {},
   "outputs": [
    {
     "name": "stdout",
     "output_type": "stream",
     "text": [
      "+---+----------+---------+--------------------+-------+--------------------+-------------+------+\n",
      "| id|first_name|last_name|          fav_movies| salary|           image_url|date_of_birth|active|\n",
      "+---+----------+---------+--------------------+-------+--------------------+-------------+------+\n",
      "| 11|   Timothy|   Ervine|[Land of the Lost...|1147.61|http://dummyimage...|   1971-06-02| false|\n",
      "+---+----------+---------+--------------------+-------+--------------------+-------------+------+\n",
      "\n"
     ]
    }
   ],
   "source": [
    "person_df.where(array_contains(person_df.fav_movies,'Land of the Lost')).show()"
   ]
  },
  {
   "cell_type": "code",
   "execution_count": 42,
   "id": "f8d2403f",
   "metadata": {},
   "outputs": [],
   "source": [
    "# distinct drop duplicate order by\n",
    "from pyspark.sql.functions import count,desc"
   ]
  },
  {
   "cell_type": "code",
   "execution_count": 43,
   "id": "0d5ec197",
   "metadata": {},
   "outputs": [
    {
     "name": "stdout",
     "output_type": "stream",
     "text": [
      "+------+\n",
      "|active|\n",
      "+------+\n",
      "|  true|\n",
      "| false|\n",
      "| false|\n",
      "|  true|\n",
      "|  true|\n",
      "| false|\n",
      "| false|\n",
      "| false|\n",
      "|  true|\n",
      "|  true|\n",
      "+------+\n",
      "only showing top 10 rows\n",
      "\n"
     ]
    }
   ],
   "source": [
    "person_df.select('active').show(10)"
   ]
  },
  {
   "cell_type": "code",
   "execution_count": 44,
   "id": "68bca0f6",
   "metadata": {},
   "outputs": [
    {
     "name": "stdout",
     "output_type": "stream",
     "text": [
      "+------+\n",
      "|active|\n",
      "+------+\n",
      "|  true|\n",
      "| false|\n",
      "+------+\n",
      "\n"
     ]
    }
   ],
   "source": [
    "person_df.select('active').distinct().show()"
   ]
  },
  {
   "cell_type": "code",
   "execution_count": 47,
   "id": "307a8dcd",
   "metadata": {},
   "outputs": [
    {
     "name": "stdout",
     "output_type": "stream",
     "text": [
      "+----------+----+------+\n",
      "|first_name|year|active|\n",
      "+----------+----+------+\n",
      "|    Adrian|1971| false|\n",
      "|   Feodora|1971|  true|\n",
      "|       Sky|1971| false|\n",
      "|   Timothy|1971| false|\n",
      "|    Lucita|1972|  true|\n",
      "|      Rodi|1972| false|\n",
      "|  Sherline|1972|  true|\n",
      "|     Toddy|1972|  true|\n",
      "|  Dominica|1973| false|\n",
      "|    Kelila|1973|  true|\n",
      "+----------+----+------+\n",
      "only showing top 10 rows\n",
      "\n"
     ]
    }
   ],
   "source": [
    "(person_df.select(col('first_name'),\n",
    "                 year(col('date_of_birth')).alias('year'),\n",
    "                 col('active')).orderBy('year','first_name')).show(10)"
   ]
  },
  {
   "cell_type": "code",
   "execution_count": 49,
   "id": "618b1e15",
   "metadata": {},
   "outputs": [],
   "source": [
    "dropped_df = (person_df.select(col('first_name'),\n",
    "             year(col('date_of_birth')).alias('year'),\n",
    "             col('active')).dropDuplicates(['year','active'])).orderBy('year','first_name')"
   ]
  },
  {
   "cell_type": "code",
   "execution_count": 50,
   "id": "f664e0d8",
   "metadata": {
    "collapsed": true
   },
   "outputs": [
    {
     "name": "stdout",
     "output_type": "stream",
     "text": [
      "+----------+----+------+\n",
      "|first_name|year|active|\n",
      "+----------+----+------+\n",
      "|    Adrian|1971| false|\n",
      "|   Feodora|1971|  true|\n",
      "|      Rodi|1972| false|\n",
      "|  Sherline|1972|  true|\n",
      "|  Dominica|1973| false|\n",
      "|    Kelila|1973|  true|\n",
      "|   Balduin|1974| false|\n",
      "|     Emory|1974|  true|\n",
      "|    Janean|1975|  true|\n",
      "|       Bev|1976|  true|\n",
      "| Franciska|1976| false|\n",
      "|     Johny|1977| false|\n",
      "|    Daveta|1978| false|\n",
      "|   Guthrie|1978|  true|\n",
      "|      Maxi|1979| false|\n",
      "|   Melinda|1979|  true|\n",
      "|    Carter|1980| false|\n",
      "|   Loralyn|1980|  true|\n",
      "|     Clive|1981|  true|\n",
      "|   Leanora|1981| false|\n",
      "+----------+----+------+\n",
      "only showing top 20 rows\n",
      "\n"
     ]
    }
   ],
   "source": [
    "dropped_df.show()"
   ]
  },
  {
   "cell_type": "code",
   "execution_count": 52,
   "id": "d20eb436",
   "metadata": {
    "collapsed": true
   },
   "outputs": [
    {
     "name": "stdout",
     "output_type": "stream",
     "text": [
      "+----------+----+------+\n",
      "|first_name|year|active|\n",
      "+----------+----+------+\n",
      "|    Carlen|2002|  true|\n",
      "|   Lorilee|2002| false|\n",
      "|    Maxine|2001| false|\n",
      "|    Feodor|2000| false|\n",
      "|     Kelcy|2000|  true|\n",
      "| Kendricks|1999|  true|\n",
      "|  Theodore|1999| false|\n",
      "|      Lura|1998| false|\n",
      "|      Dian|1998|  true|\n",
      "|    Kayley|1997| false|\n",
      "+----------+----+------+\n",
      "only showing top 10 rows\n",
      "\n"
     ]
    }
   ],
   "source": [
    "(person_df.select(col('first_name'),\n",
    "             year(col('date_of_birth')).alias('year'),\n",
    "             col('active')).dropDuplicates(['year','active'])).orderBy('year',ascending =False).show(10)"
   ]
  },
  {
   "cell_type": "code",
   "execution_count": 54,
   "id": "6f0071f2",
   "metadata": {},
   "outputs": [],
   "source": [
    "#rows and union\n",
    "from pyspark.sql import Row"
   ]
  },
  {
   "cell_type": "code",
   "execution_count": 56,
   "id": "b43d960a",
   "metadata": {},
   "outputs": [],
   "source": [
    "person_row = Row(101,'Robert','Owens',['Men in Black III','Home Alone'],4300.64,'https://someimage.com','1964-08-18',True)"
   ]
  },
  {
   "cell_type": "code",
   "execution_count": 57,
   "id": "4e3fee5f",
   "metadata": {},
   "outputs": [],
   "source": [
    "person_rows_list =[Row(102,'Kenny','Bobien',['Men in Black III','Home Alone'],4300.64,'https://someimage.com','1964-08-18',True),\n",
    "                  Row(103,'Sara','Devine',['Men in Black III','Home Alone'],4300.64,'https://someimage.com','1964-08-18',True)]"
   ]
  },
  {
   "cell_type": "code",
   "execution_count": 58,
   "id": "8af6a391",
   "metadata": {},
   "outputs": [],
   "source": [
    "person_rows_list.append(person_row)"
   ]
  },
  {
   "cell_type": "code",
   "execution_count": 60,
   "id": "d2d273a0",
   "metadata": {},
   "outputs": [
    {
     "name": "stdout",
     "output_type": "stream",
     "text": [
      "[<Row(102, 'Kenny', 'Bobien', ['Men in Black III', 'Home Alone'], 4300.64, 'https://someimage.com', '1964-08-18', True)>, <Row(103, 'Sara', 'Devine', ['Men in Black III', 'Home Alone'], 4300.64, 'https://someimage.com', '1964-08-18', True)>, <Row(101, 'Robert', 'Owens', ['Men in Black III', 'Home Alone'], 4300.64, 'https://someimage.com', '1964-08-18', True)>]\n"
     ]
    }
   ],
   "source": [
    "print(person_rows_list)"
   ]
  },
  {
   "cell_type": "code",
   "execution_count": 61,
   "id": "26fb3416",
   "metadata": {},
   "outputs": [
    {
     "data": {
      "text/plain": [
       "'Robert'"
      ]
     },
     "execution_count": 61,
     "metadata": {},
     "output_type": "execute_result"
    }
   ],
   "source": [
    "person_row[1]"
   ]
  },
  {
   "cell_type": "code",
   "execution_count": 62,
   "id": "d01216e8",
   "metadata": {},
   "outputs": [],
   "source": [
    "new_df = spark.createDataFrame(person_rows_list,['id','first_name','last_name','fav_movies','salary','image_url','date_of_birth','active'])"
   ]
  },
  {
   "cell_type": "code",
   "execution_count": 65,
   "id": "233c0dd6",
   "metadata": {},
   "outputs": [
    {
     "name": "stdout",
     "output_type": "stream",
     "text": [
      "+---+----------+---------+--------------------+------------------+--------------------+-------------+------+\n",
      "| id|first_name|last_name|          fav_movies|            salary|           image_url|date_of_birth|active|\n",
      "+---+----------+---------+--------------------+------------------+--------------------+-------------+------+\n",
      "|103|      Sara|   Devine|[Men in Black III...|           4300.64|https://someimage...|   1964-08-18|  true|\n",
      "|102|     Kenny|   Bobien|[Men in Black III...|           4300.64|https://someimage...|   1964-08-18|  true|\n",
      "|101|    Robert|    Owens|[Men in Black III...|           4300.64|https://someimage...|   1964-08-18|  true|\n",
      "|100|    Virgie| Domanski|[Horseman, The, S...| 2165.929931640625|http://dummyimage...|   2002-01-05|  true|\n",
      "| 99|   Rozalie|   Wannop|[Suddenly, The No...|1259.6400146484375|http://dummyimage...|   1997-03-25| false|\n",
      "| 98|     Davin|     Labb|[Viva Riva!, Kill...| 1452.739990234375|http://dummyimage...|   1988-01-27|  true|\n",
      "| 97|      Rodi|   Farnan|[Code, The (Menta...|   2325.8798828125|http://dummyimage...|   1972-01-04| false|\n",
      "| 96|       Dew| Coopland|              [Rush]|  2725.56005859375|http://dummyimage...|   1986-11-14| false|\n",
      "| 95|      Cobb|  MacLure|[Storage 24, His ...|1621.1700439453125|http://dummyimage...|   1994-06-28| false|\n",
      "| 94|    Bennie|   Knight|[House on Carroll...| 2370.239990234375|http://dummyimage...|   1977-08-27| false|\n",
      "+---+----------+---------+--------------------+------------------+--------------------+-------------+------+\n",
      "only showing top 10 rows\n",
      "\n"
     ]
    }
   ],
   "source": [
    "add = person_df.union(new_df)\n",
    "add.sort(desc('id')).show(10)"
   ]
  },
  {
   "cell_type": "code",
   "execution_count": 66,
   "id": "9435aad4",
   "metadata": {},
   "outputs": [],
   "source": [
    "# adding renaming and dropping columns\n",
    "from pyspark.sql.functions import round"
   ]
  },
  {
   "cell_type": "code",
   "execution_count": 68,
   "id": "c0f5f2aa",
   "metadata": {},
   "outputs": [
    {
     "name": "stdout",
     "output_type": "stream",
     "text": [
      "+---+----------+---------+--------------------+-------+--------------------+-------------+------+------------------+\n",
      "| id|first_name|last_name|          fav_movies| salary|           image_url|date_of_birth|active|   salary_increase|\n",
      "+---+----------+---------+--------------------+-------+--------------------+-------------+------+------------------+\n",
      "|  1|     Drucy|    Poppy|  [I giorni contati]|1463.36|http://dummyimage...|   1991-02-16|  true|1609.6959838867188|\n",
      "|  2|   Emelyne|    Blaza|[Musketeer, The, ...|3006.04|http://dummyimage...|   1991-11-02| false|  3306.64404296875|\n",
      "|  3|       Max|   Rettie|[The Forgotten Sp...|1422.88|http://dummyimage...|   1990-03-03| false|1565.1680053710938|\n",
      "|  4|    Ilario|     Kean|[Up Close and Per...|3561.36|http://dummyimage...|   1987-06-09|  true|3917.4961181640624|\n",
      "|  5|     Toddy|   Drexel|[Walk in the Clou...|4934.87|http://dummyimage...|   1992-10-28|  true|  5428.35712890625|\n",
      "|  6|    Oswald| Petrolli|[Wing and the Thi...|1153.23|http://dummyimage...|   1986-09-02| false| 1268.552978515625|\n",
      "|  7|    Adrian|   Clarey|[Walking Tall, Pa...|1044.73|http://dummyimage...|   1971-08-24| false| 1149.202978515625|\n",
      "|  8|  Dominica|  Goodnow|    [Hearts Divided]|1147.76|http://dummyimage...|   1973-08-27| false|1262.5360107421875|\n",
      "|  9|     Emory|  Slocomb|[Snake and Crane ...|1082.11|http://dummyimage...|   1974-06-08|  true|1190.3209838867188|\n",
      "| 10|  Jeremias|     Bode|[Farewell to Arms...|3472.63|http://dummyimage...|   1997-08-02|  true|  3819.89287109375|\n",
      "+---+----------+---------+--------------------+-------+--------------------+-------------+------+------------------+\n",
      "only showing top 10 rows\n",
      "\n"
     ]
    }
   ],
   "source": [
    "avg_person_df1 = person_df.withColumn('salary_increase',expr('salary *0.10+salary'))\n",
    "avg_person_df1.show(10)"
   ]
  },
  {
   "cell_type": "code",
   "execution_count": 72,
   "id": "9440ef38",
   "metadata": {},
   "outputs": [
    {
     "data": {
      "text/plain": [
       "['id',\n",
       " 'first_name',\n",
       " 'last_name',\n",
       " 'fav_movies',\n",
       " 'salary',\n",
       " 'image_url',\n",
       " 'date_of_birth',\n",
       " 'active',\n",
       " 'salary_increase']"
      ]
     },
     "execution_count": 72,
     "metadata": {},
     "output_type": "execute_result"
    }
   ],
   "source": [
    "avg_person_df1.columns"
   ]
  },
  {
   "cell_type": "code",
   "execution_count": 77,
   "id": "e6ea5720",
   "metadata": {},
   "outputs": [],
   "source": [
    "avg_person_df2 =(avg_person_df1\n",
    "                .withColumn('birth_year',year('date_of_birth'))\n",
    "                .withColumnRenamed('fav_movies','movies')\n",
    "                .withColumn('salary x10',round(col('salary_increase'),2))#rounded odd the previous salary column to 2 deci\n",
    "                .drop('saraly_increase'))# dropped salary_increase column after adding a new one"
   ]
  },
  {
   "cell_type": "code",
   "execution_count": 76,
   "id": "c35bc51c",
   "metadata": {},
   "outputs": [
    {
     "name": "stdout",
     "output_type": "stream",
     "text": [
      "+---+----------+---------+--------------------+-------+--------------------+-------------+------+------------------+----------+----------+\n",
      "| id|first_name|last_name|              movies| salary|           image_url|date_of_birth|active|   salary_increase|birth_year|salary x10|\n",
      "+---+----------+---------+--------------------+-------+--------------------+-------------+------+------------------+----------+----------+\n",
      "|  1|     Drucy|    Poppy|  [I giorni contati]|1463.36|http://dummyimage...|   1991-02-16|  true|1609.6959838867188|      1991|    1609.7|\n",
      "|  2|   Emelyne|    Blaza|[Musketeer, The, ...|3006.04|http://dummyimage...|   1991-11-02| false|  3306.64404296875|      1991|   3306.64|\n",
      "|  3|       Max|   Rettie|[The Forgotten Sp...|1422.88|http://dummyimage...|   1990-03-03| false|1565.1680053710938|      1990|   1565.17|\n",
      "|  4|    Ilario|     Kean|[Up Close and Per...|3561.36|http://dummyimage...|   1987-06-09|  true|3917.4961181640624|      1987|    3917.5|\n",
      "|  5|     Toddy|   Drexel|[Walk in the Clou...|4934.87|http://dummyimage...|   1992-10-28|  true|  5428.35712890625|      1992|   5428.36|\n",
      "|  6|    Oswald| Petrolli|[Wing and the Thi...|1153.23|http://dummyimage...|   1986-09-02| false| 1268.552978515625|      1986|   1268.55|\n",
      "|  7|    Adrian|   Clarey|[Walking Tall, Pa...|1044.73|http://dummyimage...|   1971-08-24| false| 1149.202978515625|      1971|    1149.2|\n",
      "|  8|  Dominica|  Goodnow|    [Hearts Divided]|1147.76|http://dummyimage...|   1973-08-27| false|1262.5360107421875|      1973|   1262.54|\n",
      "|  9|     Emory|  Slocomb|[Snake and Crane ...|1082.11|http://dummyimage...|   1974-06-08|  true|1190.3209838867188|      1974|   1190.32|\n",
      "| 10|  Jeremias|     Bode|[Farewell to Arms...|3472.63|http://dummyimage...|   1997-08-02|  true|  3819.89287109375|      1997|   3819.89|\n",
      "+---+----------+---------+--------------------+-------+--------------------+-------------+------+------------------+----------+----------+\n",
      "only showing top 10 rows\n",
      "\n"
     ]
    }
   ],
   "source": [
    "avg_person_df2.show(10)"
   ]
  },
  {
   "cell_type": "code",
   "execution_count": 79,
   "id": "ffc119af",
   "metadata": {},
   "outputs": [],
   "source": [
    "#working with missing or bad data\n",
    "bad_movies_list = [Row(None, None, None),\n",
    "                   Row(None, None, 2020),\n",
    "                   Row(\"John Doe\", \"Awesome Movie\", None),\n",
    "                   Row(None, \"Awesome Movie\", 2021),\n",
    "                   Row(\"Mary Jane\", None, 2019),\n",
    "                   Row(\"Vikter Duplaix\", \"Not another teen movie\", 2001)]"
   ]
  },
  {
   "cell_type": "code",
   "execution_count": 80,
   "id": "05bfaf59",
   "metadata": {},
   "outputs": [
    {
     "data": {
      "text/plain": [
       "[<Row(None, None, None)>,\n",
       " <Row(None, None, 2020)>,\n",
       " <Row('John Doe', 'Awesome Movie', None)>,\n",
       " <Row(None, 'Awesome Movie', 2021)>,\n",
       " <Row('Mary Jane', None, 2019)>,\n",
       " <Row('Vikter Duplaix', 'Not another teen movie', 2001)>]"
      ]
     },
     "execution_count": 80,
     "metadata": {},
     "output_type": "execute_result"
    }
   ],
   "source": [
    "bad_movies_list"
   ]
  },
  {
   "cell_type": "code",
   "execution_count": 81,
   "id": "a4798ece",
   "metadata": {},
   "outputs": [],
   "source": [
    "bad_column = ['actor_name','movies_title','produced_year']"
   ]
  },
  {
   "cell_type": "code",
   "execution_count": 83,
   "id": "5bdf8a66",
   "metadata": {},
   "outputs": [],
   "source": [
    "bad_df = spark.createDataFrame(bad_movies_list,schema =bad_column)"
   ]
  },
  {
   "cell_type": "code",
   "execution_count": 84,
   "id": "4734a90f",
   "metadata": {},
   "outputs": [
    {
     "name": "stdout",
     "output_type": "stream",
     "text": [
      "+--------------+--------------------+-------------+\n",
      "|    actor_name|        movies_title|produced_year|\n",
      "+--------------+--------------------+-------------+\n",
      "|          null|                null|         null|\n",
      "|          null|                null|         2020|\n",
      "|      John Doe|       Awesome Movie|         null|\n",
      "|          null|       Awesome Movie|         2021|\n",
      "|     Mary Jane|                null|         2019|\n",
      "|Vikter Duplaix|Not another teen ...|         2001|\n",
      "+--------------+--------------------+-------------+\n",
      "\n"
     ]
    }
   ],
   "source": [
    "bad_df.show()"
   ]
  },
  {
   "cell_type": "code",
   "execution_count": 85,
   "id": "5a25b30b",
   "metadata": {},
   "outputs": [
    {
     "name": "stdout",
     "output_type": "stream",
     "text": [
      "+--------------+--------------------+-------------+\n",
      "|    actor_name|        movies_title|produced_year|\n",
      "+--------------+--------------------+-------------+\n",
      "|Vikter Duplaix|Not another teen ...|         2001|\n",
      "+--------------+--------------------+-------------+\n",
      "\n"
     ]
    }
   ],
   "source": [
    "bad_df.na.drop().show()"
   ]
  },
  {
   "cell_type": "code",
   "execution_count": 86,
   "id": "015a934d",
   "metadata": {},
   "outputs": [
    {
     "name": "stdout",
     "output_type": "stream",
     "text": [
      "+--------------+--------------------+-------------+\n",
      "|    actor_name|        movies_title|produced_year|\n",
      "+--------------+--------------------+-------------+\n",
      "|Vikter Duplaix|Not another teen ...|         2001|\n",
      "+--------------+--------------------+-------------+\n",
      "\n"
     ]
    }
   ],
   "source": [
    "bad_df.na.drop('any').show()"
   ]
  },
  {
   "cell_type": "code",
   "execution_count": 87,
   "id": "b262118d",
   "metadata": {},
   "outputs": [
    {
     "name": "stdout",
     "output_type": "stream",
     "text": [
      "+--------------+--------------------+-------------+\n",
      "|    actor_name|        movies_title|produced_year|\n",
      "+--------------+--------------------+-------------+\n",
      "|          null|                null|         2020|\n",
      "|      John Doe|       Awesome Movie|         null|\n",
      "|          null|       Awesome Movie|         2021|\n",
      "|     Mary Jane|                null|         2019|\n",
      "|Vikter Duplaix|Not another teen ...|         2001|\n",
      "+--------------+--------------------+-------------+\n",
      "\n"
     ]
    }
   ],
   "source": [
    "bad_df.na.drop('all').show()"
   ]
  },
  {
   "cell_type": "code",
   "execution_count": 89,
   "id": "8ad3ee5c",
   "metadata": {},
   "outputs": [
    {
     "name": "stdout",
     "output_type": "stream",
     "text": [
      "+--------------+--------------------+-------------+\n",
      "|    actor_name|        movies_title|produced_year|\n",
      "+--------------+--------------------+-------------+\n",
      "|      John Doe|       Awesome Movie|         null|\n",
      "|     Mary Jane|                null|         2019|\n",
      "|Vikter Duplaix|Not another teen ...|         2001|\n",
      "+--------------+--------------------+-------------+\n",
      "\n"
     ]
    }
   ],
   "source": [
    "bad_df.filter(col('actor_name').isNull() != True).show()"
   ]
  },
  {
   "cell_type": "code",
   "execution_count": 90,
   "id": "d58eee4c",
   "metadata": {},
   "outputs": [
    {
     "name": "stdout",
     "output_type": "stream",
     "text": [
      "+----------+-------------+-------------+\n",
      "|actor_name| movies_title|produced_year|\n",
      "+----------+-------------+-------------+\n",
      "|      null|         null|         null|\n",
      "|      null|         null|         2020|\n",
      "|      null|Awesome Movie|         2021|\n",
      "+----------+-------------+-------------+\n",
      "\n"
     ]
    }
   ],
   "source": [
    "bad_df.filter(col('actor_name').isNull() != False).show()"
   ]
  },
  {
   "cell_type": "code",
   "execution_count": 92,
   "id": "dedf0afa",
   "metadata": {},
   "outputs": [
    {
     "name": "stdout",
     "output_type": "stream",
     "text": [
      "+-------+-----------------+\n",
      "|summary|    produced_year|\n",
      "+-------+-----------------+\n",
      "|  count|                4|\n",
      "|   mean|          2015.25|\n",
      "| stddev|9.535023160258536|\n",
      "|    min|             2001|\n",
      "|    max|             2021|\n",
      "+-------+-----------------+\n",
      "\n"
     ]
    }
   ],
   "source": [
    "bad_df.describe('produced_year').show()"
   ]
  },
  {
   "cell_type": "code",
   "execution_count": 95,
   "id": "4315085b",
   "metadata": {},
   "outputs": [
    {
     "name": "stdout",
     "output_type": "stream",
     "text": [
      "+-------+--------------+\n",
      "|summary|    actor_name|\n",
      "+-------+--------------+\n",
      "|  count|             3|\n",
      "|   mean|          null|\n",
      "| stddev|          null|\n",
      "|    min|      John Doe|\n",
      "|    max|Vikter Duplaix|\n",
      "+-------+--------------+\n",
      "\n"
     ]
    }
   ],
   "source": [
    "bad_df.describe('actor_name').show()"
   ]
  },
  {
   "cell_type": "code",
   "execution_count": 96,
   "id": "d8f2f6f3",
   "metadata": {},
   "outputs": [],
   "source": [
    "# user defined functions\n",
    "from pyspark.sql.functions import udf"
   ]
  },
  {
   "cell_type": "code",
   "execution_count": 98,
   "id": "63091b79",
   "metadata": {},
   "outputs": [],
   "source": [
    "student_list = [('joe',85),\n",
    "               ('jane',90),\n",
    "               ('mary',55)]"
   ]
  },
  {
   "cell_type": "code",
   "execution_count": 99,
   "id": "cf06618d",
   "metadata": {},
   "outputs": [],
   "source": [
    "students_columns = ['name','score']\n",
    "student_df = spark.createDataFrame(student_list,schema= students_columns)"
   ]
  },
  {
   "cell_type": "code",
   "execution_count": 100,
   "id": "58880549",
   "metadata": {},
   "outputs": [
    {
     "name": "stdout",
     "output_type": "stream",
     "text": [
      "+----+-----+\n",
      "|name|score|\n",
      "+----+-----+\n",
      "| joe|   85|\n",
      "|jane|   90|\n",
      "|mary|   55|\n",
      "+----+-----+\n",
      "\n"
     ]
    }
   ],
   "source": [
    "student_df.show()"
   ]
  },
  {
   "cell_type": "code",
   "execution_count": 101,
   "id": "3213f230",
   "metadata": {},
   "outputs": [],
   "source": [
    "def lettergrade(score:int):\n",
    "    grade =''\n",
    "    if score >100:\n",
    "        grade ='cheating'\n",
    "    elif score >=90:\n",
    "        grade ='A'\n",
    "    elif score >=80:\n",
    "        grade ='B'\n",
    "    elif score >=70:\n",
    "        grade = 'c'\n",
    "    else:\n",
    "        grade = 'F'\n",
    "    return grade"
   ]
  },
  {
   "cell_type": "code",
   "execution_count": 103,
   "id": "cfc49d60",
   "metadata": {},
   "outputs": [],
   "source": [
    "lettergradeudf = udf(lettergrade)"
   ]
  },
  {
   "cell_type": "code",
   "execution_count": 105,
   "id": "88a99d1f",
   "metadata": {},
   "outputs": [
    {
     "name": "stdout",
     "output_type": "stream",
     "text": [
      "+----+-----+-----+\n",
      "|name|score|grade|\n",
      "+----+-----+-----+\n",
      "| joe|   85|    B|\n",
      "|jane|   90|    A|\n",
      "|mary|   55|    F|\n",
      "+----+-----+-----+\n",
      "\n"
     ]
    }
   ],
   "source": [
    "student_df.select('name','score',lettergradeudf(col('score')).alias('grade')).show()"
   ]
  },
  {
   "cell_type": "markdown",
   "id": "bcdc5a83",
   "metadata": {},
   "source": [
    "### data preparation and cleansing "
   ]
  },
  {
   "cell_type": "code",
   "execution_count": 5,
   "id": "9180fb06",
   "metadata": {},
   "outputs": [],
   "source": [
    "# remove null rows and bad Records\n",
    "import findspark\n",
    "findspark.init()\n",
    "from pyspark.sql import SparkSession\n",
    "from pyspark.sql.types import  StructType , StructField , StringType"
   ]
  },
  {
   "cell_type": "code",
   "execution_count": 6,
   "id": "4b79bb43",
   "metadata": {},
   "outputs": [],
   "source": [
    "schema = StructType([\n",
    "    StructField('Order Id',StringType(),True),\n",
    "    StructField('Product',StringType(),True),\n",
    "    StructField('Quantity Ordered',StringType(),True),\n",
    "    StructField('Price Each',StringType(),True),\n",
    "    StructField('Orderdate',StringType(),True),\n",
    "    StructField('Purchase Adress',StringType(),True),\n",
    "])"
   ]
  },
  {
   "cell_type": "code",
   "execution_count": 7,
   "id": "5d210a28",
   "metadata": {},
   "outputs": [],
   "source": [
    "spark =(SparkSession.builder.appName('salesanalytics').getOrCreate())"
   ]
  },
  {
   "cell_type": "code",
   "execution_count": 8,
   "id": "b7c2bb35",
   "metadata": {},
   "outputs": [],
   "source": [
    "sales_data=r'csv_spark\\salesdata'\n",
    "sales =(spark.read.format('csv')\n",
    "        .option('header',True)\n",
    "       .schema(schema)\n",
    "       .load(sales_data))"
   ]
  },
  {
   "cell_type": "code",
   "execution_count": 9,
   "id": "f8ba778e",
   "metadata": {},
   "outputs": [
    {
     "name": "stdout",
     "output_type": "stream",
     "text": [
      "+--------+--------------------+----------------+----------+--------------+--------------------+\n",
      "|Order Id|             Product|Quantity Ordered|Price Each|     Orderdate|     Purchase Adress|\n",
      "+--------+--------------------+----------------+----------+--------------+--------------------+\n",
      "|  295665|  Macbook Pro Laptop|               1|      1700|12/30/19 00:01|136 Church St, Ne...|\n",
      "|  295666|  LG Washing Machine|               1|     600.0|12/29/19 07:03|562 2nd St, New Y...|\n",
      "|  295667|USB-C Charging Cable|               1|     11.95|12/12/19 18:21|277 Main St, New ...|\n",
      "|  295668|    27in FHD Monitor|               1|    149.99|12/22/19 15:13|410 6th St, San F...|\n",
      "|  295669|USB-C Charging Cable|               1|     11.95|12/18/19 12:38|43 Hill St, Atlan...|\n",
      "|  295670|AA Batteries (4-p...|               1|      3.84|12/31/19 22:58|200 Jefferson St,...|\n",
      "|  295671|USB-C Charging Cable|               1|     11.95|12/16/19 15:10|928 12th St, Port...|\n",
      "|  295672|USB-C Charging Cable|               2|     11.95|12/13/19 09:29|813 Hickory St, D...|\n",
      "|  295673|Bose SoundSport H...|               1|     99.99|12/15/19 23:26|718 Wilson St, Da...|\n",
      "|  295674|AAA Batteries (4-...|               4|      2.99|12/28/19 11:51|77 7th St, Dallas...|\n",
      "+--------+--------------------+----------------+----------+--------------+--------------------+\n",
      "only showing top 10 rows\n",
      "\n"
     ]
    }
   ],
   "source": [
    "sales.show(10)"
   ]
  },
  {
   "cell_type": "code",
   "execution_count": 10,
   "id": "e771319f",
   "metadata": {},
   "outputs": [
    {
     "name": "stdout",
     "output_type": "stream",
     "text": [
      "root\n",
      " |-- Order Id: string (nullable = true)\n",
      " |-- Product: string (nullable = true)\n",
      " |-- Quantity Ordered: string (nullable = true)\n",
      " |-- Price Each: string (nullable = true)\n",
      " |-- Orderdate: string (nullable = true)\n",
      " |-- Purchase Adress: string (nullable = true)\n",
      "\n"
     ]
    }
   ],
   "source": [
    "sales.printSchema()"
   ]
  },
  {
   "cell_type": "code",
   "execution_count": 11,
   "id": "33558aa7",
   "metadata": {},
   "outputs": [],
   "source": [
    "from pyspark.sql.functions import col"
   ]
  },
  {
   "cell_type": "code",
   "execution_count": 12,
   "id": "f3c2be15",
   "metadata": {},
   "outputs": [
    {
     "name": "stdout",
     "output_type": "stream",
     "text": [
      "+--------+-------+----------------+----------+---------+---------------+\n",
      "|Order Id|Product|Quantity Ordered|Price Each|Orderdate|Purchase Adress|\n",
      "+--------+-------+----------------+----------+---------+---------------+\n",
      "|    null|   null|            null|      null|     null|           null|\n",
      "|    null|   null|            null|      null|     null|           null|\n",
      "|    null|   null|            null|      null|     null|           null|\n",
      "|    null|   null|            null|      null|     null|           null|\n",
      "|    null|   null|            null|      null|     null|           null|\n",
      "|    null|   null|            null|      null|     null|           null|\n",
      "|    null|   null|            null|      null|     null|           null|\n",
      "|    null|   null|            null|      null|     null|           null|\n",
      "|    null|   null|            null|      null|     null|           null|\n",
      "|    null|   null|            null|      null|     null|           null|\n",
      "+--------+-------+----------------+----------+---------+---------------+\n",
      "only showing top 10 rows\n",
      "\n"
     ]
    }
   ],
   "source": [
    "sales.filter(col('Order Id').isNull() == True).show(10)"
   ]
  },
  {
   "cell_type": "code",
   "execution_count": 13,
   "id": "ac2d5ce9",
   "metadata": {},
   "outputs": [],
   "source": [
    "sales =sales.na.drop('any')"
   ]
  },
  {
   "cell_type": "code",
   "execution_count": 14,
   "id": "4a6ad77b",
   "metadata": {},
   "outputs": [
    {
     "name": "stdout",
     "output_type": "stream",
     "text": [
      "+-------+-----------------+------------+------------------+-----------------+--------------+--------------------+\n",
      "|summary|         Order Id|     Product|  Quantity Ordered|       Price Each|     Orderdate|     Purchase Adress|\n",
      "+-------+-----------------+------------+------------------+-----------------+--------------+--------------------+\n",
      "|  count|           186305|      186305|            186305|           186305|        186305|              186305|\n",
      "|   mean|230417.5693788653|        null|1.1243828986286637|184.3997347674861|          null|                null|\n",
      "| stddev| 51512.7371099961|        null|0.4427926240286694|332.7313298843445|          null|                null|\n",
      "|    min|           141234|20in Monitor|                 1|           109.99|01/01/19 03:07|1 11th St, Atlant...|\n",
      "|    max|         Order ID|      iPhone|  Quantity Ordered|       Price Each|    Order Date|    Purchase Address|\n",
      "+-------+-----------------+------------+------------------+-----------------+--------------+--------------------+\n",
      "\n"
     ]
    }
   ],
   "source": [
    "sales.describe('Order Id','Product','Quantity Ordered','Price Each','Orderdate','Purchase Adress').show(10)"
   ]
  },
  {
   "cell_type": "code",
   "execution_count": 15,
   "id": "819befdd",
   "metadata": {},
   "outputs": [
    {
     "name": "stdout",
     "output_type": "stream",
     "text": [
      "+--------+-------+----------------+----------+----------+----------------+\n",
      "|Order Id|Product|Quantity Ordered|Price Each| Orderdate| Purchase Adress|\n",
      "+--------+-------+----------------+----------+----------+----------------+\n",
      "|Order ID|Product|Quantity Ordered|Price Each|Order Date|Purchase Address|\n",
      "|Order ID|Product|Quantity Ordered|Price Each|Order Date|Purchase Address|\n",
      "|Order ID|Product|Quantity Ordered|Price Each|Order Date|Purchase Address|\n",
      "|Order ID|Product|Quantity Ordered|Price Each|Order Date|Purchase Address|\n",
      "|Order ID|Product|Quantity Ordered|Price Each|Order Date|Purchase Address|\n",
      "|Order ID|Product|Quantity Ordered|Price Each|Order Date|Purchase Address|\n",
      "|Order ID|Product|Quantity Ordered|Price Each|Order Date|Purchase Address|\n",
      "|Order ID|Product|Quantity Ordered|Price Each|Order Date|Purchase Address|\n",
      "|Order ID|Product|Quantity Ordered|Price Each|Order Date|Purchase Address|\n",
      "|Order ID|Product|Quantity Ordered|Price Each|Order Date|Purchase Address|\n",
      "+--------+-------+----------------+----------+----------+----------------+\n",
      "only showing top 10 rows\n",
      "\n"
     ]
    }
   ],
   "source": [
    "sales.filter(col('Order Id')=='Order ID').show(10)"
   ]
  },
  {
   "cell_type": "code",
   "execution_count": 16,
   "id": "53f3de52",
   "metadata": {},
   "outputs": [],
   "source": [
    "sales_temp = sales.distinct()"
   ]
  },
  {
   "cell_type": "code",
   "execution_count": 17,
   "id": "4030643b",
   "metadata": {},
   "outputs": [
    {
     "name": "stdout",
     "output_type": "stream",
     "text": [
      "+--------+-------+----------------+----------+----------+----------------+\n",
      "|Order Id|Product|Quantity Ordered|Price Each| Orderdate| Purchase Adress|\n",
      "+--------+-------+----------------+----------+----------+----------------+\n",
      "|Order ID|Product|Quantity Ordered|Price Each|Order Date|Purchase Address|\n",
      "+--------+-------+----------------+----------+----------+----------------+\n",
      "\n"
     ]
    }
   ],
   "source": [
    "sales_temp.filter(col('Order Id')=='Order ID').show(10)"
   ]
  },
  {
   "cell_type": "code",
   "execution_count": 18,
   "id": "405562b9",
   "metadata": {},
   "outputs": [],
   "source": [
    "sales_temp =sales_temp.filter(col('Order Id')!='Order ID')# sales_temp will be updated to an instance of date where order Id != orderId"
   ]
  },
  {
   "cell_type": "code",
   "execution_count": 19,
   "id": "86dce9ff",
   "metadata": {},
   "outputs": [
    {
     "name": "stdout",
     "output_type": "stream",
     "text": [
      "+--------+-------+----------------+----------+---------+---------------+\n",
      "|Order Id|Product|Quantity Ordered|Price Each|Orderdate|Purchase Adress|\n",
      "+--------+-------+----------------+----------+---------+---------------+\n",
      "+--------+-------+----------------+----------+---------+---------------+\n",
      "\n"
     ]
    }
   ],
   "source": [
    "sales_temp.filter(col('Order Id')=='Order ID').show(10)"
   ]
  },
  {
   "cell_type": "code",
   "execution_count": 20,
   "id": "310e8822",
   "metadata": {},
   "outputs": [
    {
     "name": "stdout",
     "output_type": "stream",
     "text": [
      "+--------+--------------------------+----------------+----------+--------------+-----------------------------------------+\n",
      "|Order Id|Product                   |Quantity Ordered|Price Each|Orderdate     |Purchase Adress                          |\n",
      "+--------+--------------------------+----------------+----------+--------------+-----------------------------------------+\n",
      "|295665  |Macbook Pro Laptop        |1               |1700      |12/30/19 00:01|136 Church St, New York City, NY 10001   |\n",
      "|295666  |LG Washing Machine        |1               |600.0     |12/29/19 07:03|562 2nd St, New York City, NY 10001      |\n",
      "|295667  |USB-C Charging Cable      |1               |11.95     |12/12/19 18:21|277 Main St, New York City, NY 10001     |\n",
      "|295668  |27in FHD Monitor          |1               |149.99    |12/22/19 15:13|410 6th St, San Francisco, CA 94016      |\n",
      "|295669  |USB-C Charging Cable      |1               |11.95     |12/18/19 12:38|43 Hill St, Atlanta, GA 30301            |\n",
      "|295670  |AA Batteries (4-pack)     |1               |3.84      |12/31/19 22:58|200 Jefferson St, New York City, NY 10001|\n",
      "|295671  |USB-C Charging Cable      |1               |11.95     |12/16/19 15:10|928 12th St, Portland, OR 97035          |\n",
      "|295672  |USB-C Charging Cable      |2               |11.95     |12/13/19 09:29|813 Hickory St, Dallas, TX 75001         |\n",
      "|295673  |Bose SoundSport Headphones|1               |99.99     |12/15/19 23:26|718 Wilson St, Dallas, TX 75001          |\n",
      "|295674  |AAA Batteries (4-pack)    |4               |2.99      |12/28/19 11:51|77 7th St, Dallas, TX 75001              |\n",
      "+--------+--------------------------+----------------+----------+--------------+-----------------------------------------+\n",
      "only showing top 10 rows\n",
      "\n"
     ]
    }
   ],
   "source": [
    "sales.show(10,truncate =False)"
   ]
  },
  {
   "cell_type": "code",
   "execution_count": 21,
   "id": "99dd5ed2",
   "metadata": {},
   "outputs": [
    {
     "name": "stdout",
     "output_type": "stream",
     "text": [
      "+-------+------------------+------------+------------------+------------------+--------------+--------------------+\n",
      "|summary|          Order Id|     Product|  Quantity Ordered|        Price Each|     Orderdate|     Purchase Adress|\n",
      "+-------+------------------+------------+------------------+------------------+--------------+--------------------+\n",
      "|  count|            185686|      185686|            185686|            185686|        185686|              185686|\n",
      "|   mean|230411.37622653297|        null|1.1245435843305365|184.51925546358373|          null|                null|\n",
      "| stddev| 51511.71718332075|        null|0.4430687383832877|332.84383839005267|          null|                null|\n",
      "|    min|            141234|20in Monitor|                 1|            109.99|01/01/19 03:07|1 11th St, Atlant...|\n",
      "|    max|            319670|      iPhone|                 9|            999.99|12/31/19 23:53|999 Wilson St, Sa...|\n",
      "+-------+------------------+------------+------------------+------------------+--------------+--------------------+\n",
      "\n"
     ]
    }
   ],
   "source": [
    "sales_temp.describe('Order Id','Product','Quantity Ordered','Price Each','Orderdate','Purchase Adress').show(10)"
   ]
  },
  {
   "cell_type": "code",
   "execution_count": 22,
   "id": "6819fdc8",
   "metadata": {},
   "outputs": [],
   "source": [
    "#extract the city and state from purchase adress\n",
    "from pyspark.sql.functions import split"
   ]
  },
  {
   "cell_type": "code",
   "execution_count": 23,
   "id": "180ffff6",
   "metadata": {},
   "outputs": [
    {
     "name": "stdout",
     "output_type": "stream",
     "text": [
      "+--------------------------------------+\n",
      "|Purchase Adress                       |\n",
      "+--------------------------------------+\n",
      "|729 Pine St, Atlanta, GA 30301        |\n",
      "|983 Highland St, Los Angeles, CA 90001|\n",
      "|810 Lincoln St, Boston, MA 02215      |\n",
      "|676 13th St, Atlanta, GA 30301        |\n",
      "|869 9th St, San Francisco, CA 94016   |\n",
      "|90 14th St, Los Angeles, CA 90001     |\n",
      "|357 13th St, Atlanta, GA 30301        |\n",
      "|949 Adams St, Atlanta, GA 30301       |\n",
      "|702 Wilson St, New York City, NY 10001|\n",
      "|151 14th St, Boston, MA 02215         |\n",
      "+--------------------------------------+\n",
      "only showing top 10 rows\n",
      "\n"
     ]
    }
   ],
   "source": [
    "sales_temp.select('Purchase Adress').show(10,False)"
   ]
  },
  {
   "cell_type": "code",
   "execution_count": 24,
   "id": "074b36b6",
   "metadata": {},
   "outputs": [
    {
     "name": "stdout",
     "output_type": "stream",
     "text": [
      "+--------------------------------------+------------------------------------------+\n",
      "|Purchase Adress                       |split(Purchase Adress, ,, -1)             |\n",
      "+--------------------------------------+------------------------------------------+\n",
      "|729 Pine St, Atlanta, GA 30301        |[729 Pine St,  Atlanta,  GA 30301]        |\n",
      "|983 Highland St, Los Angeles, CA 90001|[983 Highland St,  Los Angeles,  CA 90001]|\n",
      "|810 Lincoln St, Boston, MA 02215      |[810 Lincoln St,  Boston,  MA 02215]      |\n",
      "|676 13th St, Atlanta, GA 30301        |[676 13th St,  Atlanta,  GA 30301]        |\n",
      "|869 9th St, San Francisco, CA 94016   |[869 9th St,  San Francisco,  CA 94016]   |\n",
      "|90 14th St, Los Angeles, CA 90001     |[90 14th St,  Los Angeles,  CA 90001]     |\n",
      "|357 13th St, Atlanta, GA 30301        |[357 13th St,  Atlanta,  GA 30301]        |\n",
      "|949 Adams St, Atlanta, GA 30301       |[949 Adams St,  Atlanta,  GA 30301]       |\n",
      "|702 Wilson St, New York City, NY 10001|[702 Wilson St,  New York City,  NY 10001]|\n",
      "|151 14th St, Boston, MA 02215         |[151 14th St,  Boston,  MA 02215]         |\n",
      "+--------------------------------------+------------------------------------------+\n",
      "only showing top 10 rows\n",
      "\n"
     ]
    }
   ],
   "source": [
    "sales_temp.select('Purchase Adress',split(col('Purchase Adress'),',')).show(10,False)"
   ]
  },
  {
   "cell_type": "code",
   "execution_count": 25,
   "id": "e82483b2",
   "metadata": {},
   "outputs": [
    {
     "name": "stdout",
     "output_type": "stream",
     "text": [
      "+--------------------------------------+--------------------------------+\n",
      "|Purchase Adress                       |split(Purchase Adress, ,, -1)[1]|\n",
      "+--------------------------------------+--------------------------------+\n",
      "|729 Pine St, Atlanta, GA 30301        | Atlanta                        |\n",
      "|983 Highland St, Los Angeles, CA 90001| Los Angeles                    |\n",
      "|810 Lincoln St, Boston, MA 02215      | Boston                         |\n",
      "|676 13th St, Atlanta, GA 30301        | Atlanta                        |\n",
      "|869 9th St, San Francisco, CA 94016   | San Francisco                  |\n",
      "|90 14th St, Los Angeles, CA 90001     | Los Angeles                    |\n",
      "|357 13th St, Atlanta, GA 30301        | Atlanta                        |\n",
      "|949 Adams St, Atlanta, GA 30301       | Atlanta                        |\n",
      "|702 Wilson St, New York City, NY 10001| New York City                  |\n",
      "|151 14th St, Boston, MA 02215         | Boston                         |\n",
      "+--------------------------------------+--------------------------------+\n",
      "only showing top 10 rows\n",
      "\n"
     ]
    }
   ],
   "source": [
    "sales_temp.select('Purchase Adress',split(col('Purchase Adress'),',').getItem(1)).show(10,False)"
   ]
  },
  {
   "cell_type": "code",
   "execution_count": 26,
   "id": "568239db",
   "metadata": {},
   "outputs": [
    {
     "name": "stdout",
     "output_type": "stream",
     "text": [
      "+--------------------------------------+--------------------------------+\n",
      "|Purchase Adress                       |split(Purchase Adress, ,, -1)[2]|\n",
      "+--------------------------------------+--------------------------------+\n",
      "|729 Pine St, Atlanta, GA 30301        | GA 30301                       |\n",
      "|983 Highland St, Los Angeles, CA 90001| CA 90001                       |\n",
      "|810 Lincoln St, Boston, MA 02215      | MA 02215                       |\n",
      "|676 13th St, Atlanta, GA 30301        | GA 30301                       |\n",
      "|869 9th St, San Francisco, CA 94016   | CA 94016                       |\n",
      "|90 14th St, Los Angeles, CA 90001     | CA 90001                       |\n",
      "|357 13th St, Atlanta, GA 30301        | GA 30301                       |\n",
      "|949 Adams St, Atlanta, GA 30301       | GA 30301                       |\n",
      "|702 Wilson St, New York City, NY 10001| NY 10001                       |\n",
      "|151 14th St, Boston, MA 02215         | MA 02215                       |\n",
      "+--------------------------------------+--------------------------------+\n",
      "only showing top 10 rows\n",
      "\n"
     ]
    }
   ],
   "source": [
    "sales_temp.select('Purchase Adress',split(col('Purchase Adress'),',').getItem(2)).show(10,False)"
   ]
  },
  {
   "cell_type": "code",
   "execution_count": 27,
   "id": "29e05571",
   "metadata": {},
   "outputs": [
    {
     "name": "stdout",
     "output_type": "stream",
     "text": [
      "+--------------------------------------+----------------------------------------------+\n",
      "|Purchase Adress                       |split(split(Purchase Adress, ,, -1)[2],  , -1)|\n",
      "+--------------------------------------+----------------------------------------------+\n",
      "|729 Pine St, Atlanta, GA 30301        |[, GA, 30301]                                 |\n",
      "|983 Highland St, Los Angeles, CA 90001|[, CA, 90001]                                 |\n",
      "|810 Lincoln St, Boston, MA 02215      |[, MA, 02215]                                 |\n",
      "|676 13th St, Atlanta, GA 30301        |[, GA, 30301]                                 |\n",
      "|869 9th St, San Francisco, CA 94016   |[, CA, 94016]                                 |\n",
      "|90 14th St, Los Angeles, CA 90001     |[, CA, 90001]                                 |\n",
      "|357 13th St, Atlanta, GA 30301        |[, GA, 30301]                                 |\n",
      "|949 Adams St, Atlanta, GA 30301       |[, GA, 30301]                                 |\n",
      "|702 Wilson St, New York City, NY 10001|[, NY, 10001]                                 |\n",
      "|151 14th St, Boston, MA 02215         |[, MA, 02215]                                 |\n",
      "+--------------------------------------+----------------------------------------------+\n",
      "only showing top 10 rows\n",
      "\n"
     ]
    }
   ],
   "source": [
    "sales_temp.select('Purchase Adress',split(split(col('Purchase Adress'),',').getItem(2),' ')).show(10,False)"
   ]
  },
  {
   "cell_type": "code",
   "execution_count": 28,
   "id": "d9fbcd18",
   "metadata": {},
   "outputs": [],
   "source": [
    "sales_temp =(sales_temp.withColumn('City',split(col('Purchase Adress'),',').getItem(1))\n",
    "            .withColumn('State',split(split(col('Purchase Adress'),',').getItem(2),' ').getItem(1)))"
   ]
  },
  {
   "cell_type": "code",
   "execution_count": 29,
   "id": "b437d7e5",
   "metadata": {},
   "outputs": [
    {
     "name": "stdout",
     "output_type": "stream",
     "text": [
      "+--------+------------------------+----------------+----------+--------------+--------------------------------------+--------------+-----+\n",
      "|Order Id|Product                 |Quantity Ordered|Price Each|Orderdate     |Purchase Adress                       |City          |State|\n",
      "+--------+------------------------+----------------+----------+--------------+--------------------------------------+--------------+-----+\n",
      "|295710  |AAA Batteries (4-pack)  |1               |2.99      |12/26/19 19:09|729 Pine St, Atlanta, GA 30301        | Atlanta      |GA   |\n",
      "|295749  |Wired Headphones        |2               |11.99     |12/04/19 05:24|983 Highland St, Los Angeles, CA 90001| Los Angeles  |CA   |\n",
      "|296168  |ThinkPad Laptop         |1               |999.99    |12/29/19 07:26|810 Lincoln St, Boston, MA 02215      | Boston       |MA   |\n",
      "|296698  |Wired Headphones        |1               |11.99     |12/13/19 22:02|676 13th St, Atlanta, GA 30301        | Atlanta      |GA   |\n",
      "|297024  |Macbook Pro Laptop      |1               |1700      |12/15/19 15:16|869 9th St, San Francisco, CA 94016   | San Francisco|CA   |\n",
      "|297128  |ThinkPad Laptop         |1               |999.99    |12/04/19 23:25|90 14th St, Los Angeles, CA 90001     | Los Angeles  |CA   |\n",
      "|297253  |Lightning Charging Cable|1               |14.95     |12/24/19 13:18|357 13th St, Atlanta, GA 30301        | Atlanta      |GA   |\n",
      "|297880  |AAA Batteries (4-pack)  |2               |2.99      |12/20/19 07:49|949 Adams St, Atlanta, GA 30301       | Atlanta      |GA   |\n",
      "|298455  |20in Monitor            |1               |109.99    |12/22/19 09:19|702 Wilson St, New York City, NY 10001| New York City|NY   |\n",
      "|298823  |Apple Airpods Headphones|1               |150       |12/28/19 20:22|151 14th St, Boston, MA 02215         | Boston       |MA   |\n",
      "+--------+------------------------+----------------+----------+--------------+--------------------------------------+--------------+-----+\n",
      "only showing top 10 rows\n",
      "\n"
     ]
    }
   ],
   "source": [
    "sales_temp.show(10,False)"
   ]
  },
  {
   "cell_type": "code",
   "execution_count": 30,
   "id": "3fd3b75d",
   "metadata": {},
   "outputs": [],
   "source": [
    "import findspark\n",
    "findspark.init()\n",
    "#rename and change dataTypes\n",
    "from pyspark.sql.functions import to_timestamp,year,month,max\n",
    "from pyspark.sql.types import IntegerType ,FloatType"
   ]
  },
  {
   "cell_type": "code",
   "execution_count": 31,
   "id": "5c6e24a1",
   "metadata": {},
   "outputs": [],
   "source": [
    "sales_temp=(sales_temp.withColumn('OrderID',col('Order Id').cast(IntegerType()))\n",
    "                      .withColumn('Quantity',col('Quantity Ordered').cast(IntegerType()))\n",
    "                      .withColumn('Price',col('Price Each').cast(FloatType()))\n",
    "                      .withColumn('OrderDate',to_timestamp(col(\"Orderdate\"),'MM/dd/yy HH:mm'))\n",
    "                      .withColumnRenamed(\"Purchase Adress\",'StoreAdress')\n",
    "                      .drop('Order Id')\n",
    "                      .drop('Quantity Ordered')\n",
    "                      .drop('Price Each')\n",
    "                      .drop('Purchase Adress'))"
   ]
  },
  {
   "cell_type": "code",
   "execution_count": 32,
   "id": "9ce38880",
   "metadata": {
    "collapsed": true
   },
   "outputs": [
    {
     "ename": "AnalysisException",
     "evalue": "cannot resolve '`Order Id`' given input columns: [City, OrderDate, OrderID, Price, Product, Quantity, State, StoreAdress];\n'Project [Product#1, OrderDate#1225, StoreAdress#1237, City#1136, State#1144, 'Order Id AS OrderID#1284, Quantity#1202, Price#1213]\n+- Project [Product#1, OrderDate#1225, StoreAdress#1237, City#1136, State#1144, OrderID#1192, Quantity#1202, Price#1213]\n   +- Project [Product#1, Price Each#3, OrderDate#1225, StoreAdress#1237, City#1136, State#1144, OrderID#1192, Quantity#1202, Price#1213]\n      +- Project [Product#1, Quantity Ordered#2, Price Each#3, OrderDate#1225, StoreAdress#1237, City#1136, State#1144, OrderID#1192, Quantity#1202, Price#1213]\n         +- Project [Order Id#0, Product#1, Quantity Ordered#2, Price Each#3, OrderDate#1225, Purchase Adress#5 AS StoreAdress#1237, City#1136, State#1144, OrderID#1192, Quantity#1202, Price#1213]\n            +- Project [Order Id#0, Product#1, Quantity Ordered#2, Price Each#3, to_timestamp('Orderdate, Some(MM/dd/yy HH:mm)) AS OrderDate#1225, Purchase Adress#5, City#1136, State#1144, OrderID#1192, Quantity#1202, Price#1213]\n               +- Project [Order Id#0, Product#1, Quantity Ordered#2, Price Each#3, Orderdate#4, Purchase Adress#5, City#1136, State#1144, OrderID#1192, Quantity#1202, cast(Price Each#3 as float) AS Price#1213]\n                  +- Project [Order Id#0, Product#1, Quantity Ordered#2, Price Each#3, Orderdate#4, Purchase Adress#5, City#1136, State#1144, OrderID#1192, cast(Quantity Ordered#2 as int) AS Quantity#1202]\n                     +- Project [Order Id#0, Product#1, Quantity Ordered#2, Price Each#3, Orderdate#4, Purchase Adress#5, City#1136, State#1144, cast(Order Id#0 as int) AS OrderID#1192]\n                        +- Project [Order Id#0, Product#1, Quantity Ordered#2, Price Each#3, Orderdate#4, Purchase Adress#5, City#1136, split(split(Purchase Adress#5, ,, -1)[2],  , -1)[1] AS State#1144]\n                           +- Project [Order Id#0, Product#1, Quantity Ordered#2, Price Each#3, Orderdate#4, Purchase Adress#5, split(Purchase Adress#5, ,, -1)[1] AS City#1136]\n                              +- Filter NOT (Order Id#0 = Order ID)\n                                 +- Deduplicate [Order Id#0, Price Each#3, Quantity Ordered#2, Purchase Adress#5, Product#1, Orderdate#4]\n                                    +- Filter atleastnnonnulls(6, Order Id#0, Product#1, Quantity Ordered#2, Price Each#3, Orderdate#4, Purchase Adress#5)\n                                       +- Relation [Order Id#0,Product#1,Quantity Ordered#2,Price Each#3,Orderdate#4,Purchase Adress#5] csv\n",
     "output_type": "error",
     "traceback": [
      "\u001b[1;31m---------------------------------------------------------------------------\u001b[0m",
      "\u001b[1;31mAnalysisException\u001b[0m                         Traceback (most recent call last)",
      "\u001b[1;32m~\\AppData\\Local\\Temp/ipykernel_1364/3929135505.py\u001b[0m in \u001b[0;36m<module>\u001b[1;34m\u001b[0m\n\u001b[1;32m----> 1\u001b[1;33m \u001b[0mc\u001b[0m\u001b[1;33m=\u001b[0m\u001b[0msales_temp\u001b[0m\u001b[1;33m.\u001b[0m\u001b[0mwithColumn\u001b[0m\u001b[1;33m(\u001b[0m\u001b[1;34m'OrderID'\u001b[0m\u001b[1;33m,\u001b[0m\u001b[0mcol\u001b[0m\u001b[1;33m(\u001b[0m\u001b[1;34m'Order Id'\u001b[0m\u001b[1;33m)\u001b[0m\u001b[1;33m)\u001b[0m\u001b[1;33m\u001b[0m\u001b[1;33m\u001b[0m\u001b[0m\n\u001b[0m",
      "\u001b[1;32mC:\\spark\\spark-3.2.1-bin-hadoop3.2\\python\\pyspark\\sql\\dataframe.py\u001b[0m in \u001b[0;36mwithColumn\u001b[1;34m(self, colName, col)\u001b[0m\n\u001b[0;32m   2476\u001b[0m         \u001b[1;32mif\u001b[0m \u001b[1;32mnot\u001b[0m \u001b[0misinstance\u001b[0m\u001b[1;33m(\u001b[0m\u001b[0mcol\u001b[0m\u001b[1;33m,\u001b[0m \u001b[0mColumn\u001b[0m\u001b[1;33m)\u001b[0m\u001b[1;33m:\u001b[0m\u001b[1;33m\u001b[0m\u001b[1;33m\u001b[0m\u001b[0m\n\u001b[0;32m   2477\u001b[0m             \u001b[1;32mraise\u001b[0m \u001b[0mTypeError\u001b[0m\u001b[1;33m(\u001b[0m\u001b[1;34m\"col should be Column\"\u001b[0m\u001b[1;33m)\u001b[0m\u001b[1;33m\u001b[0m\u001b[1;33m\u001b[0m\u001b[0m\n\u001b[1;32m-> 2478\u001b[1;33m         \u001b[1;32mreturn\u001b[0m \u001b[0mDataFrame\u001b[0m\u001b[1;33m(\u001b[0m\u001b[0mself\u001b[0m\u001b[1;33m.\u001b[0m\u001b[0m_jdf\u001b[0m\u001b[1;33m.\u001b[0m\u001b[0mwithColumn\u001b[0m\u001b[1;33m(\u001b[0m\u001b[0mcolName\u001b[0m\u001b[1;33m,\u001b[0m \u001b[0mcol\u001b[0m\u001b[1;33m.\u001b[0m\u001b[0m_jc\u001b[0m\u001b[1;33m)\u001b[0m\u001b[1;33m,\u001b[0m \u001b[0mself\u001b[0m\u001b[1;33m.\u001b[0m\u001b[0msql_ctx\u001b[0m\u001b[1;33m)\u001b[0m\u001b[1;33m\u001b[0m\u001b[1;33m\u001b[0m\u001b[0m\n\u001b[0m\u001b[0;32m   2479\u001b[0m \u001b[1;33m\u001b[0m\u001b[0m\n\u001b[0;32m   2480\u001b[0m     \u001b[1;32mdef\u001b[0m \u001b[0mwithColumnRenamed\u001b[0m\u001b[1;33m(\u001b[0m\u001b[0mself\u001b[0m\u001b[1;33m,\u001b[0m \u001b[0mexisting\u001b[0m\u001b[1;33m,\u001b[0m \u001b[0mnew\u001b[0m\u001b[1;33m)\u001b[0m\u001b[1;33m:\u001b[0m\u001b[1;33m\u001b[0m\u001b[1;33m\u001b[0m\u001b[0m\n",
      "\u001b[1;32mC:\\spark\\spark-3.2.1-bin-hadoop3.2\\python\\lib\\py4j-0.10.9.3-src.zip\\py4j\\java_gateway.py\u001b[0m in \u001b[0;36m__call__\u001b[1;34m(self, *args)\u001b[0m\n\u001b[0;32m   1319\u001b[0m \u001b[1;33m\u001b[0m\u001b[0m\n\u001b[0;32m   1320\u001b[0m         \u001b[0manswer\u001b[0m \u001b[1;33m=\u001b[0m \u001b[0mself\u001b[0m\u001b[1;33m.\u001b[0m\u001b[0mgateway_client\u001b[0m\u001b[1;33m.\u001b[0m\u001b[0msend_command\u001b[0m\u001b[1;33m(\u001b[0m\u001b[0mcommand\u001b[0m\u001b[1;33m)\u001b[0m\u001b[1;33m\u001b[0m\u001b[1;33m\u001b[0m\u001b[0m\n\u001b[1;32m-> 1321\u001b[1;33m         return_value = get_return_value(\n\u001b[0m\u001b[0;32m   1322\u001b[0m             answer, self.gateway_client, self.target_id, self.name)\n\u001b[0;32m   1323\u001b[0m \u001b[1;33m\u001b[0m\u001b[0m\n",
      "\u001b[1;32mC:\\spark\\spark-3.2.1-bin-hadoop3.2\\python\\pyspark\\sql\\utils.py\u001b[0m in \u001b[0;36mdeco\u001b[1;34m(*a, **kw)\u001b[0m\n\u001b[0;32m    115\u001b[0m                 \u001b[1;31m# Hide where the exception came from that shows a non-Pythonic\u001b[0m\u001b[1;33m\u001b[0m\u001b[1;33m\u001b[0m\u001b[0m\n\u001b[0;32m    116\u001b[0m                 \u001b[1;31m# JVM exception message.\u001b[0m\u001b[1;33m\u001b[0m\u001b[1;33m\u001b[0m\u001b[0m\n\u001b[1;32m--> 117\u001b[1;33m                 \u001b[1;32mraise\u001b[0m \u001b[0mconverted\u001b[0m \u001b[1;32mfrom\u001b[0m \u001b[1;32mNone\u001b[0m\u001b[1;33m\u001b[0m\u001b[1;33m\u001b[0m\u001b[0m\n\u001b[0m\u001b[0;32m    118\u001b[0m             \u001b[1;32melse\u001b[0m\u001b[1;33m:\u001b[0m\u001b[1;33m\u001b[0m\u001b[1;33m\u001b[0m\u001b[0m\n\u001b[0;32m    119\u001b[0m                 \u001b[1;32mraise\u001b[0m\u001b[1;33m\u001b[0m\u001b[1;33m\u001b[0m\u001b[0m\n",
      "\u001b[1;31mAnalysisException\u001b[0m: cannot resolve '`Order Id`' given input columns: [City, OrderDate, OrderID, Price, Product, Quantity, State, StoreAdress];\n'Project [Product#1, OrderDate#1225, StoreAdress#1237, City#1136, State#1144, 'Order Id AS OrderID#1284, Quantity#1202, Price#1213]\n+- Project [Product#1, OrderDate#1225, StoreAdress#1237, City#1136, State#1144, OrderID#1192, Quantity#1202, Price#1213]\n   +- Project [Product#1, Price Each#3, OrderDate#1225, StoreAdress#1237, City#1136, State#1144, OrderID#1192, Quantity#1202, Price#1213]\n      +- Project [Product#1, Quantity Ordered#2, Price Each#3, OrderDate#1225, StoreAdress#1237, City#1136, State#1144, OrderID#1192, Quantity#1202, Price#1213]\n         +- Project [Order Id#0, Product#1, Quantity Ordered#2, Price Each#3, OrderDate#1225, Purchase Adress#5 AS StoreAdress#1237, City#1136, State#1144, OrderID#1192, Quantity#1202, Price#1213]\n            +- Project [Order Id#0, Product#1, Quantity Ordered#2, Price Each#3, to_timestamp('Orderdate, Some(MM/dd/yy HH:mm)) AS OrderDate#1225, Purchase Adress#5, City#1136, State#1144, OrderID#1192, Quantity#1202, Price#1213]\n               +- Project [Order Id#0, Product#1, Quantity Ordered#2, Price Each#3, Orderdate#4, Purchase Adress#5, City#1136, State#1144, OrderID#1192, Quantity#1202, cast(Price Each#3 as float) AS Price#1213]\n                  +- Project [Order Id#0, Product#1, Quantity Ordered#2, Price Each#3, Orderdate#4, Purchase Adress#5, City#1136, State#1144, OrderID#1192, cast(Quantity Ordered#2 as int) AS Quantity#1202]\n                     +- Project [Order Id#0, Product#1, Quantity Ordered#2, Price Each#3, Orderdate#4, Purchase Adress#5, City#1136, State#1144, cast(Order Id#0 as int) AS OrderID#1192]\n                        +- Project [Order Id#0, Product#1, Quantity Ordered#2, Price Each#3, Orderdate#4, Purchase Adress#5, City#1136, split(split(Purchase Adress#5, ,, -1)[2],  , -1)[1] AS State#1144]\n                           +- Project [Order Id#0, Product#1, Quantity Ordered#2, Price Each#3, Orderdate#4, Purchase Adress#5, split(Purchase Adress#5, ,, -1)[1] AS City#1136]\n                              +- Filter NOT (Order Id#0 = Order ID)\n                                 +- Deduplicate [Order Id#0, Price Each#3, Quantity Ordered#2, Purchase Adress#5, Product#1, Orderdate#4]\n                                    +- Filter atleastnnonnulls(6, Order Id#0, Product#1, Quantity Ordered#2, Price Each#3, Orderdate#4, Purchase Adress#5)\n                                       +- Relation [Order Id#0,Product#1,Quantity Ordered#2,Price Each#3,Orderdate#4,Purchase Adress#5] csv\n"
     ]
    }
   ],
   "source": [
    "c=sales_temp.withColumn('OrderID',col('Order Id'))"
   ]
  },
  {
   "cell_type": "code",
   "execution_count": null,
   "id": "3fd7552c",
   "metadata": {},
   "outputs": [],
   "source": [
    "c.show()"
   ]
  },
  {
   "cell_type": "code",
   "execution_count": 33,
   "id": "c37f781a",
   "metadata": {},
   "outputs": [
    {
     "name": "stdout",
     "output_type": "stream",
     "text": [
      "+------------------------+-------------------+--------------------------------------+--------------+-----+-------+--------+------+\n",
      "|Product                 |OrderDate          |StoreAdress                           |City          |State|OrderID|Quantity|Price |\n",
      "+------------------------+-------------------+--------------------------------------+--------------+-----+-------+--------+------+\n",
      "|AAA Batteries (4-pack)  |2019-12-26 19:09:00|729 Pine St, Atlanta, GA 30301        | Atlanta      |GA   |295710 |1       |2.99  |\n",
      "|Wired Headphones        |2019-12-04 05:24:00|983 Highland St, Los Angeles, CA 90001| Los Angeles  |CA   |295749 |2       |11.99 |\n",
      "|ThinkPad Laptop         |2019-12-29 07:26:00|810 Lincoln St, Boston, MA 02215      | Boston       |MA   |296168 |1       |999.99|\n",
      "|Wired Headphones        |2019-12-13 22:02:00|676 13th St, Atlanta, GA 30301        | Atlanta      |GA   |296698 |1       |11.99 |\n",
      "|Macbook Pro Laptop      |2019-12-15 15:16:00|869 9th St, San Francisco, CA 94016   | San Francisco|CA   |297024 |1       |1700.0|\n",
      "|ThinkPad Laptop         |2019-12-04 23:25:00|90 14th St, Los Angeles, CA 90001     | Los Angeles  |CA   |297128 |1       |999.99|\n",
      "|Lightning Charging Cable|2019-12-24 13:18:00|357 13th St, Atlanta, GA 30301        | Atlanta      |GA   |297253 |1       |14.95 |\n",
      "|AAA Batteries (4-pack)  |2019-12-20 07:49:00|949 Adams St, Atlanta, GA 30301       | Atlanta      |GA   |297880 |2       |2.99  |\n",
      "|20in Monitor            |2019-12-22 09:19:00|702 Wilson St, New York City, NY 10001| New York City|NY   |298455 |1       |109.99|\n",
      "|Apple Airpods Headphones|2019-12-28 20:22:00|151 14th St, Boston, MA 02215         | Boston       |MA   |298823 |1       |150.0 |\n",
      "+------------------------+-------------------+--------------------------------------+--------------+-----+-------+--------+------+\n",
      "only showing top 10 rows\n",
      "\n"
     ]
    }
   ],
   "source": [
    "sales_temp.show(10,False)"
   ]
  },
  {
   "cell_type": "code",
   "execution_count": 34,
   "id": "758f38b8",
   "metadata": {
    "scrolled": true
   },
   "outputs": [
    {
     "name": "stdout",
     "output_type": "stream",
     "text": [
      "root\n",
      " |-- Product: string (nullable = true)\n",
      " |-- OrderDate: timestamp (nullable = true)\n",
      " |-- StoreAdress: string (nullable = true)\n",
      " |-- City: string (nullable = true)\n",
      " |-- State: string (nullable = true)\n",
      " |-- OrderID: integer (nullable = true)\n",
      " |-- Quantity: integer (nullable = true)\n",
      " |-- Price: float (nullable = true)\n",
      "\n"
     ]
    }
   ],
   "source": [
    "sales_temp.printSchema()"
   ]
  },
  {
   "cell_type": "code",
   "execution_count": 35,
   "id": "764bce80",
   "metadata": {},
   "outputs": [],
   "source": [
    "#Add new columns and month\n",
    "sales_temp =(sales_temp.withColumn('ReportYear',year(col('OrderDate')))\n",
    "            .withColumn('Month',month(col('OrderDate'))))"
   ]
  },
  {
   "cell_type": "code",
   "execution_count": 36,
   "id": "aad41ee1",
   "metadata": {
    "scrolled": true
   },
   "outputs": [
    {
     "name": "stdout",
     "output_type": "stream",
     "text": [
      "+--------------------+-------------------+--------------------+--------------+-----+-------+--------+------+----------+-----+\n",
      "|             Product|          OrderDate|         StoreAdress|          City|State|OrderID|Quantity| Price|ReportYear|Month|\n",
      "+--------------------+-------------------+--------------------+--------------+-----+-------+--------+------+----------+-----+\n",
      "|AAA Batteries (4-...|2019-12-26 19:09:00|729 Pine St, Atla...|       Atlanta|   GA| 295710|       1|  2.99|      2019|   12|\n",
      "|    Wired Headphones|2019-12-04 05:24:00|983 Highland St, ...|   Los Angeles|   CA| 295749|       2| 11.99|      2019|   12|\n",
      "|     ThinkPad Laptop|2019-12-29 07:26:00|810 Lincoln St, B...|        Boston|   MA| 296168|       1|999.99|      2019|   12|\n",
      "|    Wired Headphones|2019-12-13 22:02:00|676 13th St, Atla...|       Atlanta|   GA| 296698|       1| 11.99|      2019|   12|\n",
      "|  Macbook Pro Laptop|2019-12-15 15:16:00|869 9th St, San F...| San Francisco|   CA| 297024|       1|1700.0|      2019|   12|\n",
      "|     ThinkPad Laptop|2019-12-04 23:25:00|90 14th St, Los A...|   Los Angeles|   CA| 297128|       1|999.99|      2019|   12|\n",
      "|Lightning Chargin...|2019-12-24 13:18:00|357 13th St, Atla...|       Atlanta|   GA| 297253|       1| 14.95|      2019|   12|\n",
      "|AAA Batteries (4-...|2019-12-20 07:49:00|949 Adams St, Atl...|       Atlanta|   GA| 297880|       2|  2.99|      2019|   12|\n",
      "|        20in Monitor|2019-12-22 09:19:00|702 Wilson St, Ne...| New York City|   NY| 298455|       1|109.99|      2019|   12|\n",
      "|Apple Airpods Hea...|2019-12-28 20:22:00|151 14th St, Bost...|        Boston|   MA| 298823|       1| 150.0|      2019|   12|\n",
      "+--------------------+-------------------+--------------------+--------------+-----+-------+--------+------+----------+-----+\n",
      "only showing top 10 rows\n",
      "\n"
     ]
    }
   ],
   "source": [
    "sales_temp.show(10)"
   ]
  },
  {
   "cell_type": "code",
   "execution_count": 37,
   "id": "67c00b9a",
   "metadata": {},
   "outputs": [],
   "source": [
    "sales_final=sales_temp.select('OrderID','Product','Quantity','Price','OrderDate','StoreAdress','City','State','ReportYear','Month')"
   ]
  },
  {
   "cell_type": "code",
   "execution_count": 38,
   "id": "38548cd6",
   "metadata": {},
   "outputs": [
    {
     "name": "stdout",
     "output_type": "stream",
     "text": [
      "+-------+--------------------+--------+------+-------------------+--------------------+--------------+-----+----------+-----+\n",
      "|OrderID|             Product|Quantity| Price|          OrderDate|         StoreAdress|          City|State|ReportYear|Month|\n",
      "+-------+--------------------+--------+------+-------------------+--------------------+--------------+-----+----------+-----+\n",
      "| 295710|AAA Batteries (4-...|       1|  2.99|2019-12-26 19:09:00|729 Pine St, Atla...|       Atlanta|   GA|      2019|   12|\n",
      "| 295749|    Wired Headphones|       2| 11.99|2019-12-04 05:24:00|983 Highland St, ...|   Los Angeles|   CA|      2019|   12|\n",
      "| 296168|     ThinkPad Laptop|       1|999.99|2019-12-29 07:26:00|810 Lincoln St, B...|        Boston|   MA|      2019|   12|\n",
      "| 296698|    Wired Headphones|       1| 11.99|2019-12-13 22:02:00|676 13th St, Atla...|       Atlanta|   GA|      2019|   12|\n",
      "| 297024|  Macbook Pro Laptop|       1|1700.0|2019-12-15 15:16:00|869 9th St, San F...| San Francisco|   CA|      2019|   12|\n",
      "| 297128|     ThinkPad Laptop|       1|999.99|2019-12-04 23:25:00|90 14th St, Los A...|   Los Angeles|   CA|      2019|   12|\n",
      "| 297253|Lightning Chargin...|       1| 14.95|2019-12-24 13:18:00|357 13th St, Atla...|       Atlanta|   GA|      2019|   12|\n",
      "| 297880|AAA Batteries (4-...|       2|  2.99|2019-12-20 07:49:00|949 Adams St, Atl...|       Atlanta|   GA|      2019|   12|\n",
      "| 298455|        20in Monitor|       1|109.99|2019-12-22 09:19:00|702 Wilson St, Ne...| New York City|   NY|      2019|   12|\n",
      "| 298823|Apple Airpods Hea...|       1| 150.0|2019-12-28 20:22:00|151 14th St, Bost...|        Boston|   MA|      2019|   12|\n",
      "| 299060|    Wired Headphones|       1| 11.99|2019-12-22 13:08:00|971 Forest St, Sa...| San Francisco|   CA|      2019|   12|\n",
      "| 299077|Lightning Chargin...|       1| 14.95|2019-12-18 20:09:00|653 Jefferson St,...|        Dallas|   TX|      2019|   12|\n",
      "| 299237|Bose SoundSport H...|       1| 99.99|2019-12-09 10:10:00|297 Main St, Port...|      Portland|   OR|      2019|   12|\n",
      "| 299316|    Wired Headphones|       1| 11.99|2019-12-22 13:57:00|235 Dogwood St, A...|       Atlanta|   GA|      2019|   12|\n",
      "| 299537|AA Batteries (4-p...|       1|  3.84|2019-12-16 12:48:00|71 14th St, Portl...|      Portland|   ME|      2019|   12|\n",
      "| 299569|     ThinkPad Laptop|       1|999.99|2019-12-14 06:47:00|606 Maple St, Bos...|        Boston|   MA|      2019|   12|\n",
      "| 299608|AAA Batteries (4-...|       1|  2.99|2019-12-28 15:54:00|511 Meadow St, Ne...| New York City|   NY|      2019|   12|\n",
      "| 299631|        Google Phone|       1| 600.0|2019-12-05 11:22:00|983 14th St, Dall...|        Dallas|   TX|      2019|   12|\n",
      "| 299805|Lightning Chargin...|       1| 14.95|2019-12-09 08:47:00|37 Spruce St, New...| New York City|   NY|      2019|   12|\n",
      "| 299832|Bose SoundSport H...|       1| 99.99|2019-12-16 17:29:00|474 8th St, San F...| San Francisco|   CA|      2019|   12|\n",
      "+-------+--------------------+--------+------+-------------------+--------------------+--------------+-----+----------+-----+\n",
      "only showing top 20 rows\n",
      "\n"
     ]
    }
   ],
   "source": [
    "sales_final.show()"
   ]
  },
  {
   "cell_type": "code",
   "execution_count": 39,
   "id": "79e885ea",
   "metadata": {},
   "outputs": [],
   "source": [
    "output=r'C:/Users/syed3/op'\n",
    "sales_final.write.format(\"parquet\").mode(\"overwrite\").partitionBy('ReportYear','Month').save(r'C:/Users/syed3/op')"
   ]
  },
  {
   "cell_type": "code",
   "execution_count": 40,
   "id": "4c5704f3",
   "metadata": {},
   "outputs": [],
   "source": [
    "spark =(SparkSession.builder.appName('aggregate').getOrCreate())"
   ]
  },
  {
   "cell_type": "code",
   "execution_count": 41,
   "id": "6d68a0f8",
   "metadata": {},
   "outputs": [],
   "source": [
    "#aggregation\n",
    "flight=r'csv_spark\\flight.csv'\n",
    "flight_df =(spark.read.format('csv').option('header','true')\n",
    "           .option('inferSchema','true')\n",
    "           .load(flight))"
   ]
  },
  {
   "cell_type": "code",
   "execution_count": 42,
   "id": "6ee284a9",
   "metadata": {},
   "outputs": [
    {
     "name": "stdout",
     "output_type": "stream",
     "text": [
      "+-----------+--------------------+------------+------------+---------+--------------------+----------------+----------+-----+\n",
      "|origin_code|      origin_airport| origin_city|origin_state|dest_code|        dest_airport|       dest_city|dest_state|count|\n",
      "+-----------+--------------------+------------+------------+---------+--------------------+----------------+----------+-----+\n",
      "|        BQN|Rafael Hernández ...|   Aguadilla|          PR|      MCO|Orlando Internati...|         Orlando|        FL|  441|\n",
      "|        PHL|Philadelphia Inte...|Philadelphia|          PA|      MCO|Orlando Internati...|         Orlando|        FL| 4869|\n",
      "|        MCI|Kansas City Inter...| Kansas City|          MO|      IAH|George Bush Inter...|         Houston|        TX| 1698|\n",
      "|        SPI|Abraham Lincoln C...| Springfield|          IL|      ORD|Chicago O'Hare In...|         Chicago|        IL|  998|\n",
      "|        SNA|John Wayne Airpor...|   Santa Ana|          CA|      PHX|Phoenix Sky Harbo...|         Phoenix|        AZ| 3846|\n",
      "|        LBB|Lubbock Preston S...|     Lubbock|          TX|      DEN|Denver Internatio...|          Denver|        CO|  618|\n",
      "|        ORD|Chicago O'Hare In...|     Chicago|          IL|      PDX|Portland Internat...|        Portland|        OR| 2149|\n",
      "|        EWR|Newark Liberty In...|      Newark|          NJ|      STT|Cyril E. King Air...|Charlotte Amalie|        VI|  239|\n",
      "|        ATL|Hartsfield-Jackso...|     Atlanta|          GA|      GSP|Greenville-Sparta...|           Greer|        SC| 2470|\n",
      "|        MCI|Kansas City Inter...| Kansas City|          MO|      MKE|General Mitchell ...|       Milwaukee|        WI|  612|\n",
      "+-----------+--------------------+------------+------------+---------+--------------------+----------------+----------+-----+\n",
      "only showing top 10 rows\n",
      "\n"
     ]
    }
   ],
   "source": [
    "flight_df.show(10)"
   ]
  },
  {
   "cell_type": "code",
   "execution_count": 43,
   "id": "b3267d94",
   "metadata": {},
   "outputs": [
    {
     "name": "stdout",
     "output_type": "stream",
     "text": [
      "root\n",
      " |-- origin_code: string (nullable = true)\n",
      " |-- origin_airport: string (nullable = true)\n",
      " |-- origin_city: string (nullable = true)\n",
      " |-- origin_state: string (nullable = true)\n",
      " |-- dest_code: string (nullable = true)\n",
      " |-- dest_airport: string (nullable = true)\n",
      " |-- dest_city: string (nullable = true)\n",
      " |-- dest_state: string (nullable = true)\n",
      " |-- count: integer (nullable = true)\n",
      "\n"
     ]
    }
   ],
   "source": [
    "flight_df.printSchema()"
   ]
  },
  {
   "cell_type": "code",
   "execution_count": 44,
   "id": "91e0ec08",
   "metadata": {},
   "outputs": [],
   "source": [
    "flight_df = flight_df.withColumnRenamed('count','flight_count')"
   ]
  },
  {
   "cell_type": "code",
   "execution_count": 45,
   "id": "0afd728c",
   "metadata": {},
   "outputs": [
    {
     "name": "stdout",
     "output_type": "stream",
     "text": [
      "+-----------+--------------------+------------+------------+---------+--------------------+----------------+----------+------------+\n",
      "|origin_code|      origin_airport| origin_city|origin_state|dest_code|        dest_airport|       dest_city|dest_state|flight_count|\n",
      "+-----------+--------------------+------------+------------+---------+--------------------+----------------+----------+------------+\n",
      "|        BQN|Rafael Hernández ...|   Aguadilla|          PR|      MCO|Orlando Internati...|         Orlando|        FL|         441|\n",
      "|        PHL|Philadelphia Inte...|Philadelphia|          PA|      MCO|Orlando Internati...|         Orlando|        FL|        4869|\n",
      "|        MCI|Kansas City Inter...| Kansas City|          MO|      IAH|George Bush Inter...|         Houston|        TX|        1698|\n",
      "|        SPI|Abraham Lincoln C...| Springfield|          IL|      ORD|Chicago O'Hare In...|         Chicago|        IL|         998|\n",
      "|        SNA|John Wayne Airpor...|   Santa Ana|          CA|      PHX|Phoenix Sky Harbo...|         Phoenix|        AZ|        3846|\n",
      "|        LBB|Lubbock Preston S...|     Lubbock|          TX|      DEN|Denver Internatio...|          Denver|        CO|         618|\n",
      "|        ORD|Chicago O'Hare In...|     Chicago|          IL|      PDX|Portland Internat...|        Portland|        OR|        2149|\n",
      "|        EWR|Newark Liberty In...|      Newark|          NJ|      STT|Cyril E. King Air...|Charlotte Amalie|        VI|         239|\n",
      "|        ATL|Hartsfield-Jackso...|     Atlanta|          GA|      GSP|Greenville-Sparta...|           Greer|        SC|        2470|\n",
      "|        MCI|Kansas City Inter...| Kansas City|          MO|      MKE|General Mitchell ...|       Milwaukee|        WI|         612|\n",
      "+-----------+--------------------+------------+------------+---------+--------------------+----------------+----------+------------+\n",
      "only showing top 10 rows\n",
      "\n"
     ]
    }
   ],
   "source": [
    "flight_df.show(10)"
   ]
  },
  {
   "cell_type": "code",
   "execution_count": 46,
   "id": "17de6e9e",
   "metadata": {},
   "outputs": [
    {
     "name": "stdout",
     "output_type": "stream",
     "text": [
      "root\n",
      " |-- origin_code: string (nullable = true)\n",
      " |-- origin_airport: string (nullable = true)\n",
      " |-- origin_city: string (nullable = true)\n",
      " |-- origin_state: string (nullable = true)\n",
      " |-- dest_code: string (nullable = true)\n",
      " |-- dest_airport: string (nullable = true)\n",
      " |-- dest_city: string (nullable = true)\n",
      " |-- dest_state: string (nullable = true)\n",
      " |-- flight_count: integer (nullable = true)\n",
      "\n"
     ]
    }
   ],
   "source": [
    "flight_df.printSchema()"
   ]
  },
  {
   "cell_type": "code",
   "execution_count": 47,
   "id": "f0cda977",
   "metadata": {},
   "outputs": [],
   "source": [
    "#count(col) and countDistinct\n",
    "from pyspark.sql.functions import count,countDistinct,max,sum,col,min"
   ]
  },
  {
   "cell_type": "code",
   "execution_count": 48,
   "id": "16d246c3",
   "metadata": {},
   "outputs": [
    {
     "name": "stdout",
     "output_type": "stream",
     "text": [
      "+---------------------+-------------------+\n",
      "|count(origin_airport)|count(dest_airport)|\n",
      "+---------------------+-------------------+\n",
      "|                 4693|               4693|\n",
      "+---------------------+-------------------+\n",
      "\n"
     ]
    }
   ],
   "source": [
    "flight_df.select(count('origin_airport'),count('dest_airport')).show()# count abandon the null value doesnt count null value "
   ]
  },
  {
   "cell_type": "code",
   "execution_count": 49,
   "id": "32a62894",
   "metadata": {},
   "outputs": [
    {
     "name": "stdout",
     "output_type": "stream",
     "text": [
      "+------------------------------+----------------------------+--------+\n",
      "|count(DISTINCT origin_airport)|count(DISTINCT dest_airport)|count(1)|\n",
      "+------------------------------+----------------------------+--------+\n",
      "|                           322|                         322|    4693|\n",
      "+------------------------------+----------------------------+--------+\n",
      "\n"
     ]
    }
   ],
   "source": [
    "flight_df.select(countDistinct('origin_airport'),countDistinct('dest_airport'),count('*')).show()"
   ]
  },
  {
   "cell_type": "code",
   "execution_count": 50,
   "id": "a9eef910",
   "metadata": {},
   "outputs": [
    {
     "name": "stdout",
     "output_type": "stream",
     "text": [
      "+------------------------------------------------+-----+\n",
      "|origin_airport                                  |count|\n",
      "+------------------------------------------------+-----+\n",
      "|Hartsfield-Jackson Atlanta International Airport|169  |\n",
      "|Chicago O'Hare International Airport            |162  |\n",
      "|Dallas/Fort Worth International Airport         |148  |\n",
      "|Denver International Airport                    |139  |\n",
      "|Minneapolis-Saint Paul International Airport    |120  |\n",
      "+------------------------------------------------+-----+\n",
      "only showing top 5 rows\n",
      "\n"
     ]
    }
   ],
   "source": [
    "# aggregration with grouping\n",
    "flight_df.groupBy('origin_airport').count().orderBy('count',ascending=False).show(5,False)"
   ]
  },
  {
   "cell_type": "code",
   "execution_count": 51,
   "id": "8f4652d7",
   "metadata": {},
   "outputs": [
    {
     "name": "stdout",
     "output_type": "stream",
     "text": [
      "+----------------------------------------------------------------------+----------------+\n",
      "|origin_airport                                                        |max_flight_count|\n",
      "+----------------------------------------------------------------------+----------------+\n",
      "|San Francisco International Airport                                   |13744           |\n",
      "|Los Angeles International Airport                                     |13457           |\n",
      "|John F. Kennedy International Airport (New York International Airport)|12016           |\n",
      "|McCarran International Airport                                        |9715            |\n",
      "|LaGuardia Airport (Marine Air Terminal)                               |9639            |\n",
      "+----------------------------------------------------------------------+----------------+\n",
      "only showing top 5 rows\n",
      "\n"
     ]
    }
   ],
   "source": [
    "(flight_df.groupBy('origin_airport').agg(max('flight_count').alias('max_flight_count'))\n",
    "        .orderBy('max_flight_count',ascending =False).show(5,False))"
   ]
  },
  {
   "cell_type": "code",
   "execution_count": 52,
   "id": "e18a75ab",
   "metadata": {},
   "outputs": [
    {
     "name": "stdout",
     "output_type": "stream",
     "text": [
      "+------------+-------------+-----+\n",
      "|origin_state|  origin_city|count|\n",
      "+------------+-------------+-----+\n",
      "|          CA|  Los Angeles|   80|\n",
      "|          CA|San Francisco|   80|\n",
      "|          CA|    San Diego|   47|\n",
      "|          CA|      Oakland|   35|\n",
      "|          CA|   Sacramento|   27|\n",
      "+------------+-------------+-----+\n",
      "only showing top 5 rows\n",
      "\n"
     ]
    }
   ],
   "source": [
    "(flight_df.groupBy('origin_state','origin_city')\n",
    ".count()\n",
    ".where(col('origin_state')=='CA')\n",
    ".orderBy('count',ascending =False)).show(5)"
   ]
  },
  {
   "cell_type": "code",
   "execution_count": 53,
   "id": "3f811703",
   "metadata": {},
   "outputs": [
    {
     "name": "stdout",
     "output_type": "stream",
     "text": [
      "+-------------------------------------------------+-----------------+-----------------+-----------------+-------------------+\n",
      "|origin_airport                                   |max(flight_count)|min(flight_count)|sum(flight_count)|count(flight_count)|\n",
      "+-------------------------------------------------+-----------------+-----------------+-----------------+-------------------+\n",
      "|Melbourne International Airport                  |1332             |1332             |1332             |1                  |\n",
      "|San Diego International Airport (Lindbergh Field)|6942             |4                |70207            |46                 |\n",
      "|Eppley Airfield                                  |2083             |1                |16753            |21                 |\n",
      "|Kahului Airport                                  |8313             |67               |20627            |18                 |\n",
      "|Austin-Bergstrom International Airport           |4674             |8                |42067            |41                 |\n",
      "+-------------------------------------------------+-----------------+-----------------+-----------------+-------------------+\n",
      "only showing top 5 rows\n",
      "\n"
     ]
    }
   ],
   "source": [
    "flight_df.groupBy('origin_airport').agg(max('flight_count'),min('flight_count'),\n",
    "                                        sum('flight_count'),\n",
    "                                        count('flight_count')).show(5,False)"
   ]
  },
  {
   "cell_type": "code",
   "execution_count": 54,
   "id": "f9a4685c",
   "metadata": {},
   "outputs": [],
   "source": [
    "spark.stop()"
   ]
  },
  {
   "cell_type": "code",
   "execution_count": 55,
   "id": "c3a2359d",
   "metadata": {},
   "outputs": [],
   "source": [
    "spark =SparkSession.builder.appName('SalesAnalytics').getOrCreate()"
   ]
  },
  {
   "cell_type": "code",
   "execution_count": 56,
   "id": "68398500",
   "metadata": {},
   "outputs": [],
   "source": [
    "#read 2019 from parquet file directory\n",
    "source =r'C:/Users/syed3/op/'\n",
    "partition = 'ReportYear=2019'\n",
    "full_path = f'{source}{partition}'"
   ]
  },
  {
   "cell_type": "code",
   "execution_count": 57,
   "id": "28395d22",
   "metadata": {},
   "outputs": [
    {
     "name": "stdout",
     "output_type": "stream",
     "text": [
      "C:/Users/syed3/op/ReportYear=2019\n"
     ]
    }
   ],
   "source": [
    "print(full_path)"
   ]
  },
  {
   "cell_type": "code",
   "execution_count": 58,
   "id": "c6720ae9",
   "metadata": {},
   "outputs": [
    {
     "name": "stdout",
     "output_type": "stream",
     "text": [
      "+-------+--------------------------+--------+------+-------------------+----------------------------------------+--------------+-----+-----+\n",
      "|OrderID|Product                   |Quantity|Price |OrderDate          |StoreAdress                             |City          |State|Month|\n",
      "+-------+--------------------------+--------+------+-------------------+----------------------------------------+--------------+-----+-----+\n",
      "|295802 |34in Ultrawide Monitor    |1       |379.99|2019-12-11 19:45:00|838 Ridge St, San Francisco, CA 94016   | San Francisco|CA   |12   |\n",
      "|296104 |Bose SoundSport Headphones|1       |99.99 |2019-12-10 18:32:00|111 Elm St, Los Angeles, CA 90001       | Los Angeles  |CA   |12   |\n",
      "|296589 |27in 4K Gaming Monitor    |1       |389.99|2019-12-15 19:44:00|995 Chestnut St, Los Angeles, CA 90001  | Los Angeles  |CA   |12   |\n",
      "|296705 |AAA Batteries (4-pack)    |1       |2.99  |2019-12-11 11:07:00|664 West St, Los Angeles, CA 90001      | Los Angeles  |CA   |12   |\n",
      "|296864 |USB-C Charging Cable      |1       |11.95 |2019-12-06 16:13:00|238 Adams St, San Francisco, CA 94016   | San Francisco|CA   |12   |\n",
      "|297048 |AA Batteries (4-pack)     |1       |3.84  |2019-12-23 18:52:00|731 Walnut St, Los Angeles, CA 90001    | Los Angeles  |CA   |12   |\n",
      "|297156 |Flatscreen TV             |1       |300.0 |2019-12-22 14:46:00|940 1st St, Boston, MA 02215            | Boston       |MA   |12   |\n",
      "|297256 |Lightning Charging Cable  |1       |14.95 |2019-12-11 20:25:00|235 Meadow St, Boston, MA 02215         | Boston       |MA   |12   |\n",
      "|297483 |iPhone                    |1       |700.0 |2019-12-04 14:55:00|705 Dogwood St, Boston, MA 02215        | Boston       |MA   |12   |\n",
      "|297714 |USB-C Charging Cable      |1       |11.95 |2019-12-01 12:42:00|552 1st St, Los Angeles, CA 90001       | Los Angeles  |CA   |12   |\n",
      "|297755 |USB-C Charging Cable      |1       |11.95 |2019-12-30 18:51:00|79 Spruce St, Los Angeles, CA 90001     | Los Angeles  |CA   |12   |\n",
      "|297785 |AAA Batteries (4-pack)    |1       |2.99  |2019-12-19 20:20:00|696 Lakeview St, San Francisco, CA 94016| San Francisco|CA   |12   |\n",
      "|298167 |Wired Headphones          |1       |11.99 |2019-12-28 19:30:00|480 Walnut St, Los Angeles, CA 90001    | Los Angeles  |CA   |12   |\n",
      "|298561 |27in 4K Gaming Monitor    |1       |389.99|2019-12-11 19:41:00|806 1st St, San Francisco, CA 94016     | San Francisco|CA   |12   |\n",
      "|298605 |Macbook Pro Laptop        |1       |1700.0|2019-12-14 16:26:00|142 West St, Boston, MA 02215           | Boston       |MA   |12   |\n",
      "|298748 |AAA Batteries (4-pack)    |1       |2.99  |2019-12-22 12:48:00|797 13th St, Los Angeles, CA 90001      | Los Angeles  |CA   |12   |\n",
      "|299411 |USB-C Charging Cable      |1       |11.95 |2019-12-21 14:35:00|29 North St, Atlanta, GA 30301          | Atlanta      |GA   |12   |\n",
      "|299438 |Wired Headphones          |1       |11.99 |2019-12-27 17:37:00|679 Lake St, San Francisco, CA 94016    | San Francisco|CA   |12   |\n",
      "|299449 |Bose SoundSport Headphones|1       |99.99 |2019-12-12 15:15:00|511 13th St, New York City, NY 10001    | New York City|NY   |12   |\n",
      "|299452 |AAA Batteries (4-pack)    |1       |2.99  |2019-12-21 19:44:00|721 9th St, Atlanta, GA 30301           | Atlanta      |GA   |12   |\n",
      "+-------+--------------------------+--------+------+-------------------+----------------------------------------+--------------+-----+-----+\n",
      "only showing top 20 rows\n",
      "\n"
     ]
    }
   ],
   "source": [
    "sales_2019=spark.read.parquet(full_path)\n",
    "sales_2019.show(truncate=False)"
   ]
  },
  {
   "cell_type": "code",
   "execution_count": 59,
   "id": "d2af0f22",
   "metadata": {},
   "outputs": [],
   "source": [
    "#best month in sales\n",
    "from pyspark.sql.functions import round,sum,expr\n",
    "import pandas as pd\n",
    "import matplotlib.pyplot as plt\n",
    "import seaborn as sns"
   ]
  },
  {
   "cell_type": "code",
   "execution_count": 60,
   "id": "0579d5a9",
   "metadata": {},
   "outputs": [],
   "source": [
    "sales_q1 = (sales_2019.select(\n",
    "col('OrderID'),\n",
    "col('Month'),\n",
    "col('Price'),\n",
    "col('Quantity'),\n",
    "expr('Price * Quantity').alias('Sales')))"
   ]
  },
  {
   "cell_type": "code",
   "execution_count": 61,
   "id": "591296c7",
   "metadata": {},
   "outputs": [
    {
     "name": "stdout",
     "output_type": "stream",
     "text": [
      "+-------+-----+------+--------+------+\n",
      "|OrderID|Month| Price|Quantity| Sales|\n",
      "+-------+-----+------+--------+------+\n",
      "| 295802|   12|379.99|       1|379.99|\n",
      "| 296104|   12| 99.99|       1| 99.99|\n",
      "| 296589|   12|389.99|       1|389.99|\n",
      "| 296705|   12|  2.99|       1|  2.99|\n",
      "| 296864|   12| 11.95|       1| 11.95|\n",
      "| 297048|   12|  3.84|       1|  3.84|\n",
      "| 297156|   12| 300.0|       1| 300.0|\n",
      "| 297256|   12| 14.95|       1| 14.95|\n",
      "| 297483|   12| 700.0|       1| 700.0|\n",
      "| 297714|   12| 11.95|       1| 11.95|\n",
      "+-------+-----+------+--------+------+\n",
      "only showing top 10 rows\n",
      "\n"
     ]
    }
   ],
   "source": [
    "sales_q1.show(10)"
   ]
  },
  {
   "cell_type": "code",
   "execution_count": 62,
   "id": "608ffbf6",
   "metadata": {},
   "outputs": [],
   "source": [
    "sales_q1 = (sales_q1.groupBy('Month')\n",
    "           .agg(round(sum('Sales'),2).alias('TotalSales'))# sum nd rounding off 2 decimal places\n",
    "           .orderBy('TotalSales'))"
   ]
  },
  {
   "cell_type": "code",
   "execution_count": 63,
   "id": "c618d7f1",
   "metadata": {},
   "outputs": [
    {
     "name": "stdout",
     "output_type": "stream",
     "text": [
      "+-----+----------+\n",
      "|Month|TotalSales|\n",
      "+-----+----------+\n",
      "|    1|1812742.86|\n",
      "|    9|2094465.68|\n",
      "|    2|2200078.07|\n",
      "|    8|2241083.36|\n",
      "|    6|2576280.14|\n",
      "|    7|2646461.31|\n",
      "|    3|2804973.34|\n",
      "|    5|3150616.21|\n",
      "|   11|3197875.03|\n",
      "|    4|3389217.96|\n",
      "+-----+----------+\n",
      "only showing top 10 rows\n",
      "\n"
     ]
    }
   ],
   "source": [
    "sales_q1.show(10)"
   ]
  },
  {
   "cell_type": "code",
   "execution_count": 64,
   "id": "3c83e051",
   "metadata": {},
   "outputs": [],
   "source": [
    "pd_Sales = (sales_q1.orderBy('Month')).toPandas()"
   ]
  },
  {
   "cell_type": "code",
   "execution_count": 65,
   "id": "82b688d0",
   "metadata": {},
   "outputs": [
    {
     "data": {
      "text/html": [
       "<div>\n",
       "<style scoped>\n",
       "    .dataframe tbody tr th:only-of-type {\n",
       "        vertical-align: middle;\n",
       "    }\n",
       "\n",
       "    .dataframe tbody tr th {\n",
       "        vertical-align: top;\n",
       "    }\n",
       "\n",
       "    .dataframe thead th {\n",
       "        text-align: right;\n",
       "    }\n",
       "</style>\n",
       "<table border=\"1\" class=\"dataframe\">\n",
       "  <thead>\n",
       "    <tr style=\"text-align: right;\">\n",
       "      <th></th>\n",
       "      <th>Month</th>\n",
       "      <th>TotalSales</th>\n",
       "    </tr>\n",
       "  </thead>\n",
       "  <tbody>\n",
       "    <tr>\n",
       "      <th>0</th>\n",
       "      <td>1</td>\n",
       "      <td>1812742.86</td>\n",
       "    </tr>\n",
       "    <tr>\n",
       "      <th>1</th>\n",
       "      <td>2</td>\n",
       "      <td>2200078.07</td>\n",
       "    </tr>\n",
       "    <tr>\n",
       "      <th>2</th>\n",
       "      <td>3</td>\n",
       "      <td>2804973.34</td>\n",
       "    </tr>\n",
       "    <tr>\n",
       "      <th>3</th>\n",
       "      <td>4</td>\n",
       "      <td>3389217.96</td>\n",
       "    </tr>\n",
       "    <tr>\n",
       "      <th>4</th>\n",
       "      <td>5</td>\n",
       "      <td>3150616.21</td>\n",
       "    </tr>\n",
       "    <tr>\n",
       "      <th>5</th>\n",
       "      <td>6</td>\n",
       "      <td>2576280.14</td>\n",
       "    </tr>\n",
       "    <tr>\n",
       "      <th>6</th>\n",
       "      <td>7</td>\n",
       "      <td>2646461.31</td>\n",
       "    </tr>\n",
       "    <tr>\n",
       "      <th>7</th>\n",
       "      <td>8</td>\n",
       "      <td>2241083.36</td>\n",
       "    </tr>\n",
       "    <tr>\n",
       "      <th>8</th>\n",
       "      <td>9</td>\n",
       "      <td>2094465.68</td>\n",
       "    </tr>\n",
       "    <tr>\n",
       "      <th>9</th>\n",
       "      <td>10</td>\n",
       "      <td>3734777.84</td>\n",
       "    </tr>\n",
       "    <tr>\n",
       "      <th>10</th>\n",
       "      <td>11</td>\n",
       "      <td>3197875.03</td>\n",
       "    </tr>\n",
       "    <tr>\n",
       "      <th>11</th>\n",
       "      <td>12</td>\n",
       "      <td>4608295.68</td>\n",
       "    </tr>\n",
       "  </tbody>\n",
       "</table>\n",
       "</div>"
      ],
      "text/plain": [
       "    Month  TotalSales\n",
       "0       1  1812742.86\n",
       "1       2  2200078.07\n",
       "2       3  2804973.34\n",
       "3       4  3389217.96\n",
       "4       5  3150616.21\n",
       "5       6  2576280.14\n",
       "6       7  2646461.31\n",
       "7       8  2241083.36\n",
       "8       9  2094465.68\n",
       "9      10  3734777.84\n",
       "10     11  3197875.03\n",
       "11     12  4608295.68"
      ]
     },
     "execution_count": 65,
     "metadata": {},
     "output_type": "execute_result"
    }
   ],
   "source": [
    "pd_Sales"
   ]
  },
  {
   "cell_type": "code",
   "execution_count": 66,
   "id": "01a585d7",
   "metadata": {},
   "outputs": [
    {
     "data": {
      "image/png": "[encoded data removed]",
      "text/plain": [
       "<Figure size 720x432 with 1 Axes>"
      ]
     },
     "metadata": {
      "needs_background": "light"
     },
     "output_type": "display_data"
    }
   ],
   "source": [
    "plt.figure(figsize=(10,6))\n",
    "plt.ticklabel_format(useOffset=False,style='plain')\n",
    "sns.set_theme(style='whitegrid')\n",
    "sns.barplot(x='Month',y='TotalSales',data=pd_Sales).set_title('Total Sales Per mOnth')\n",
    "plt.show()"
   ]
  },
  {
   "cell_type": "code",
   "execution_count": 67,
   "id": "4b0812f1",
   "metadata": {},
   "outputs": [
    {
     "name": "stdout",
     "output_type": "stream",
     "text": [
      "+-------+--------------------+--------+------+-------------------+--------------------+--------------+-----+-----+\n",
      "|OrderID|             Product|Quantity| Price|          OrderDate|         StoreAdress|          City|State|Month|\n",
      "+-------+--------------------+--------+------+-------------------+--------------------+--------------+-----+-----+\n",
      "| 295802|34in Ultrawide Mo...|       1|379.99|2019-12-11 19:45:00|838 Ridge St, San...| San Francisco|   CA|   12|\n",
      "| 296104|Bose SoundSport H...|       1| 99.99|2019-12-10 18:32:00|111 Elm St, Los A...|   Los Angeles|   CA|   12|\n",
      "| 296589|27in 4K Gaming Mo...|       1|389.99|2019-12-15 19:44:00|995 Chestnut St, ...|   Los Angeles|   CA|   12|\n",
      "| 296705|AAA Batteries (4-...|       1|  2.99|2019-12-11 11:07:00|664 West St, Los ...|   Los Angeles|   CA|   12|\n",
      "| 296864|USB-C Charging Cable|       1| 11.95|2019-12-06 16:13:00|238 Adams St, San...| San Francisco|   CA|   12|\n",
      "| 297048|AA Batteries (4-p...|       1|  3.84|2019-12-23 18:52:00|731 Walnut St, Lo...|   Los Angeles|   CA|   12|\n",
      "| 297156|       Flatscreen TV|       1| 300.0|2019-12-22 14:46:00|940 1st St, Bosto...|        Boston|   MA|   12|\n",
      "| 297256|Lightning Chargin...|       1| 14.95|2019-12-11 20:25:00|235 Meadow St, Bo...|        Boston|   MA|   12|\n",
      "| 297483|              iPhone|       1| 700.0|2019-12-04 14:55:00|705 Dogwood St, B...|        Boston|   MA|   12|\n",
      "| 297714|USB-C Charging Cable|       1| 11.95|2019-12-01 12:42:00|552 1st St, Los A...|   Los Angeles|   CA|   12|\n",
      "+-------+--------------------+--------+------+-------------------+--------------------+--------------+-----+-----+\n",
      "only showing top 10 rows\n",
      "\n"
     ]
    }
   ],
   "source": [
    "sales_2019.show(10)"
   ]
  },
  {
   "cell_type": "code",
   "execution_count": 68,
   "id": "bd2fe742",
   "metadata": {},
   "outputs": [
    {
     "name": "stdout",
     "output_type": "stream",
     "text": [
      "+-------+--------+--------------+\n",
      "|OrderID|Quantity|          City|\n",
      "+-------+--------+--------------+\n",
      "| 295802|       1| San Francisco|\n",
      "| 296104|       1|   Los Angeles|\n",
      "| 296589|       1|   Los Angeles|\n",
      "| 296705|       1|   Los Angeles|\n",
      "| 296864|       1| San Francisco|\n",
      "| 297048|       1|   Los Angeles|\n",
      "| 297156|       1|        Boston|\n",
      "| 297256|       1|        Boston|\n",
      "| 297483|       1|        Boston|\n",
      "| 297714|       1|   Los Angeles|\n",
      "| 297755|       1|   Los Angeles|\n",
      "| 297785|       1| San Francisco|\n",
      "| 298167|       1|   Los Angeles|\n",
      "| 298561|       1| San Francisco|\n",
      "| 298605|       1|        Boston|\n",
      "| 298748|       1|   Los Angeles|\n",
      "| 299411|       1|       Atlanta|\n",
      "| 299438|       1| San Francisco|\n",
      "| 299449|       1| New York City|\n",
      "| 299452|       1|       Atlanta|\n",
      "+-------+--------+--------------+\n",
      "only showing top 20 rows\n",
      "\n"
     ]
    }
   ],
   "source": [
    "sales_2019.select('OrderID','Quantity','City').show()"
   ]
  },
  {
   "cell_type": "code",
   "execution_count": 69,
   "id": "ac24d31e",
   "metadata": {},
   "outputs": [],
   "source": [
    "#sales per city\n",
    "sales_q2 = (sales_2019.groupBy('City')\n",
    ".agg(sum('quantity').alias('TotalProducts'))\n",
    ".orderBy('Totalproducts',ascending =False))"
   ]
  },
  {
   "cell_type": "code",
   "execution_count": 70,
   "id": "e6e1969a",
   "metadata": {},
   "outputs": [
    {
     "name": "stdout",
     "output_type": "stream",
     "text": [
      "+--------------+-------------+\n",
      "|          City|TotalProducts|\n",
      "+--------------+-------------+\n",
      "| San Francisco|        50156|\n",
      "|   Los Angeles|        33246|\n",
      "| New York City|        27887|\n",
      "|        Boston|        22490|\n",
      "|        Dallas|        16705|\n",
      "|       Atlanta|        16584|\n",
      "|       Seattle|        16533|\n",
      "|      Portland|        14035|\n",
      "|        Austin|        11135|\n",
      "+--------------+-------------+\n",
      "\n"
     ]
    }
   ],
   "source": [
    "sales_q2.show()"
   ]
  },
  {
   "cell_type": "code",
   "execution_count": 71,
   "id": "f492fb07",
   "metadata": {},
   "outputs": [],
   "source": [
    "pd_Sales_q2 = (sales_q2.toPandas())"
   ]
  },
  {
   "cell_type": "code",
   "execution_count": 72,
   "id": "b7253a9a",
   "metadata": {},
   "outputs": [
    {
     "data": {
      "text/html": [
       "<div>\n",
       "<style scoped>\n",
       "    .dataframe tbody tr th:only-of-type {\n",
       "        vertical-align: middle;\n",
       "    }\n",
       "\n",
       "    .dataframe tbody tr th {\n",
       "        vertical-align: top;\n",
       "    }\n",
       "\n",
       "    .dataframe thead th {\n",
       "        text-align: right;\n",
       "    }\n",
       "</style>\n",
       "<table border=\"1\" class=\"dataframe\">\n",
       "  <thead>\n",
       "    <tr style=\"text-align: right;\">\n",
       "      <th></th>\n",
       "      <th>City</th>\n",
       "      <th>TotalProducts</th>\n",
       "    </tr>\n",
       "  </thead>\n",
       "  <tbody>\n",
       "    <tr>\n",
       "      <th>0</th>\n",
       "      <td>San Francisco</td>\n",
       "      <td>50156</td>\n",
       "    </tr>\n",
       "    <tr>\n",
       "      <th>1</th>\n",
       "      <td>Los Angeles</td>\n",
       "      <td>33246</td>\n",
       "    </tr>\n",
       "    <tr>\n",
       "      <th>2</th>\n",
       "      <td>New York City</td>\n",
       "      <td>27887</td>\n",
       "    </tr>\n",
       "    <tr>\n",
       "      <th>3</th>\n",
       "      <td>Boston</td>\n",
       "      <td>22490</td>\n",
       "    </tr>\n",
       "    <tr>\n",
       "      <th>4</th>\n",
       "      <td>Dallas</td>\n",
       "      <td>16705</td>\n",
       "    </tr>\n",
       "    <tr>\n",
       "      <th>5</th>\n",
       "      <td>Atlanta</td>\n",
       "      <td>16584</td>\n",
       "    </tr>\n",
       "    <tr>\n",
       "      <th>6</th>\n",
       "      <td>Seattle</td>\n",
       "      <td>16533</td>\n",
       "    </tr>\n",
       "    <tr>\n",
       "      <th>7</th>\n",
       "      <td>Portland</td>\n",
       "      <td>14035</td>\n",
       "    </tr>\n",
       "    <tr>\n",
       "      <th>8</th>\n",
       "      <td>Austin</td>\n",
       "      <td>11135</td>\n",
       "    </tr>\n",
       "  </tbody>\n",
       "</table>\n",
       "</div>"
      ],
      "text/plain": [
       "             City  TotalProducts\n",
       "0   San Francisco          50156\n",
       "1     Los Angeles          33246\n",
       "2   New York City          27887\n",
       "3          Boston          22490\n",
       "4          Dallas          16705\n",
       "5         Atlanta          16584\n",
       "6         Seattle          16533\n",
       "7        Portland          14035\n",
       "8          Austin          11135"
      ]
     },
     "execution_count": 72,
     "metadata": {},
     "output_type": "execute_result"
    }
   ],
   "source": [
    "pd_Sales_q2"
   ]
  },
  {
   "cell_type": "code",
   "execution_count": 73,
   "id": "5e2a4417",
   "metadata": {},
   "outputs": [
    {
     "data": {
      "image/png": "[encoded data removed]",
      "text/plain": [
       "<Figure size 720x432 with 1 Axes>"
      ]
     },
     "metadata": {},
     "output_type": "display_data"
    }
   ],
   "source": [
    "plt.figure(figsize=(10,6))\n",
    "plt.ticklabel_format(useOffset=False,style='plain')\n",
    "sns.set_theme(style='darkgrid')\n",
    "sns.barplot(x='TotalProducts',y='City',data=pd_Sales_q2).set_title('Total sales per city')\n",
    "plt.xlabel('TotalProducts')\n",
    "plt.show()"
   ]
  },
  {
   "cell_type": "code",
   "execution_count": 74,
   "id": "fddfd91b",
   "metadata": {},
   "outputs": [],
   "source": [
    "#what products are often sold in NY city\n",
    "from pyspark.sql.functions import collect_list,size"
   ]
  },
  {
   "cell_type": "code",
   "execution_count": 75,
   "id": "47389b1c",
   "metadata": {},
   "outputs": [
    {
     "name": "stdout",
     "output_type": "stream",
     "text": [
      "+-------+--------------------+--------+------+-------------------+--------------------+--------------+-----+-----+\n",
      "|OrderID|             Product|Quantity| Price|          OrderDate|         StoreAdress|          City|State|Month|\n",
      "+-------+--------------------+--------+------+-------------------+--------------------+--------------+-----+-----+\n",
      "| 295802|34in Ultrawide Mo...|       1|379.99|2019-12-11 19:45:00|838 Ridge St, San...| San Francisco|   CA|   12|\n",
      "| 296104|Bose SoundSport H...|       1| 99.99|2019-12-10 18:32:00|111 Elm St, Los A...|   Los Angeles|   CA|   12|\n",
      "| 296589|27in 4K Gaming Mo...|       1|389.99|2019-12-15 19:44:00|995 Chestnut St, ...|   Los Angeles|   CA|   12|\n",
      "| 296705|AAA Batteries (4-...|       1|  2.99|2019-12-11 11:07:00|664 West St, Los ...|   Los Angeles|   CA|   12|\n",
      "| 296864|USB-C Charging Cable|       1| 11.95|2019-12-06 16:13:00|238 Adams St, San...| San Francisco|   CA|   12|\n",
      "| 297048|AA Batteries (4-p...|       1|  3.84|2019-12-23 18:52:00|731 Walnut St, Lo...|   Los Angeles|   CA|   12|\n",
      "| 297156|       Flatscreen TV|       1| 300.0|2019-12-22 14:46:00|940 1st St, Bosto...|        Boston|   MA|   12|\n",
      "| 297256|Lightning Chargin...|       1| 14.95|2019-12-11 20:25:00|235 Meadow St, Bo...|        Boston|   MA|   12|\n",
      "| 297483|              iPhone|       1| 700.0|2019-12-04 14:55:00|705 Dogwood St, B...|        Boston|   MA|   12|\n",
      "| 297714|USB-C Charging Cable|       1| 11.95|2019-12-01 12:42:00|552 1st St, Los A...|   Los Angeles|   CA|   12|\n",
      "| 297755|USB-C Charging Cable|       1| 11.95|2019-12-30 18:51:00|79 Spruce St, Los...|   Los Angeles|   CA|   12|\n",
      "| 297785|AAA Batteries (4-...|       1|  2.99|2019-12-19 20:20:00|696 Lakeview St, ...| San Francisco|   CA|   12|\n",
      "| 298167|    Wired Headphones|       1| 11.99|2019-12-28 19:30:00|480 Walnut St, Lo...|   Los Angeles|   CA|   12|\n",
      "| 298561|27in 4K Gaming Mo...|       1|389.99|2019-12-11 19:41:00|806 1st St, San F...| San Francisco|   CA|   12|\n",
      "| 298605|  Macbook Pro Laptop|       1|1700.0|2019-12-14 16:26:00|142 West St, Bost...|        Boston|   MA|   12|\n",
      "| 298748|AAA Batteries (4-...|       1|  2.99|2019-12-22 12:48:00|797 13th St, Los ...|   Los Angeles|   CA|   12|\n",
      "| 299411|USB-C Charging Cable|       1| 11.95|2019-12-21 14:35:00|29 North St, Atla...|       Atlanta|   GA|   12|\n",
      "| 299438|    Wired Headphones|       1| 11.99|2019-12-27 17:37:00|679 Lake St, San ...| San Francisco|   CA|   12|\n",
      "| 299449|Bose SoundSport H...|       1| 99.99|2019-12-12 15:15:00|511 13th St, New ...| New York City|   NY|   12|\n",
      "| 299452|AAA Batteries (4-...|       1|  2.99|2019-12-21 19:44:00|721 9th St, Atlan...|       Atlanta|   GA|   12|\n",
      "+-------+--------------------+--------+------+-------------------+--------------------+--------------+-----+-----+\n",
      "only showing top 20 rows\n",
      "\n"
     ]
    }
   ],
   "source": [
    "sales_2019.show()"
   ]
  },
  {
   "cell_type": "code",
   "execution_count": 78,
   "id": "8cb28df9",
   "metadata": {},
   "outputs": [],
   "source": [
    "sales_q4 = (sales_2019.where(col('State')==\"NY\")\n",
    "                        .orderBy('OrderID','Product')\n",
    "            .groupBy('OrderID','State')\n",
    "            .agg(collect_list('Product').alias('ProductList')))"
   ]
  },
  {
   "cell_type": "code",
   "execution_count": 79,
   "id": "3dd3fe04",
   "metadata": {},
   "outputs": [
    {
     "name": "stdout",
     "output_type": "stream",
     "text": [
      "+-------+-----+----------------------------+\n",
      "|OrderID|State|ProductList                 |\n",
      "+-------+-----+----------------------------+\n",
      "|141264 |NY   |[Apple Airpods Headphones]  |\n",
      "|141268 |NY   |[AA Batteries (4-pack)]     |\n",
      "|141272 |NY   |[AAA Batteries (4-pack)]    |\n",
      "|141278 |NY   |[Lightning Charging Cable]  |\n",
      "|141282 |NY   |[Vareebadd Phone]           |\n",
      "|141301 |NY   |[Apple Airpods Headphones]  |\n",
      "|141314 |NY   |[Macbook Pro Laptop]        |\n",
      "|141317 |NY   |[27in FHD Monitor]          |\n",
      "|141323 |NY   |[USB-C Charging Cable]      |\n",
      "|141343 |NY   |[Bose SoundSport Headphones]|\n",
      "+-------+-----+----------------------------+\n",
      "only showing top 10 rows\n",
      "\n"
     ]
    }
   ],
   "source": [
    "sales_q4.show(10,False)"
   ]
  },
  {
   "cell_type": "code",
   "execution_count": 80,
   "id": "9f248b2e",
   "metadata": {},
   "outputs": [
    {
     "name": "stdout",
     "output_type": "stream",
     "text": [
      "+-------+-----+----------------------------------------+---------------+\n",
      "|OrderID|State|ProductList                             |ProductListsize|\n",
      "+-------+-----+----------------------------------------+---------------+\n",
      "|253929 |NY   |[20in Monitor, 27in 4K Gaming Monitor]  |2              |\n",
      "|197004 |NY   |[20in Monitor, AA Batteries (4-pack)]   |2              |\n",
      "|158102 |NY   |[20in Monitor, AA Batteries (4-pack)]   |2              |\n",
      "|248053 |NY   |[20in Monitor, AA Batteries (4-pack)]   |2              |\n",
      "|266247 |NY   |[20in Monitor, AA Batteries (4-pack)]   |2              |\n",
      "|176251 |NY   |[20in Monitor, AAA Batteries (4-pack)]  |2              |\n",
      "|245465 |NY   |[20in Monitor, AAA Batteries (4-pack)]  |2              |\n",
      "|194762 |NY   |[20in Monitor, AAA Batteries (4-pack)]  |2              |\n",
      "|204645 |NY   |[20in Monitor, Apple Airpods Headphones]|2              |\n",
      "|234956 |NY   |[20in Monitor, Apple Airpods Headphones]|2              |\n",
      "+-------+-----+----------------------------------------+---------------+\n",
      "only showing top 10 rows\n",
      "\n"
     ]
    }
   ],
   "source": [
    "sales_q4=(sales_q4.withColumn('ProductListsize',size('ProductList')))\n",
    "sales_q4.filter(col('productListsize')>1).orderBy('ProductList').show(10,False)"
   ]
  },
  {
   "cell_type": "code",
   "execution_count": 82,
   "id": "baa3c559",
   "metadata": {},
   "outputs": [
    {
     "name": "stdout",
     "output_type": "stream",
     "text": [
      "+-------------------------------------------------+-----+\n",
      "|ProductList                                      |count|\n",
      "+-------------------------------------------------+-----+\n",
      "|[Google Phone, USB-C Charging Cable]             |127  |\n",
      "|[Lightning Charging Cable, iPhone]               |126  |\n",
      "|[Google Phone, Wired Headphones]                 |53   |\n",
      "|[USB-C Charging Cable, Vareebadd Phone]          |50   |\n",
      "|[Wired Headphones, iPhone]                       |46   |\n",
      "|[Apple Airpods Headphones, iPhone]               |45   |\n",
      "|[Bose SoundSport Headphones, Google Phone]       |24   |\n",
      "|[Apple Airpods Headphones, Wired Headphones]     |19   |\n",
      "|[Vareebadd Phone, Wired Headphones]              |17   |\n",
      "|[AA Batteries (4-pack), Lightning Charging Cable]|16   |\n",
      "+-------------------------------------------------+-----+\n",
      "only showing top 10 rows\n",
      "\n"
     ]
    }
   ],
   "source": [
    "(sales_q4.filter(col('productListsize')>1)\n",
    " .groupBy('ProductList')\n",
    " .count()\n",
    " .orderBy('count',ascending=False)).show(10,False)"
   ]
  },
  {
   "cell_type": "markdown",
   "id": "14fcc4d2",
   "metadata": {},
   "source": [
    "# Databricks "
   ]
  },
  {
   "cell_type": "code",
   "execution_count": 1,
   "id": "c0f58ad3",
   "metadata": {},
   "outputs": [],
   "source": [
    "import findspark\n",
    "findspark.init()\n",
    "from pyspark.sql import SparkSession\n",
    "from pyspark.sql.types import StructType,StructField,StringType\n",
    "spark =(SparkSession.builder.appName('Sales').getOrCreate())"
   ]
  },
  {
   "cell_type": "code",
   "execution_count": 2,
   "id": "05745a86",
   "metadata": {},
   "outputs": [],
   "source": [
    "schema =StructType([\n",
    "    StructField('Order ID',StringType(),True),\n",
    "    StructField('Product',StringType(),True),\n",
    "    StructField('Quantity Ordered',StringType(),True),\n",
    "    StructField('Price Each',StringType(),True),\n",
    "    StructField('Order Date',StringType(),True),\n",
    "    StructField('Purchase Address',StringType(),True),\n",
    "])"
   ]
  },
  {
   "cell_type": "code",
   "execution_count": 3,
   "id": "690410f2",
   "metadata": {},
   "outputs": [],
   "source": [
    "#for data brick 'dbfs:/filestore/data/raw'\n",
    "path =r'C:\\Users\\syed3\\csv_spark\\salesdata'\n",
    "sales_df=(spark.read.format('csv').option('header',True)\n",
    "           .schema(schema)\n",
    "           .load(path))"
   ]
  },
  {
   "cell_type": "code",
   "execution_count": 4,
   "id": "9c391120",
   "metadata": {},
   "outputs": [
    {
     "name": "stdout",
     "output_type": "stream",
     "text": [
      "root\n",
      " |-- Order ID: string (nullable = true)\n",
      " |-- Product: string (nullable = true)\n",
      " |-- Quantity Ordered: string (nullable = true)\n",
      " |-- Price Each: string (nullable = true)\n",
      " |-- Order Date: string (nullable = true)\n",
      " |-- Purchase Address: string (nullable = true)\n",
      "\n"
     ]
    }
   ],
   "source": [
    "sales_df.printSchema()"
   ]
  },
  {
   "cell_type": "code",
   "execution_count": 5,
   "id": "1907cdd0",
   "metadata": {},
   "outputs": [
    {
     "data": {
      "text/plain": [
       "DataFrame[]"
      ]
     },
     "execution_count": 5,
     "metadata": {},
     "output_type": "execute_result"
    }
   ],
   "source": [
    "spark.sql(\"CREATE DATABASE IF NOT EXISTS sales_db\")"
   ]
  },
  {
   "cell_type": "code",
   "execution_count": 6,
   "id": "da8c7af2",
   "metadata": {},
   "outputs": [
    {
     "data": {
      "text/plain": [
       "DataFrame[]"
      ]
     },
     "execution_count": 6,
     "metadata": {},
     "output_type": "execute_result"
    }
   ],
   "source": [
    "spark.sql('use sales_db')"
   ]
  },
  {
   "cell_type": "code",
   "execution_count": 10,
   "id": "bf1ca557",
   "metadata": {},
   "outputs": [
    {
     "ename": "AnalysisException",
     "evalue": "Hive support is required to CREATE Hive TABLE (AS SELECT);\n'CreateTable `sales_db`.`sales_raw`, org.apache.hadoop.hive.serde2.lazy.LazySimpleSerDe, Ignore\n",
     "output_type": "error",
     "traceback": [
      "\u001b[1;31m---------------------------------------------------------------------------\u001b[0m",
      "\u001b[1;31mAnalysisException\u001b[0m                         Traceback (most recent call last)",
      "\u001b[1;32m~\\AppData\\Local\\Temp/ipykernel_13904/3605623913.py\u001b[0m in \u001b[0;36m<module>\u001b[1;34m\u001b[0m\n\u001b[1;32m----> 1\u001b[1;33m spark.sql('''CREATE TABLE IF NOT EXISTS sales_raw(\n\u001b[0m\u001b[0;32m      2\u001b[0m                     \u001b[0mOrderID\u001b[0m \u001b[0mSTRING\u001b[0m\u001b[1;33m,\u001b[0m\u001b[1;33m\u001b[0m\u001b[1;33m\u001b[0m\u001b[0m\n\u001b[0;32m      3\u001b[0m                     \u001b[0mProduct\u001b[0m \u001b[0mSTRING\u001b[0m\u001b[1;33m,\u001b[0m\u001b[1;33m\u001b[0m\u001b[1;33m\u001b[0m\u001b[0m\n\u001b[0;32m      4\u001b[0m                     \u001b[0mQuantityOrdered\u001b[0m \u001b[0mSTRING\u001b[0m\u001b[1;33m,\u001b[0m\u001b[1;33m\u001b[0m\u001b[1;33m\u001b[0m\u001b[0m\n\u001b[0;32m      5\u001b[0m                     \u001b[0mPriceEach\u001b[0m \u001b[0mSTRING\u001b[0m\u001b[1;33m,\u001b[0m\u001b[1;33m\u001b[0m\u001b[1;33m\u001b[0m\u001b[0m\n",
      "\u001b[1;32mC:\\spark\\spark-3.2.1-bin-hadoop3.2\\python\\pyspark\\sql\\session.py\u001b[0m in \u001b[0;36msql\u001b[1;34m(self, sqlQuery)\u001b[0m\n\u001b[0;32m    721\u001b[0m         \u001b[1;33m[\u001b[0m\u001b[0mRow\u001b[0m\u001b[1;33m(\u001b[0m\u001b[0mf1\u001b[0m\u001b[1;33m=\u001b[0m\u001b[1;36m1\u001b[0m\u001b[1;33m,\u001b[0m \u001b[0mf2\u001b[0m\u001b[1;33m=\u001b[0m\u001b[1;34m'row1'\u001b[0m\u001b[1;33m)\u001b[0m\u001b[1;33m,\u001b[0m \u001b[0mRow\u001b[0m\u001b[1;33m(\u001b[0m\u001b[0mf1\u001b[0m\u001b[1;33m=\u001b[0m\u001b[1;36m2\u001b[0m\u001b[1;33m,\u001b[0m \u001b[0mf2\u001b[0m\u001b[1;33m=\u001b[0m\u001b[1;34m'row2'\u001b[0m\u001b[1;33m)\u001b[0m\u001b[1;33m,\u001b[0m \u001b[0mRow\u001b[0m\u001b[1;33m(\u001b[0m\u001b[0mf1\u001b[0m\u001b[1;33m=\u001b[0m\u001b[1;36m3\u001b[0m\u001b[1;33m,\u001b[0m \u001b[0mf2\u001b[0m\u001b[1;33m=\u001b[0m\u001b[1;34m'row3'\u001b[0m\u001b[1;33m)\u001b[0m\u001b[1;33m]\u001b[0m\u001b[1;33m\u001b[0m\u001b[1;33m\u001b[0m\u001b[0m\n\u001b[0;32m    722\u001b[0m         \"\"\"\n\u001b[1;32m--> 723\u001b[1;33m         \u001b[1;32mreturn\u001b[0m \u001b[0mDataFrame\u001b[0m\u001b[1;33m(\u001b[0m\u001b[0mself\u001b[0m\u001b[1;33m.\u001b[0m\u001b[0m_jsparkSession\u001b[0m\u001b[1;33m.\u001b[0m\u001b[0msql\u001b[0m\u001b[1;33m(\u001b[0m\u001b[0msqlQuery\u001b[0m\u001b[1;33m)\u001b[0m\u001b[1;33m,\u001b[0m \u001b[0mself\u001b[0m\u001b[1;33m.\u001b[0m\u001b[0m_wrapped\u001b[0m\u001b[1;33m)\u001b[0m\u001b[1;33m\u001b[0m\u001b[1;33m\u001b[0m\u001b[0m\n\u001b[0m\u001b[0;32m    724\u001b[0m \u001b[1;33m\u001b[0m\u001b[0m\n\u001b[0;32m    725\u001b[0m     \u001b[1;32mdef\u001b[0m \u001b[0mtable\u001b[0m\u001b[1;33m(\u001b[0m\u001b[0mself\u001b[0m\u001b[1;33m,\u001b[0m \u001b[0mtableName\u001b[0m\u001b[1;33m)\u001b[0m\u001b[1;33m:\u001b[0m\u001b[1;33m\u001b[0m\u001b[1;33m\u001b[0m\u001b[0m\n",
      "\u001b[1;32mC:\\spark\\spark-3.2.1-bin-hadoop3.2\\python\\lib\\py4j-0.10.9.3-src.zip\\py4j\\java_gateway.py\u001b[0m in \u001b[0;36m__call__\u001b[1;34m(self, *args)\u001b[0m\n\u001b[0;32m   1319\u001b[0m \u001b[1;33m\u001b[0m\u001b[0m\n\u001b[0;32m   1320\u001b[0m         \u001b[0manswer\u001b[0m \u001b[1;33m=\u001b[0m \u001b[0mself\u001b[0m\u001b[1;33m.\u001b[0m\u001b[0mgateway_client\u001b[0m\u001b[1;33m.\u001b[0m\u001b[0msend_command\u001b[0m\u001b[1;33m(\u001b[0m\u001b[0mcommand\u001b[0m\u001b[1;33m)\u001b[0m\u001b[1;33m\u001b[0m\u001b[1;33m\u001b[0m\u001b[0m\n\u001b[1;32m-> 1321\u001b[1;33m         return_value = get_return_value(\n\u001b[0m\u001b[0;32m   1322\u001b[0m             answer, self.gateway_client, self.target_id, self.name)\n\u001b[0;32m   1323\u001b[0m \u001b[1;33m\u001b[0m\u001b[0m\n",
      "\u001b[1;32mC:\\spark\\spark-3.2.1-bin-hadoop3.2\\python\\pyspark\\sql\\utils.py\u001b[0m in \u001b[0;36mdeco\u001b[1;34m(*a, **kw)\u001b[0m\n\u001b[0;32m    115\u001b[0m                 \u001b[1;31m# Hide where the exception came from that shows a non-Pythonic\u001b[0m\u001b[1;33m\u001b[0m\u001b[1;33m\u001b[0m\u001b[0m\n\u001b[0;32m    116\u001b[0m                 \u001b[1;31m# JVM exception message.\u001b[0m\u001b[1;33m\u001b[0m\u001b[1;33m\u001b[0m\u001b[0m\n\u001b[1;32m--> 117\u001b[1;33m                 \u001b[1;32mraise\u001b[0m \u001b[0mconverted\u001b[0m \u001b[1;32mfrom\u001b[0m \u001b[1;32mNone\u001b[0m\u001b[1;33m\u001b[0m\u001b[1;33m\u001b[0m\u001b[0m\n\u001b[0m\u001b[0;32m    118\u001b[0m             \u001b[1;32melse\u001b[0m\u001b[1;33m:\u001b[0m\u001b[1;33m\u001b[0m\u001b[1;33m\u001b[0m\u001b[0m\n\u001b[0;32m    119\u001b[0m                 \u001b[1;32mraise\u001b[0m\u001b[1;33m\u001b[0m\u001b[1;33m\u001b[0m\u001b[0m\n",
      "\u001b[1;31mAnalysisException\u001b[0m: Hive support is required to CREATE Hive TABLE (AS SELECT);\n'CreateTable `sales_db`.`sales_raw`, org.apache.hadoop.hive.serde2.lazy.LazySimpleSerDe, Ignore\n"
     ]
    }
   ],
   "source": [
    "# RUN SPARK_SQL IN databrciks works Fine\n",
    "spark.sql('''CREATE TABLE IF NOT EXISTS sales_raw(\n",
    "                    OrderID STRING,\n",
    "                    Product STRING,\n",
    "                    QuantityOrdered STRING,\n",
    "                    PriceEach STRING,\n",
    "                    OrderDate STRING,\n",
    "                    PurchaseAddress STRING)\n",
    "                    ''')"
   ]
  },
  {
   "cell_type": "markdown",
   "id": "237b145d",
   "metadata": {},
   "source": [
    "# moviedataset"
   ]
  },
  {
   "cell_type": "code",
   "execution_count": 113,
   "id": "660e2a2b",
   "metadata": {},
   "outputs": [],
   "source": [
    "import findspark\n",
    "findspark.init()\n",
    "from pyspark import SparkContext, SparkConf\n",
    "\n",
    "# this function just creates a python dict we can later use to convert movie_id to movie name printing out the final_result\n",
    "\n",
    "def loadMoviesNames():\n",
    "    movie = {}\n",
    "    d=0\n",
    "    c=10\n",
    "    with open(r'C:\\Users\\syed3\\ml-100k\\u.item') as f:\n",
    "        for line in f:\n",
    "#         if d < c:\n",
    "            field = line.split('|')\n",
    "\n",
    "            #print(field[0],field[1])\n",
    "            movie[int(field[0])] = field[1] \n",
    "            #print(movie)\n",
    "                #d+=1\n",
    "                #print(movie)\n",
    "            #print(movie[int(field[0])])\n",
    "    #print((movie.values()))\n",
    "    return movie\n",
    "#Take each line of u.data and convert it to (movieID,(rating,1.0)) This way we can then add all \n",
    "#the ratings for each movie, and the total number of ratings for each movie (which lets us compute the average)\n",
    "def parseInput(line):\n",
    "    fields = line.split()\n",
    "    return (int(fields[1]),(float(fields[2]),1.0))\n",
    "if __name__ == '__main__':\n",
    "    conf = SparkConf().setAppName('worstMovies')\n",
    "    sc = SparkContext(conf= conf)\n",
    "    \n",
    "    movieNames = loadMoviesNames()\n",
    "    \n",
    "    \n",
    "    lines = sc.textFile(r'C:\\Users\\syed3\\ml-100k\\u.data')\n",
    "    \n",
    "    \n",
    "    movieRatings = lines.map(parseInput)\n",
    "    \n",
    "    \n",
    "    ratingTotalsAndCount = movieRatings.reduceByKey(lambda movie1 ,movie2: (movie[0] + movie[1]))\n",
    "    \n",
    "    \n",
    "    averageRatings = ratingTotalsAndCount.mapValues(lambda totalAndCount: totalAndCount[0] / totalAndCount[1])\n",
    "    \n",
    "    \n",
    "    sortedMovies = averageRatings.sortBy(lambda x:x[1])\n",
    "    \n",
    "    \n",
    "    results = sortedMovies.take(10)"
   ]
  },
  {
   "cell_type": "code",
   "execution_count": 114,
   "id": "3d16ebff",
   "metadata": {},
   "outputs": [
    {
     "name": "stdout",
     "output_type": "stream",
     "text": [
      "1|Toy Story (1995)|01-Jan-1995||http://us.imdb.com/M/title-exact?Toy%20Story%20(1995)|0|0|0|1|1|1|0|0|0|0|0|0|0|0|0|0|0|0|0\n",
      "\n"
     ]
    }
   ],
   "source": [
    "loadMoviesNames()"
   ]
  },
  {
   "cell_type": "code",
   "execution_count": 127,
   "id": "99fa471a",
   "metadata": {},
   "outputs": [
    {
     "name": "stdout",
     "output_type": "stream",
     "text": [
      "242 (3.0, 1.0)\n"
     ]
    }
   ],
   "source": [
    "m={}\n",
    "with open( r'C:\\Users\\syed3\\ml-100k\\u.data') as line:\n",
    "    for i in line:\n",
    "        fields = i.split()\n",
    "        print(int(fields[1]),(float(fields[2]),1.0))\n",
    "        break"
   ]
  },
  {
   "cell_type": "code",
   "execution_count": 128,
   "id": "b644109a",
   "metadata": {
    "collapsed": true
   },
   "outputs": [
    {
     "ename": "AttributeError",
     "evalue": "'_io.TextIOWrapper' object has no attribute 'split'",
     "output_type": "error",
     "traceback": [
      "\u001b[1;31m---------------------------------------------------------------------------\u001b[0m",
      "\u001b[1;31mAttributeError\u001b[0m                            Traceback (most recent call last)",
      "\u001b[1;32m~\\AppData\\Local\\Temp/ipykernel_10800/708618588.py\u001b[0m in \u001b[0;36m<module>\u001b[1;34m\u001b[0m\n\u001b[1;32m----> 1\u001b[1;33m \u001b[0mparseInput\u001b[0m\u001b[1;33m(\u001b[0m\u001b[0mline\u001b[0m\u001b[1;33m)\u001b[0m\u001b[1;33m\u001b[0m\u001b[1;33m\u001b[0m\u001b[0m\n\u001b[0m",
      "\u001b[1;32m~\\AppData\\Local\\Temp/ipykernel_10800/1127844011.py\u001b[0m in \u001b[0;36mparseInput\u001b[1;34m(line)\u001b[0m\n\u001b[0;32m      1\u001b[0m \u001b[0mline\u001b[0m \u001b[1;33m=\u001b[0m \u001b[1;34mr'C:\\Users\\syed3\\ml-100k\\u.data'\u001b[0m\u001b[1;33m\u001b[0m\u001b[1;33m\u001b[0m\u001b[0m\n\u001b[0;32m      2\u001b[0m \u001b[1;32mdef\u001b[0m \u001b[0mparseInput\u001b[0m\u001b[1;33m(\u001b[0m\u001b[0mline\u001b[0m\u001b[1;33m)\u001b[0m\u001b[1;33m:\u001b[0m\u001b[1;33m\u001b[0m\u001b[1;33m\u001b[0m\u001b[0m\n\u001b[1;32m----> 3\u001b[1;33m     \u001b[0mfields\u001b[0m \u001b[1;33m=\u001b[0m \u001b[0mline\u001b[0m\u001b[1;33m.\u001b[0m\u001b[0msplit\u001b[0m\u001b[1;33m(\u001b[0m\u001b[1;33m)\u001b[0m\u001b[1;33m\u001b[0m\u001b[1;33m\u001b[0m\u001b[0m\n\u001b[0m\u001b[0;32m      4\u001b[0m     \u001b[0mprint\u001b[0m\u001b[1;33m(\u001b[0m\u001b[0mfields\u001b[0m\u001b[1;33m)\u001b[0m\u001b[1;33m\u001b[0m\u001b[1;33m\u001b[0m\u001b[0m\n\u001b[0;32m      5\u001b[0m \u001b[1;31m# return (int(fields[1]),(float(fields[2]),1.0))\u001b[0m\u001b[1;33m\u001b[0m\u001b[1;33m\u001b[0m\u001b[0m\n",
      "\u001b[1;31mAttributeError\u001b[0m: '_io.TextIOWrapper' object has no attribute 'split'"
     ]
    }
   ],
   "source": [
    "parseInput(line)"
   ]
  },
  {
   "cell_type": "code",
   "execution_count": null,
   "id": "81c1f837",
   "metadata": {},
   "outputs": [],
   "source": []
  }
 ],
 "metadata": {
  "kernelspec": {
   "display_name": "Python 3 (ipykernel)",
   "language": "python",
   "name": "python3"
  },
  "language_info": {
   "codemirror_mode": {
    "name": "ipython",
    "version": 3
   },
   "file_extension": ".py",
   "mimetype": "text/x-python",
   "name": "python",
   "nbconvert_exporter": "python",
   "pygments_lexer": "ipython3",
   "version": "3.9.7"
  }
 },
 "nbformat": 4,
 "nbformat_minor": 5
}
